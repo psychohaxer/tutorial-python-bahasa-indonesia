{
 "cells": [
  {
   "cell_type": "markdown",
   "metadata": {},
   "source": [
    "# Modul Python Bahasa Indonesia\n",
    "## Seri Kelima\n",
    "___\n",
    "Coded by psychohaxer | Version 1.8 (2020.12.13)\n",
    "___\n",
    "Notebook ini berisi contoh kode dalam Python sekaligus outputnya sebagai referensi dalam coding. Notebook ini boleh disebarluaskan dan diedit tanpa mengubah atau menghilangkan nama pembuatnya. Selamat belajar dan semoga waktu Anda menyenangkan.\n",
    "\n",
    "Catatan: Modul ini menggunakan Python 3\n",
    "___"
   ]
  },
  {
   "cell_type": "markdown",
   "metadata": {},
   "source": [
    "## Bab 5 Operator\n",
    "`Operator` adalah simbol yang digunakan untuk berbagai macam operasi. Mulai dari operasi aritmatika, logika, hingga _bitwise_. Sedangkan nilai yang diproses disebut `operand`. Python memiliki banyak jenis operator."
   ]
  },
  {
   "cell_type": "markdown",
   "metadata": {},
   "source": [
    "### Operator Aritmatika\n",
    "Operator aritmatika adalah operator yang digunakan untuk melakukan operasi matematika, seperti penjumlahan, pengurangan, perkalian, pembagian, dan sebagainya. Tabel berikut menunjukkan jenis operator aritmatika.\n",
    "\n",
    "\n",
    "| Operator \t|                   Nama dan Fungsi                   \t|  Contoh  \t|\n",
    "|:--------:\t|:---------------------------------------------------:\t|:--------:\t|\n",
    "|    `+`   \t| Penjumlahan, menjumlahkan 2 buah operand            \t|  `x + y` \t|\n",
    "|    `–`   \t| Pengurangan, mengurangkan 2 buah operand            \t|  `x – y` \t|\n",
    "|    `*`   \t| Perkalian, mengalikan 2 buah operand                \t|  `x * y` \t|\n",
    "|    `/`   \t| Pembagian, membagi 2 buah operand                   \t|  `x / y` \t|\n",
    "|   `**`   \t| Pemangkatan, memangkatkan bilangan                  \t| `x ** y` \t|\n",
    "|   `//`   \t| Pembagian bulat, menghasilkan hasil bagi tanpa koma \t| `x // y` \t|\n",
    "|    `%`   \t| Modulus, menghasilkan sisa pembagian 2 bilangan     \t|  `x % y` \t|\n",
    "\n",
    "Untuk pembagian, secara default hasilnya bertipe float."
   ]
  },
  {
   "cell_type": "markdown",
   "metadata": {},
   "source": [
    "#### Penjumlahan (`+`)\n",
    "Operator ini memproses bilangan dengan cara menjumlahkannya. Selain itu juga bisa digunakan untuk metode _concatenation_ atau penggabungan pada string."
   ]
  },
  {
   "cell_type": "code",
   "execution_count": 2,
   "metadata": {},
   "outputs": [
    {
     "data": {
      "text/plain": [
       "5"
      ]
     },
     "execution_count": 2,
     "metadata": {},
     "output_type": "execute_result"
    }
   ],
   "source": [
    "## contoh penjumlahan bilangan bulat\n",
    "2 + 3"
   ]
  },
  {
   "cell_type": "code",
   "execution_count": 9,
   "metadata": {},
   "outputs": [
    {
     "data": {
      "text/plain": [
       "26.25"
      ]
     },
     "execution_count": 9,
     "metadata": {},
     "output_type": "execute_result"
    }
   ],
   "source": [
    "## contoh penjumlahan bilangan float\n",
    "22.5 + 3.75"
   ]
  },
  {
   "cell_type": "code",
   "execution_count": 10,
   "metadata": {},
   "outputs": [
    {
     "data": {
      "text/plain": [
       "'Hello World'"
      ]
     },
     "execution_count": 10,
     "metadata": {},
     "output_type": "execute_result"
    }
   ],
   "source": [
    "## contoh concatenation\n",
    "'Hello ' + 'World'"
   ]
  },
  {
   "cell_type": "markdown",
   "metadata": {},
   "source": [
    "#### Pengurangan (`-`)\n",
    "Operator ini memproses bilangan dengan cara mengurangkannya. Berbeda dengan operator penjumlahan, pengurangan tidak bisa digunakan untuk memproses string."
   ]
  },
  {
   "cell_type": "code",
   "execution_count": 12,
   "metadata": {},
   "outputs": [
    {
     "data": {
      "text/plain": [
       "5"
      ]
     },
     "execution_count": 12,
     "metadata": {},
     "output_type": "execute_result"
    }
   ],
   "source": [
    "## contoh pengurangan bilangan bulat\n",
    "7 - 2"
   ]
  },
  {
   "cell_type": "code",
   "execution_count": 14,
   "metadata": {},
   "outputs": [
    {
     "data": {
      "text/plain": [
       "69.675"
      ]
     },
     "execution_count": 14,
     "metadata": {},
     "output_type": "execute_result"
    }
   ],
   "source": [
    "## contoh pengurangan bilangan float\n",
    "85.25 - 21.25"
   ]
  },
  {
   "cell_type": "code",
   "execution_count": 11,
   "metadata": {},
   "outputs": [
    {
     "ename": "TypeError",
     "evalue": "unsupported operand type(s) for -: 'str' and 'str'",
     "output_type": "error",
     "traceback": [
      "\u001b[1;31m---------------------------------------------------------------------------\u001b[0m",
      "\u001b[1;31mTypeError\u001b[0m                                 Traceback (most recent call last)",
      "\u001b[1;32m<ipython-input-11-2ca57e6252a9>\u001b[0m in \u001b[0;36m<module>\u001b[1;34m\u001b[0m\n\u001b[1;32m----> 1\u001b[1;33m \u001b[1;34m'bebek'\u001b[0m \u001b[1;33m-\u001b[0m \u001b[1;34m'b'\u001b[0m\u001b[1;33m\u001b[0m\u001b[1;33m\u001b[0m\u001b[0m\n\u001b[0m",
      "\u001b[1;31mTypeError\u001b[0m: unsupported operand type(s) for -: 'str' and 'str'"
     ]
    }
   ],
   "source": [
    "## mencoba memproses string dengan operator pengurangan\n",
    "'bebek' - 'b'"
   ]
  },
  {
   "cell_type": "markdown",
   "metadata": {},
   "source": [
    "#### Perkalian (`*`)\n",
    "Operator ini memproses bilangan dengan cara mengkalikannya. Operator ini juga dapat \"mengalikan\" string."
   ]
  },
  {
   "cell_type": "code",
   "execution_count": 16,
   "metadata": {},
   "outputs": [
    {
     "data": {
      "text/plain": [
       "12"
      ]
     },
     "execution_count": 16,
     "metadata": {},
     "output_type": "execute_result"
    }
   ],
   "source": [
    "## contoh perkalian bilangan bulat\n",
    "3 * 4"
   ]
  },
  {
   "cell_type": "code",
   "execution_count": 17,
   "metadata": {},
   "outputs": [
    {
     "data": {
      "text/plain": [
       "1202.0904"
      ]
     },
     "execution_count": 17,
     "metadata": {},
     "output_type": "execute_result"
    }
   ],
   "source": [
    "## contoh perkalian bilangan float\n",
    "12.24 * 98.21"
   ]
  },
  {
   "cell_type": "code",
   "execution_count": 19,
   "metadata": {},
   "outputs": [
    {
     "data": {
      "text/plain": [
       "'bongkar bongkar bongkar '"
      ]
     },
     "execution_count": 19,
     "metadata": {},
     "output_type": "execute_result"
    }
   ],
   "source": [
    "## \"perkalian\" string\n",
    "'bongkar ' * 3"
   ]
  },
  {
   "cell_type": "markdown",
   "metadata": {},
   "source": [
    "#### Pembagian (`/`)\n",
    "Operator ini memproses bilangan dengan cara membaginya. Hasilnya pasti float. Tentu saja pembagian tidak bisa digunakan untuk memproses string."
   ]
  },
  {
   "cell_type": "code",
   "execution_count": 5,
   "metadata": {},
   "outputs": [
    {
     "data": {
      "text/plain": [
       "9.0"
      ]
     },
     "execution_count": 5,
     "metadata": {},
     "output_type": "execute_result"
    }
   ],
   "source": [
    "## contoh pembagian bilangan bulat\n",
    "18 / 2"
   ]
  },
  {
   "cell_type": "code",
   "execution_count": 21,
   "metadata": {},
   "outputs": [
    {
     "ename": "TypeError",
     "evalue": "unsupported operand type(s) for /: 'str' and 'int'",
     "output_type": "error",
     "traceback": [
      "\u001b[1;31m---------------------------------------------------------------------------\u001b[0m",
      "\u001b[1;31mTypeError\u001b[0m                                 Traceback (most recent call last)",
      "\u001b[1;32m<ipython-input-21-15cb484ab4b0>\u001b[0m in \u001b[0;36m<module>\u001b[1;34m\u001b[0m\n\u001b[1;32m----> 1\u001b[1;33m \u001b[1;34m'ayam'\u001b[0m \u001b[1;33m/\u001b[0m \u001b[1;36m4\u001b[0m\u001b[1;33m\u001b[0m\u001b[1;33m\u001b[0m\u001b[0m\n\u001b[0m",
      "\u001b[1;31mTypeError\u001b[0m: unsupported operand type(s) for /: 'str' and 'int'"
     ]
    }
   ],
   "source": [
    "## mencoba membagikan string\n",
    "'ayam' / 4"
   ]
  },
  {
   "cell_type": "markdown",
   "metadata": {},
   "source": [
    "#### Pemangkatan (`**`)\n",
    "Jika dalam bahasa pemrograman lain biasanya dua pangkat tiga ditulis seperti `2^3` atau `pow(2,3)`, Python menggunakan `**`. Pemangkatan tidak akan bisa memproses string karena pada dasarnya ia adalah `pow()` di C++."
   ]
  },
  {
   "cell_type": "code",
   "execution_count": 6,
   "metadata": {},
   "outputs": [
    {
     "data": {
      "text/plain": [
       "8"
      ]
     },
     "execution_count": 6,
     "metadata": {},
     "output_type": "execute_result"
    }
   ],
   "source": [
    "## contoh pemangkatan bilangan bulat\n",
    "2 ** 3"
   ]
  },
  {
   "cell_type": "code",
   "execution_count": 22,
   "metadata": {},
   "outputs": [
    {
     "data": {
      "text/plain": [
       "9.8596"
      ]
     },
     "execution_count": 22,
     "metadata": {},
     "output_type": "execute_result"
    }
   ],
   "source": [
    "## contoh pemangkatan bilangan float\n",
    "3.14 ** 2"
   ]
  },
  {
   "cell_type": "markdown",
   "metadata": {},
   "source": [
    "#### Pembagian Bulat(`//`)\n",
    "Berbeda dengan pembagian biasa, pembagian bulat hanya mengembalikan bilangan bulat tanpa koma. Contohnya jika dalam pembagian biasa, `11 / 5 = 2.2`, pembagian bulat hanya mengembalikan angka `2`. Juga ketika memproses bilangan float, hasilnya tetap koma nol."
   ]
  },
  {
   "cell_type": "code",
   "execution_count": 29,
   "metadata": {},
   "outputs": [
    {
     "data": {
      "text/plain": [
       "2"
      ]
     },
     "execution_count": 29,
     "metadata": {},
     "output_type": "execute_result"
    }
   ],
   "source": [
    "## contoh pembagian dengan bilangan bulat\n",
    "11 // 5"
   ]
  },
  {
   "cell_type": "code",
   "execution_count": 27,
   "metadata": {},
   "outputs": [
    {
     "data": {
      "text/plain": [
       "2"
      ]
     },
     "execution_count": 27,
     "metadata": {},
     "output_type": "execute_result"
    }
   ],
   "source": [
    "## contoh pembagian bulat dengan bilangan bulat\n",
    "11 // 5"
   ]
  },
  {
   "cell_type": "code",
   "execution_count": 30,
   "metadata": {},
   "outputs": [
    {
     "data": {
      "text/plain": [
       "9.177432542927228"
      ]
     },
     "execution_count": 30,
     "metadata": {},
     "output_type": "execute_result"
    }
   ],
   "source": [
    "## contoh pembagian dengan bilangan float\n",
    "112.24 / 12.23"
   ]
  },
  {
   "cell_type": "code",
   "execution_count": 28,
   "metadata": {},
   "outputs": [
    {
     "data": {
      "text/plain": [
       "9.0"
      ]
     },
     "execution_count": 28,
     "metadata": {},
     "output_type": "execute_result"
    }
   ],
   "source": [
    "## contoh pembagian bulat dengan bilangan float\n",
    "112.24 // 12.23"
   ]
  },
  {
   "cell_type": "markdown",
   "metadata": {},
   "source": [
    "#### Modulus (`%`)\n",
    "Modulus digunakan untuk mencari sisa hasil bagi dari dua bilangan. Sebagai contoh `11 % 3 = 2`."
   ]
  },
  {
   "cell_type": "code",
   "execution_count": 31,
   "metadata": {},
   "outputs": [
    {
     "data": {
      "text/plain": [
       "2"
      ]
     },
     "execution_count": 31,
     "metadata": {},
     "output_type": "execute_result"
    }
   ],
   "source": [
    "## contoh modulus\n",
    "11 % 3"
   ]
  },
  {
   "cell_type": "markdown",
   "metadata": {},
   "source": [
    "### Operator Perbandingan\n",
    "Operator perbandingan adalah operator yang digunakan untuk membandingkan 2 buah nilai. Hasil perbandingannya adalah True atau False tergantung kondisi.\n",
    "\n",
    "| Operator \t|                                                    Nama dan Fungsi                                                    \t|  Contoh  \t|\n",
    "|:--------:\t|:---------------------------------------------------------------------------------------------------------------------:\t|:--------:\t|\n",
    "|    `>`   \t| Lebih besar dari – Hasilnya True jika nilai sebelah kiri lebih besar dari nilai sebelah kanan                         \t|  `x > y` \t|\n",
    "|    `<`   \t| Lebih kecil dari – Hasilnya True jika nilai sebelah kiri lebih kecil dari nilai sebelah kanan                         \t|  `x < y` \t|\n",
    "|   `==`   \t| Sama dengan – Hasilnya True jika nilai sebelah kiri sama dengan nilai sebelah kanan                                   \t| `x == y` \t|\n",
    "|   `!=`   \t| Tidak sama dengan – Hasilnya True jika nilai sebelah kiri tidak sama dengan nilai sebelah kanan                       \t| `x != y` \t|\n",
    "|   `>=`   \t| Lebih besar atau sama dengan – Hasilnya True jika nilai sebelah kiri lebih besar atau sama dengan nilai sebelah kanan \t| `x >= y` \t|\n",
    "|   `<=`   \t| Lebih kecil atau sama dengan – Hasilnya True jika nilai sebelah kiri lebih kecil atau sama dengan nilai sebelah kanan \t| `x <= y` \t|"
   ]
  },
  {
   "cell_type": "markdown",
   "metadata": {},
   "source": [
    "#### Lebih Besar dari (`>`)\n",
    "Mengembalikan `True` jika nilai sebelah kiri lebih besar dari nilai sebelah kanan."
   ]
  },
  {
   "cell_type": "code",
   "execution_count": 34,
   "metadata": {},
   "outputs": [
    {
     "data": {
      "text/plain": [
       "True"
      ]
     },
     "execution_count": 34,
     "metadata": {},
     "output_type": "execute_result"
    }
   ],
   "source": [
    "## jika kiri lebih besar dari kanan\n",
    "12 > 11"
   ]
  },
  {
   "cell_type": "code",
   "execution_count": 35,
   "metadata": {},
   "outputs": [
    {
     "data": {
      "text/plain": [
       "False"
      ]
     },
     "execution_count": 35,
     "metadata": {},
     "output_type": "execute_result"
    }
   ],
   "source": [
    "## jika kiri sama dengan kanan\n",
    "12 > 12"
   ]
  },
  {
   "cell_type": "code",
   "execution_count": 36,
   "metadata": {},
   "outputs": [
    {
     "data": {
      "text/plain": [
       "False"
      ]
     },
     "execution_count": 36,
     "metadata": {},
     "output_type": "execute_result"
    }
   ],
   "source": [
    "## jika kiri lebih kecil dari kanan\n",
    "12 > 13"
   ]
  },
  {
   "cell_type": "markdown",
   "metadata": {},
   "source": [
    "#### Lebih Kecil dari (`<`)\n",
    "Mengembalikan `True` jika nilai sebelah kiri lebih kecil dari nilai sebelah kanan."
   ]
  },
  {
   "cell_type": "code",
   "execution_count": 37,
   "metadata": {},
   "outputs": [
    {
     "data": {
      "text/plain": [
       "False"
      ]
     },
     "execution_count": 37,
     "metadata": {},
     "output_type": "execute_result"
    }
   ],
   "source": [
    "## jika kiri lebih besar dari kanan\n",
    "12 < 11"
   ]
  },
  {
   "cell_type": "code",
   "execution_count": 38,
   "metadata": {},
   "outputs": [
    {
     "data": {
      "text/plain": [
       "False"
      ]
     },
     "execution_count": 38,
     "metadata": {},
     "output_type": "execute_result"
    }
   ],
   "source": [
    "## jika kiri sama dengan kanan\n",
    "12 < 12"
   ]
  },
  {
   "cell_type": "code",
   "execution_count": 39,
   "metadata": {},
   "outputs": [
    {
     "data": {
      "text/plain": [
       "True"
      ]
     },
     "execution_count": 39,
     "metadata": {},
     "output_type": "execute_result"
    }
   ],
   "source": [
    "## jika kiri lebih kecil dari kanan\n",
    "12 < 13"
   ]
  },
  {
   "cell_type": "markdown",
   "metadata": {},
   "source": [
    "#### Sama Dengan (`==`)\n",
    "Mengembalikan `True` jika nilai sebelah kiri sama dengan nilai sebelah kanan."
   ]
  },
  {
   "cell_type": "code",
   "execution_count": 40,
   "metadata": {},
   "outputs": [
    {
     "data": {
      "text/plain": [
       "False"
      ]
     },
     "execution_count": 40,
     "metadata": {},
     "output_type": "execute_result"
    }
   ],
   "source": [
    "## jika kiri lebih besar dari kanan\n",
    "12 == 11"
   ]
  },
  {
   "cell_type": "code",
   "execution_count": 41,
   "metadata": {},
   "outputs": [
    {
     "data": {
      "text/plain": [
       "True"
      ]
     },
     "execution_count": 41,
     "metadata": {},
     "output_type": "execute_result"
    }
   ],
   "source": [
    "## jika kiri sama dengan kanan\n",
    "12 == 12"
   ]
  },
  {
   "cell_type": "code",
   "execution_count": 42,
   "metadata": {},
   "outputs": [
    {
     "data": {
      "text/plain": [
       "False"
      ]
     },
     "execution_count": 42,
     "metadata": {},
     "output_type": "execute_result"
    }
   ],
   "source": [
    "## jika kiri lebih kecil dari kanan\n",
    "12 == 13"
   ]
  },
  {
   "cell_type": "markdown",
   "metadata": {},
   "source": [
    "#### Tidak Sama Dengan (`!=`)\n",
    "Mengembalikan `True` jika nilai sebelah kiri tidak sama dengan nilai sebelah kanan."
   ]
  },
  {
   "cell_type": "code",
   "execution_count": 43,
   "metadata": {},
   "outputs": [
    {
     "data": {
      "text/plain": [
       "True"
      ]
     },
     "execution_count": 43,
     "metadata": {},
     "output_type": "execute_result"
    }
   ],
   "source": [
    "## jika kiri lebih besar dari kanan\n",
    "12 != 11"
   ]
  },
  {
   "cell_type": "code",
   "execution_count": 44,
   "metadata": {},
   "outputs": [
    {
     "data": {
      "text/plain": [
       "False"
      ]
     },
     "execution_count": 44,
     "metadata": {},
     "output_type": "execute_result"
    }
   ],
   "source": [
    "## jika kiri sama dengan kanan\n",
    "12 != 12"
   ]
  },
  {
   "cell_type": "code",
   "execution_count": 45,
   "metadata": {},
   "outputs": [
    {
     "data": {
      "text/plain": [
       "True"
      ]
     },
     "execution_count": 45,
     "metadata": {},
     "output_type": "execute_result"
    }
   ],
   "source": [
    "## jika kiri lebih kecil dari kanan\n",
    "12 != 13"
   ]
  },
  {
   "cell_type": "markdown",
   "metadata": {},
   "source": [
    "#### Lebih Besar atau Sama Dengan (`>=`)\n",
    "Mengembalikan `True` jika nilai sebelah kiri lebih besar atau sama dengan nilai sebelah kanan."
   ]
  },
  {
   "cell_type": "code",
   "execution_count": 46,
   "metadata": {},
   "outputs": [
    {
     "data": {
      "text/plain": [
       "True"
      ]
     },
     "execution_count": 46,
     "metadata": {},
     "output_type": "execute_result"
    }
   ],
   "source": [
    "## jika kiri lebih besar dari kanan\n",
    "12 >= 11"
   ]
  },
  {
   "cell_type": "code",
   "execution_count": 47,
   "metadata": {},
   "outputs": [
    {
     "data": {
      "text/plain": [
       "True"
      ]
     },
     "execution_count": 47,
     "metadata": {},
     "output_type": "execute_result"
    }
   ],
   "source": [
    "## jika kiri sama dengan kanan\n",
    "12 >= 12"
   ]
  },
  {
   "cell_type": "code",
   "execution_count": 48,
   "metadata": {},
   "outputs": [
    {
     "data": {
      "text/plain": [
       "False"
      ]
     },
     "execution_count": 48,
     "metadata": {},
     "output_type": "execute_result"
    }
   ],
   "source": [
    "## jika kiri lebih kecil dari kanan\n",
    "12 >= 13"
   ]
  },
  {
   "cell_type": "markdown",
   "metadata": {},
   "source": [
    "#### Lebih Kecil atau Sama Dengan (`<=`)\n",
    "Mengembalikan `True` jika nilai sebelah kiri lebih kecil atau sama dengan nilai sebelah kanan."
   ]
  },
  {
   "cell_type": "code",
   "execution_count": 49,
   "metadata": {},
   "outputs": [
    {
     "data": {
      "text/plain": [
       "False"
      ]
     },
     "execution_count": 49,
     "metadata": {},
     "output_type": "execute_result"
    }
   ],
   "source": [
    "## jika kiri lebih besar dari kanan\n",
    "12 <= 11"
   ]
  },
  {
   "cell_type": "code",
   "execution_count": 50,
   "metadata": {},
   "outputs": [
    {
     "data": {
      "text/plain": [
       "True"
      ]
     },
     "execution_count": 50,
     "metadata": {},
     "output_type": "execute_result"
    }
   ],
   "source": [
    "## jika kiri sama dengan kanan\n",
    "12 <= 12"
   ]
  },
  {
   "cell_type": "code",
   "execution_count": 51,
   "metadata": {},
   "outputs": [
    {
     "data": {
      "text/plain": [
       "True"
      ]
     },
     "execution_count": 51,
     "metadata": {},
     "output_type": "execute_result"
    }
   ],
   "source": [
    "## jika kiri lebih kecil dari kanan\n",
    "12 <= 13"
   ]
  },
  {
   "cell_type": "markdown",
   "metadata": {},
   "source": [
    "### Operator Penugasan\n",
    "Penugasan adalah memberikan nilai pada suatu variabel. Sebagai contoh kita akan memberikan nilai angka 7 pada variabel skor, maka `angka = 7`. Operator penugasan yang lain adalah operator aritmatika yang diikuti simbol sama dengan (`=`).\n",
    "\n",
    "| Operator \t|                                                     Penjelasan                                                     \t|                Contoh               \t|\n",
    "|:--------:\t|:------------------------------------------------------------------------------------------------------------------:\t|:-----------------------------------:\t|\n",
    "|    `=`   \t| Menugaskan nilai yang ada di kanan ke operand yang ada di sebelah kiri                                             \t| `c = a + b` menugaskan `a + b ke c` \t|\n",
    "|   `+=`   \t| Menambahkan operand yang di kanan dengan operand yang ada di kiri dan hasilnya di tugaskan ke operand yang di kiri \t| `c += a` sama dengan `c = c + a`    \t|\n",
    "|   `-=`   \t| Mengurangi operand yang di kanan dengan operand yang ada di kiri dan hasilnya di tugaskan ke operand yang di kiri  \t| `c -= a` sama dengan `c = c + a`    \t|\n",
    "|   `*=`   \t| Mengalikan operand yang di kanan dengan operand yang ada di kiri dan hasilnya di tugaskan ke operand yang di kiri  \t| `c *= a` sama dengan `c = c * a`    \t|\n",
    "|   `/=`   \t| Membagi operand yang di kanan dengan operand yang ada di kiri dan hasilnya di tugaskan ke operand yang di kiri     \t| `c /= a` sama dengan `c = c * a`    \t|\n",
    "|   `**=`  \t| Memangkatkan operand yang di kanan dengan operand yang ada di kiri dan hasilnya ditugaskan ke operand yang di kiri \t| `c **= a` sama dengan `c = c ** a`  \t|\n",
    "|   `//=`  \t| Melakukan pembagian bulat operand di kanan terhadap operand di kiri dan hasilnya disimpan di operand yang di kiri  \t| `c //= a` sama dengan `c = c // a`  \t|\n",
    "|   `%=`   \t| Melakukan operasi sisa bagi operand di kanan dengan operand di kiri dan hasilnya di simpan di operand yang di kiri \t| `c %= a` sama dengan `c = c % a`    \t|"
   ]
  },
  {
   "cell_type": "markdown",
   "metadata": {},
   "source": [
    "### Operator Logika\n",
    "Digunakan untuk operasi logika (AND, OR, NOT).\n",
    "\n",
    "| Operator \t|                                 Penjelasan                                \t|   Contoh  \t|\n",
    "|:--------:\t|:-------------------------------------------------------------------------:\t|:---------:\t|\n",
    "|   `and`  \t| Hasilnya adalah True jika kedua operandnya bernilai True                 \t    | `x and y` \t|\n",
    "|   `or`   \t| Hasilnya adalah True jika salah satu atau kedua operandnya bernilai True \t    | `x or y`  \t|\n",
    "|   `not`  \t| Hasilnya adalah True jika operandnya bernilai False (kebalikan nilai)     \t| `not x`   \t|\n",
    "\n",
    "Kita akan menggunakan tabel kebenaran untuk contoh penggunaan operator logika.\n",
    "\n",
    "|   x   \t|   y   \t| x and y \t| x or y \t| not x \t| not y \t|\n",
    "|:-----:\t|:-----:\t|:-------:\t|:------:\t|:-----:\t|:-----:\t|\n",
    "|  True \t|  True \t|   True  \t|  True  \t| False \t| False \t|\n",
    "|  True \t| False \t|  False  \t|  True  \t| False \t|  True \t|\n",
    "| False \t|  True \t|  False  \t|  True  \t|  True \t| False \t|\n",
    "| False \t| False \t|  False  \t|  False  \t|  True \t|  True \t|\n",
    "\n",
    "Jika ingin melihat tabel tersebut versi coding, kita bisa membuatnya dengan tuple."
   ]
  },
  {
   "cell_type": "markdown",
   "metadata": {},
   "source": [
    "___"
   ]
  },
  {
   "cell_type": "markdown",
   "metadata": {},
   "source": [
    "## Latihan\n",
    "1. Buatlah program untuk memeriksa apakah 8 x 6 sama dengan 16 x 3!\n",
    "2. Tampilkan namamu tiga kali menggunakan operator perkalian!\n",
    "3. Berikan contoh penggunaan operator penugasan!"
   ]
  },
  {
   "cell_type": "markdown",
   "metadata": {},
   "source": [
    "___\n",
    "coded with ❤ by [psychohaxer](http://github.com/psychohaxer)\n",
    "___"
   ]
  }
 ],
 "metadata": {
  "kernelspec": {
   "display_name": "Python 3",
   "language": "python",
   "name": "python3"
  },
  "language_info": {
   "codemirror_mode": {
    "name": "ipython",
    "version": 3
   },
   "file_extension": ".py",
   "mimetype": "text/x-python",
   "name": "python",
   "nbconvert_exporter": "python",
   "pygments_lexer": "ipython3",
   "version": "3.7.6"
  }
 },
 "nbformat": 4,
 "nbformat_minor": 4
}
