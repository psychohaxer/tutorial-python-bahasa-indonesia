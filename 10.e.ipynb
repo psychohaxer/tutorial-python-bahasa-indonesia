{
 "cells": [
  {
   "cell_type": "markdown",
   "metadata": {},
   "source": [
    "# Modul Python Bahasa Indonesia\n",
    "## Seri Keempatbelas\n",
    "___\n",
    "Coded by psychohaxer | Version 1.1 (2021.03.01)\n",
    "___\n",
    "Notebook ini berisi contoh kode dalam Python sekaligus outputnya sebagai referensi dalam coding. Notebook ini boleh disebarluaskan dan diedit tanpa mengubah atau menghilangkan nama pembuatnya. Selamat belajar dan semoga waktu Anda menyenangkan.\n",
    "\n",
    "Catatan: Modul ini menggunakan Python 3\n",
    "\n",
    "Notebook ini dilisensikan dibawah [MIT License](https://opensource.org/licenses/MIT).\n",
    "___"
   ]
  },
  {
   "cell_type": "markdown",
   "metadata": {},
   "source": [
    "## Bab 10.e Pemrograman Berorientasi Objek Part 5: Abstraksi\n",
    "Polymorphism, Inheritance, Encapsulation (PIE) adalah tiga konsep utama penyusun OOP. Tapi Abstraction (abstraksi) juga salah satu bagian penting.\n",
    "\n",
    "Abstraksi adalah proses menyembunyikan implementasi aplikasi yang sebenarnya dari pengguna dan hanya membiarkan pengguna memakainya.\n",
    "\n",
    "Contoh dari konsep abstraksi adalah orang-orang tidak berpikir mobil merupakan sekumpulan dari komponen individual. Mereka melihatnya sebagai objek yang memiliki sifatnya sendiri.\n",
    "\n",
    "Jadi pengguna tidak perlu tau cara kerja internal dari mobil tersebut."
   ]
  },
  {
   "cell_type": "markdown",
   "metadata": {},
   "source": [
    "### Abstract Class\n",
    "Kelas Abstrak adalah kelas yang memiliki method abstrak didalamnya. Method abstrak tidak mengandung implementasi. Sebagai gantinya, implementasi tersebut dilakukan di method kelas anaknya.\n",
    "\n",
    "Abstract class dibuat dengan mewarisi class ABC dari modul 'abc'."
   ]
  },
  {
   "cell_type": "markdown",
   "metadata": {},
   "source": [
    "#### Membuat Abstract Class\n",
    "Kita menggunakan abstract class untuk class dengan method yang pasti tapi belum jelas implementasinya. Contohnya kita akan membuat kelas bangun datar.\n",
    "\n",
    "Pertama, kita import sub-modul `ABC` dan `abstractmethod` dari modul abc."
   ]
  },
  {
   "cell_type": "code",
   "execution_count": 1,
   "metadata": {},
   "outputs": [],
   "source": [
    "# import abc\n",
    "from abc import ABC, abstractmethod"
   ]
  },
  {
   "cell_type": "markdown",
   "metadata": {},
   "source": [
    "Setelah itu barulah kita membuat class yang diinginkan."
   ]
  },
  {
   "cell_type": "code",
   "execution_count": 2,
   "metadata": {},
   "outputs": [],
   "source": [
    "class Bangun_Datar(ABC):\n",
    "    \n",
    "    @abstractmethod\n",
    "    def hitung_luas(self):\n",
    "        pass\n",
    "    \n",
    "    @abstractmethod\n",
    "    def tampil_info(self):\n",
    "        pass"
   ]
  },
  {
   "cell_type": "markdown",
   "metadata": {},
   "source": [
    "#### Keyword `@abstractmethod`\n",
    "Lihat `@abstractmethod`? Itu digunakan untuk menandai bahwa method dibawahnya adalah sebuah abstract method. Abstract method selalu kosong, dan wajib diimplementasikan di class turunan atau anaknya."
   ]
  },
  {
   "cell_type": "markdown",
   "metadata": {},
   "source": [
    "#### Keyword `pass`\n",
    "`pass` digunakan untuk menandai bahwa suatu class atau method tersebut kosong. Secara default, class dan method kosong akan menghasilkan error pada Python."
   ]
  },
  {
   "cell_type": "code",
   "execution_count": 3,
   "metadata": {},
   "outputs": [
    {
     "ename": "SyntaxError",
     "evalue": "unexpected EOF while parsing (<ipython-input-3-7a6ddc6fd639>, line 4)",
     "output_type": "error",
     "traceback": [
      "\u001b[1;36m  File \u001b[1;32m\"<ipython-input-3-7a6ddc6fd639>\"\u001b[1;36m, line \u001b[1;32m4\u001b[0m\n\u001b[1;33m    \u001b[0m\n\u001b[1;37m    ^\u001b[0m\n\u001b[1;31mSyntaxError\u001b[0m\u001b[1;31m:\u001b[0m unexpected EOF while parsing\n"
     ]
    }
   ],
   "source": [
    "class Kosong(ABC):\n",
    "    \n",
    "    def method_abstrak(self):\n",
    "        "
   ]
  },
  {
   "cell_type": "markdown",
   "metadata": {},
   "source": [
    "#### Implementasi Abstract Class\n",
    "Abstract class baru bisa digunakan jika sudah diwariskan."
   ]
  },
  {
   "cell_type": "code",
   "execution_count": 4,
   "metadata": {},
   "outputs": [],
   "source": [
    "class Persegi(Bangun_Datar):\n",
    "    \n",
    "    def __init__(self,sisi):\n",
    "        self.sisi = sisi\n",
    "        self.hitung_luas()\n",
    "        \n",
    "    def hitung_luas(self):\n",
    "        self.luas = self.sisi * self.sisi\n",
    "    \n",
    "    def tampil_info(self):\n",
    "        print(\"Bangun Persegi\")\n",
    "        print(\"Sisi:\", self.sisi)\n",
    "        print(\"Luas:\", self.luas)"
   ]
  },
  {
   "cell_type": "code",
   "execution_count": 5,
   "metadata": {},
   "outputs": [],
   "source": [
    "persegi = Persegi(3)"
   ]
  },
  {
   "cell_type": "code",
   "execution_count": 6,
   "metadata": {},
   "outputs": [
    {
     "name": "stdout",
     "output_type": "stream",
     "text": [
      "Bangun Persegi\n",
      "Sisi: 3\n",
      "Luas: 9\n"
     ]
    }
   ],
   "source": [
    "persegi.tampil_info()"
   ]
  },
  {
   "cell_type": "markdown",
   "metadata": {},
   "source": [
    "#### Jika Abstract Method Tidak Diimplementasikan\n",
    "Tidak akan ada error yang muncul ketika membuat class turunan. Error baru muncul ketika membuat objeknya."
   ]
  },
  {
   "cell_type": "code",
   "execution_count": 7,
   "metadata": {},
   "outputs": [],
   "source": [
    "class Persegi_Panjang(Bangun_Datar):\n",
    "    \n",
    "    def __init__(self,panjang,lebar):\n",
    "        self.panjang = panjang\n",
    "        self.lebar = lebar\n",
    "        \n",
    "    def hitung_luas(self):\n",
    "        return panjang * lebar\n",
    "    \n",
    "#     def tampil_info(self):\n",
    "#         print(\"Bangun Persegi Panjang\")\n",
    "#         print(\"Panjang:\", self.panjang)\n",
    "#         print(\"Lebar:\", self.lebar)\n",
    "#         print(\"Luas:\", self.hitung_luas)"
   ]
  },
  {
   "cell_type": "code",
   "execution_count": 8,
   "metadata": {},
   "outputs": [
    {
     "ename": "TypeError",
     "evalue": "Can't instantiate abstract class Persegi_Panjang with abstract methods tampil_info",
     "output_type": "error",
     "traceback": [
      "\u001b[1;31m---------------------------------------------------------------------------\u001b[0m",
      "\u001b[1;31mTypeError\u001b[0m                                 Traceback (most recent call last)",
      "\u001b[1;32m<ipython-input-8-73c39a58509e>\u001b[0m in \u001b[0;36m<module>\u001b[1;34m\u001b[0m\n\u001b[1;32m----> 1\u001b[1;33m \u001b[0mpsg_pjg\u001b[0m \u001b[1;33m=\u001b[0m \u001b[0mPersegi_Panjang\u001b[0m\u001b[1;33m(\u001b[0m\u001b[1;36m4\u001b[0m\u001b[1;33m,\u001b[0m\u001b[1;36m5\u001b[0m\u001b[1;33m)\u001b[0m\u001b[1;33m\u001b[0m\u001b[1;33m\u001b[0m\u001b[0m\n\u001b[0m",
      "\u001b[1;31mTypeError\u001b[0m: Can't instantiate abstract class Persegi_Panjang with abstract methods tampil_info"
     ]
    }
   ],
   "source": [
    "psg_pjg = Persegi_Panjang(4,5)"
   ]
  },
  {
   "cell_type": "markdown",
   "metadata": {},
   "source": [
    "Lihat? Class Persegi_Panjang tidak bisa diinstansisasi objeknya tanpa method `tampil_info`."
   ]
  },
  {
   "cell_type": "markdown",
   "metadata": {},
   "source": [
    "___\n",
    "## Latihan\n",
    "1. Perhatikan gambar berikut. Class manakah yang bisa dibuat menjadi abstract class?\n",
    "\n",
    "    <img src=\"img/inheritance.jpg\">\n",
    "\n",
    "Challenge: Buat class abstract dan class anaknya beserta objeknya."
   ]
  },
  {
   "cell_type": "markdown",
   "metadata": {},
   "source": [
    "___\n",
    "coded with ❤ by [psychohaxer](http://github.com/psychohaxer)\n",
    "___"
   ]
  }
 ],
 "metadata": {
  "kernelspec": {
   "display_name": "Python 3",
   "language": "python",
   "name": "python3"
  },
  "language_info": {
   "codemirror_mode": {
    "name": "ipython",
    "version": 3
   },
   "file_extension": ".py",
   "mimetype": "text/x-python",
   "name": "python",
   "nbconvert_exporter": "python",
   "pygments_lexer": "ipython3",
   "version": "3.8.5"
  }
 },
 "nbformat": 4,
 "nbformat_minor": 4
}
