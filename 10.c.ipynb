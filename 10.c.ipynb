{
 "cells": [
  {
   "cell_type": "markdown",
   "metadata": {},
   "source": [
    "# Modul Python Bahasa Indonesia\n",
    "## Seri Keduabelas\n",
    "___\n",
    "Coded by psychohaxer | Version 1.1 (2021.01.22)\n",
    "___\n",
    "Notebook ini berisi contoh kode dalam Python sekaligus outputnya sebagai referensi dalam coding. Notebook ini boleh disebarluaskan dan diedit tanpa mengubah atau menghilangkan nama pembuatnya. Selamat belajar dan semoga waktu Anda menyenangkan.\n",
    "\n",
    "Catatan: Modul ini menggunakan Python 3\n",
    "\n",
    "Notebook ini dilisensikan dibawah [MIT License](https://opensource.org/licenses/MIT).\n",
    "___"
   ]
  },
  {
   "cell_type": "markdown",
   "metadata": {},
   "source": [
    "## Bab 10.c Pemrograman Berorientasi Objek Part 3: Enkapsulasi\n",
    "Enkapsulasi adalah metode untuk membatasi hak akses pada method dan atribut. Jika sebelumnya kita bisa mengakses atribut atau method secara langsung dari luar class, sekarang kita bisa mencegahnya. Ini berguna untuk mencegah akses langsung terhadap data."
   ]
  },
  {
   "cell_type": "markdown",
   "metadata": {},
   "source": [
    "### Atribut Privat dan Publik\n",
    "Di awal kita sudah melihat cara penulisan atribut dan method, yaitu dengan syntax:\n",
    "``` Python\n",
    "class Mobil:\n",
    "    def __init__(self):\n",
    "        self.roda = 4\n",
    "        self.bensin = 'pertamax'\n",
    "        \n",
    "    def methodLain(self):\n",
    "        ## Kode\n",
    "```\n",
    "\n",
    "Variabel `roda` adalah contoh atribut publik. Bagaimana dengan atribut dan method privat? Kita tinggal menambahkan dua _underscore_ sebelum nama atribut.\n",
    "\n",
    "``` Python\n",
    "class Mobil:\n",
    "    def __init__(self):\n",
    "        self.__roda = 4\n",
    "        self.__bensin = 'pertamax'\n",
    "        \n",
    "    def __methodLain(self):\n",
    "        ## Kode\n",
    "```"
   ]
  },
  {
   "cell_type": "markdown",
   "metadata": {},
   "source": [
    "### Method Setter dan Method Getter\n",
    "Setter dan Getter adalah jenis method yang digunakan untuk memberikan nilai pada atribut dan memanggil nilai tersebut. Kedua method ini digunakan pada atribut privat."
   ]
  },
  {
   "cell_type": "code",
   "execution_count": 10,
   "metadata": {},
   "outputs": [],
   "source": [
    "class Orang():\n",
    "    def __init__(self):\n",
    "        print(\"Silahkan set nama dengan method setter!\")\n",
    "\n",
    "    ## Contoh Method Setter\n",
    "    def setNama(self, nama):\n",
    "        self.__nama = nama\n",
    "    \n",
    "    ## Contoh Method Getter\n",
    "    def getNama(self):\n",
    "        return self.__nama"
   ]
  },
  {
   "cell_type": "code",
   "execution_count": 11,
   "metadata": {},
   "outputs": [
    {
     "name": "stdout",
     "output_type": "stream",
     "text": [
      "Silahkan set nama dengan method setter!\n"
     ]
    }
   ],
   "source": [
    "saya = Orang()"
   ]
  },
  {
   "cell_type": "code",
   "execution_count": 12,
   "metadata": {},
   "outputs": [],
   "source": [
    "saya.setNama('Firman')"
   ]
  },
  {
   "cell_type": "code",
   "execution_count": 13,
   "metadata": {},
   "outputs": [
    {
     "data": {
      "text/plain": [
       "'Firman'"
      ]
     },
     "execution_count": 13,
     "metadata": {},
     "output_type": "execute_result"
    }
   ],
   "source": [
    "saya.getNama()"
   ]
  },
  {
   "cell_type": "code",
   "execution_count": 14,
   "metadata": {},
   "outputs": [],
   "source": [
    "saya.__nama = 'Yanto'"
   ]
  },
  {
   "cell_type": "code",
   "execution_count": 15,
   "metadata": {},
   "outputs": [
    {
     "data": {
      "text/plain": [
       "'Firman'"
      ]
     },
     "execution_count": 15,
     "metadata": {},
     "output_type": "execute_result"
    }
   ],
   "source": [
    "saya.getNama()"
   ]
  },
  {
   "cell_type": "code",
   "execution_count": 16,
   "metadata": {},
   "outputs": [],
   "source": [
    "saya.setNama('Budi')"
   ]
  },
  {
   "cell_type": "code",
   "execution_count": 17,
   "metadata": {},
   "outputs": [
    {
     "data": {
      "text/plain": [
       "'Budi'"
      ]
     },
     "execution_count": 17,
     "metadata": {},
     "output_type": "execute_result"
    }
   ],
   "source": [
    "saya.getNama()"
   ]
  },
  {
   "cell_type": "markdown",
   "metadata": {},
   "source": [
    "### Method Privat dan Method Publik\n",
    "Sama halnya dengan atribut, method juga memiliki hak akses. Method privat hanya bisa dipanggil didalam class tempat ia berada."
   ]
  },
  {
   "cell_type": "code",
   "execution_count": 26,
   "metadata": {},
   "outputs": [],
   "source": [
    "class Kubus():\n",
    "    \n",
    "    ## Method Setter\n",
    "    def setRusuk(self,rusuk):\n",
    "        self.__rusuk = rusuk\n",
    "    \n",
    "    ## Method Privat\n",
    "    def __volume(self):\n",
    "        return self.__rusuk**3\n",
    "    \n",
    "    ## Method Publik\n",
    "    def tampilInfo(self):\n",
    "        print('Rusuk :', self.__rusuk)\n",
    "        print('Volume:', self.volume())"
   ]
  },
  {
   "cell_type": "code",
   "execution_count": 27,
   "metadata": {},
   "outputs": [
    {
     "name": "stdout",
     "output_type": "stream",
     "text": [
      "Rusuk : 4\n",
      "Volume: 64\n"
     ]
    }
   ],
   "source": [
    "cube = Kubus()\n",
    "cube.setRusuk(4)\n",
    "cube.tampilInfo()"
   ]
  },
  {
   "cell_type": "markdown",
   "metadata": {},
   "source": [
    "Jika kita mengakses atribut atau method privat secara langsung maka akan menghasilkan error."
   ]
  },
  {
   "cell_type": "code",
   "execution_count": 18,
   "metadata": {},
   "outputs": [
    {
     "ename": "AttributeError",
     "evalue": "'Kubus' object has no attribute 'rusuk'",
     "output_type": "error",
     "traceback": [
      "\u001b[1;31m---------------------------------------------------------------------------\u001b[0m",
      "\u001b[1;31mAttributeError\u001b[0m                            Traceback (most recent call last)",
      "\u001b[1;32m<ipython-input-18-c86423e83c07>\u001b[0m in \u001b[0;36m<module>\u001b[1;34m\u001b[0m\n\u001b[1;32m----> 1\u001b[1;33m \u001b[0mcube\u001b[0m\u001b[1;33m.\u001b[0m\u001b[0mrusuk\u001b[0m\u001b[1;33m\u001b[0m\u001b[1;33m\u001b[0m\u001b[0m\n\u001b[0m",
      "\u001b[1;31mAttributeError\u001b[0m: 'Kubus' object has no attribute 'rusuk'"
     ]
    }
   ],
   "source": [
    "cube.rusuk"
   ]
  },
  {
   "cell_type": "code",
   "execution_count": 19,
   "metadata": {},
   "outputs": [
    {
     "ename": "AttributeError",
     "evalue": "'Kubus' object has no attribute '_rusuk'",
     "output_type": "error",
     "traceback": [
      "\u001b[1;31m---------------------------------------------------------------------------\u001b[0m",
      "\u001b[1;31mAttributeError\u001b[0m                            Traceback (most recent call last)",
      "\u001b[1;32m<ipython-input-19-2d0f5b4e89e3>\u001b[0m in \u001b[0;36m<module>\u001b[1;34m\u001b[0m\n\u001b[1;32m----> 1\u001b[1;33m \u001b[0mcube\u001b[0m\u001b[1;33m.\u001b[0m\u001b[0m_rusuk\u001b[0m\u001b[1;33m\u001b[0m\u001b[1;33m\u001b[0m\u001b[0m\n\u001b[0m",
      "\u001b[1;31mAttributeError\u001b[0m: 'Kubus' object has no attribute '_rusuk'"
     ]
    }
   ],
   "source": [
    "cube._rusuk"
   ]
  },
  {
   "cell_type": "code",
   "execution_count": 20,
   "metadata": {},
   "outputs": [
    {
     "ename": "AttributeError",
     "evalue": "'Kubus' object has no attribute '__rusuk'",
     "output_type": "error",
     "traceback": [
      "\u001b[1;31m---------------------------------------------------------------------------\u001b[0m",
      "\u001b[1;31mAttributeError\u001b[0m                            Traceback (most recent call last)",
      "\u001b[1;32m<ipython-input-20-ece15fdd599b>\u001b[0m in \u001b[0;36m<module>\u001b[1;34m\u001b[0m\n\u001b[1;32m----> 1\u001b[1;33m \u001b[0mcube\u001b[0m\u001b[1;33m.\u001b[0m\u001b[0m__rusuk\u001b[0m\u001b[1;33m\u001b[0m\u001b[1;33m\u001b[0m\u001b[0m\n\u001b[0m",
      "\u001b[1;31mAttributeError\u001b[0m: 'Kubus' object has no attribute '__rusuk'"
     ]
    }
   ],
   "source": [
    "cube.__rusuk"
   ]
  },
  {
   "cell_type": "code",
   "execution_count": 21,
   "metadata": {},
   "outputs": [
    {
     "ename": "AttributeError",
     "evalue": "'Kubus' object has no attribute 'volume'",
     "output_type": "error",
     "traceback": [
      "\u001b[1;31m---------------------------------------------------------------------------\u001b[0m",
      "\u001b[1;31mAttributeError\u001b[0m                            Traceback (most recent call last)",
      "\u001b[1;32m<ipython-input-21-f2f092457d5b>\u001b[0m in \u001b[0;36m<module>\u001b[1;34m\u001b[0m\n\u001b[1;32m----> 1\u001b[1;33m \u001b[0mcube\u001b[0m\u001b[1;33m.\u001b[0m\u001b[0mvolume\u001b[0m\u001b[1;33m(\u001b[0m\u001b[1;33m)\u001b[0m\u001b[1;33m\u001b[0m\u001b[1;33m\u001b[0m\u001b[0m\n\u001b[0m",
      "\u001b[1;31mAttributeError\u001b[0m: 'Kubus' object has no attribute 'volume'"
     ]
    }
   ],
   "source": [
    "cube.volume()"
   ]
  },
  {
   "cell_type": "code",
   "execution_count": 22,
   "metadata": {},
   "outputs": [
    {
     "ename": "AttributeError",
     "evalue": "'Kubus' object has no attribute '_volume'",
     "output_type": "error",
     "traceback": [
      "\u001b[1;31m---------------------------------------------------------------------------\u001b[0m",
      "\u001b[1;31mAttributeError\u001b[0m                            Traceback (most recent call last)",
      "\u001b[1;32m<ipython-input-22-36554123ca20>\u001b[0m in \u001b[0;36m<module>\u001b[1;34m\u001b[0m\n\u001b[1;32m----> 1\u001b[1;33m \u001b[0mcube\u001b[0m\u001b[1;33m.\u001b[0m\u001b[0m_volume\u001b[0m\u001b[1;33m(\u001b[0m\u001b[1;33m)\u001b[0m\u001b[1;33m\u001b[0m\u001b[1;33m\u001b[0m\u001b[0m\n\u001b[0m",
      "\u001b[1;31mAttributeError\u001b[0m: 'Kubus' object has no attribute '_volume'"
     ]
    }
   ],
   "source": [
    "cube._volume()"
   ]
  },
  {
   "cell_type": "code",
   "execution_count": 23,
   "metadata": {},
   "outputs": [
    {
     "ename": "AttributeError",
     "evalue": "'Kubus' object has no attribute '__volume'",
     "output_type": "error",
     "traceback": [
      "\u001b[1;31m---------------------------------------------------------------------------\u001b[0m",
      "\u001b[1;31mAttributeError\u001b[0m                            Traceback (most recent call last)",
      "\u001b[1;32m<ipython-input-23-ed514ed759e1>\u001b[0m in \u001b[0;36m<module>\u001b[1;34m\u001b[0m\n\u001b[1;32m----> 1\u001b[1;33m \u001b[0mcube\u001b[0m\u001b[1;33m.\u001b[0m\u001b[0m__volume\u001b[0m\u001b[1;33m(\u001b[0m\u001b[1;33m)\u001b[0m\u001b[1;33m\u001b[0m\u001b[1;33m\u001b[0m\u001b[0m\n\u001b[0m",
      "\u001b[1;31mAttributeError\u001b[0m: 'Kubus' object has no attribute '__volume'"
     ]
    }
   ],
   "source": [
    "cube.__volume()"
   ]
  },
  {
   "cell_type": "markdown",
   "metadata": {},
   "source": [
    "### Penjelasan Enkapsulasi di Python\n",
    "Enkapsulasi pada Python berbeda dengan enkapsulasi di Java atau C++ dimana adanya keyword `public` dan `private` seperti contoh berikut.\n",
    "``` Java\n",
    "// Contoh atribut di Java\n",
    "public class Barang{\n",
    "    \n",
    "    public int jumlah_barang;\n",
    "    private String id_barang;\n",
    "\n",
    "    // Method Setter\n",
    "    public void set_id(id_barang){\n",
    "        this.id_barang = id_barang;\n",
    "    }\n",
    "\n",
    "    // Method Getter\n",
    "    public String get_id(){\n",
    "        return this.id_barang;\n",
    "    }\n",
    "}\n",
    "```\n",
    "\n",
    "Sebenarnya Python tidak memiliki cara baku untuk enkapsulasi. Penggunaan satu _underscore_ seperti pada `_privat` hanyalah aturan penulisan yang disepakati programmer supaya nama itu tidak digunakan di class lain dan **tidak berpengaruh pada hak akses** atribut atau method. Sementara penggunaan dua _underscore_ seperti pada `__privat` tidak sepenuhnya membuat atribut atau method tersebut tidak bisa diakses dari luar kelas. **Double _underscore_ hanya mengganti nama atribut atau method tersebut**. Contohnya ada dibawah."
   ]
  },
  {
   "cell_type": "code",
   "execution_count": 1,
   "metadata": {},
   "outputs": [],
   "source": [
    "class Kelas:\n",
    "    def __init__(self):\n",
    "        self.__rahasia = \"Ini adalah atribut rahasia\"\n",
    "        \n",
    "objek = Kelas()"
   ]
  },
  {
   "cell_type": "markdown",
   "metadata": {},
   "source": [
    "Memanggil atribut tersebut dengan cara biasa hanya akan menghasilkan error. Bagaimana dengan kode dibawah?"
   ]
  },
  {
   "cell_type": "code",
   "execution_count": 4,
   "metadata": {},
   "outputs": [
    {
     "ename": "AttributeError",
     "evalue": "'Kelas' object has no attribute '__rahasia'",
     "output_type": "error",
     "traceback": [
      "\u001b[1;31m---------------------------------------------------------------------------\u001b[0m",
      "\u001b[1;31mAttributeError\u001b[0m                            Traceback (most recent call last)",
      "\u001b[1;32m<ipython-input-4-ef3bd65ad6d5>\u001b[0m in \u001b[0;36m<module>\u001b[1;34m\u001b[0m\n\u001b[1;32m----> 1\u001b[1;33m \u001b[0mprint\u001b[0m\u001b[1;33m(\u001b[0m\u001b[0mobjek\u001b[0m\u001b[1;33m.\u001b[0m\u001b[0m__rahasia\u001b[0m\u001b[1;33m)\u001b[0m\u001b[1;33m\u001b[0m\u001b[1;33m\u001b[0m\u001b[0m\n\u001b[0m",
      "\u001b[1;31mAttributeError\u001b[0m: 'Kelas' object has no attribute '__rahasia'"
     ]
    }
   ],
   "source": [
    "print(objek.__rahasia)"
   ]
  },
  {
   "cell_type": "code",
   "execution_count": 3,
   "metadata": {},
   "outputs": [
    {
     "name": "stdout",
     "output_type": "stream",
     "text": [
      "Ini adalah atribut rahasia\n"
     ]
    }
   ],
   "source": [
    "print(objek._Kelas__rahasia)"
   ]
  },
  {
   "cell_type": "markdown",
   "metadata": {},
   "source": [
    "### Penggunaan Underscore\n",
    "| Pola                                   | Contoh    | Penjelasan                                                                                                                                                                                                                      |\n",
    "|----------------------------------------|-----------|---------------------------------------------------------------------------------------------------------------------------------------------------------------------------------------------------------------------------------|\n",
    "| Single Leading Underscore              | `_var`    | Konvensi/kesepakatan penamaan yang menandakan nama tersebut hanya digunakan secara internal. Umumnya tidak terpengaruh Intepreter Python (kecuali dalam import wildcard (*) dan hanya berarti sebagai petunjuk bagi programmer. |\n",
    "| Single Trailing Underscore             | `var_`    | Disepakati untuk digunakan agar menghindari konflik dengan keyword Python.                                                                                                                                                      |\n",
    "| Double Leading Underscore              | `__var`   | Mengaktifkan pengubahan nama ketika digunakan dalam class. Terpengaruh oleh Intepreter Python.                                                                                                                                  |\n",
    "| Double Leading and Trailing Underscore | `__var__` | Mengindikasikan method khusus yang dibuat oleh bahasa Python. Hindari penamaan seperti ini untuk atribut buatan sendiri.                                                                                                        |\n",
    "| Single Underscore                      | `_`       | Terkadang digunakan sebagai nama untuk variabel sementara atau insignifikan.                                                                                                                                                    |"
   ]
  },
  {
   "cell_type": "markdown",
   "metadata": {},
   "source": [
    "___\n",
    "## Latihan\n",
    "1. Jelaskan perbedaan method setter dan method getter!\n",
    "2. Buat sebuah class dengan atribut privat yang menggunakan setter dan getter.\n",
    "\n",
    "Challenge: Implementasikan method privat yang dipanggil method public."
   ]
  },
  {
   "cell_type": "markdown",
   "metadata": {},
   "source": [
    "___\n",
    "coded with ❤ by [psychohaxer](http://github.com/psychohaxer)\n",
    "___"
   ]
  }
 ],
 "metadata": {
  "kernelspec": {
   "display_name": "Python 3",
   "language": "python",
   "name": "python3"
  },
  "language_info": {
   "codemirror_mode": {
    "name": "ipython",
    "version": 3
   },
   "file_extension": ".py",
   "mimetype": "text/x-python",
   "name": "python",
   "nbconvert_exporter": "python",
   "pygments_lexer": "ipython3",
   "version": "3.8.5"
  }
 },
 "nbformat": 4,
 "nbformat_minor": 4
}
