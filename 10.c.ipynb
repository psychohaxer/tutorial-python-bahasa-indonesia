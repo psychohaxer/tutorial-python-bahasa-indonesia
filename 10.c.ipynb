{
 "cells": [
  {
   "cell_type": "markdown",
   "metadata": {},
   "source": [
    "# Modul Python Bahasa Indonesia\n",
    "## Seri Keduabelas\n",
    "___\n",
    "Coded by psychohaxer | Version 1.1 (2021.01.22)\n",
    "___\n",
    "Notebook ini berisi contoh kode dalam Python sekaligus outputnya sebagai referensi dalam coding. Notebook ini boleh disebarluaskan dan diedit tanpa mengubah atau menghilangkan nama pembuatnya. Selamat belajar dan semoga waktu Anda menyenangkan.\n",
    "\n",
    "Catatan: Modul ini menggunakan Python 3\n",
    "\n",
    "Notebook ini dilisensikan dibawah [MIT License](https://opensource.org/licenses/MIT).\n",
    "___"
   ]
  },
  {
   "cell_type": "markdown",
   "metadata": {},
   "source": [
    "## Bab 10.c Pemrograman Berorientasi Objek Part 3: Enkapsulasi\n",
    "Enkapsulasi adalah metode untuk membatasi hak akses pada method dan atribut. Jika sebelumnya kita bisa mengakses atribut atau method secara langsung dari luar class, sekarang kita bisa mencegahnya. Ini berguna untuk mencegah akses langsung terhadap data."
   ]
  },
  {
   "cell_type": "markdown",
   "metadata": {},
   "source": [
    "### Atribut Privat dan Publik\n",
    "Di awal kita sudah melihat cara penulisan atribut dan method, yaitu dengan syntax:\n",
    "``` Python\n",
    "class Mobil:\n",
    "    def __init__(self):\n",
    "        self.roda = 4\n",
    "        self.bensin = 'pertamax'\n",
    "        \n",
    "    def methodLain(self):\n",
    "        ## Kode\n",
    "```\n",
    "\n",
    "Variabel `roda` adalah contoh atribut publik. Bagaimana dengan atribut dan method privat? Kita tinggal menambahkan dua _underscore_ sebelum nama atribut.\n",
    "\n",
    "``` Python\n",
    "class Mobil:\n",
    "    def __init__(self):\n",
    "        self.__roda = 4\n",
    "        self.__bensin = 'pertamax'\n",
    "        \n",
    "    def __methodLain(self):\n",
    "        ## Kode\n",
    "```"
   ]
  },
  {
   "cell_type": "markdown",
   "metadata": {},
   "source": [
    "### Method Setter dan Method Getter\n",
    "Setter dan Getter adalah jenis method yang digunakan untuk memberikan nilai pada atribut dan memanggil nilai tersebut. Kedua method ini digunakan pada atribut privat."
   ]
  },
  {
   "cell_type": "code",
   "execution_count": 42,
   "metadata": {},
   "outputs": [],
   "source": [
    "class Orang():\n",
    "\n",
    "    ## Contoh Method Setter\n",
    "    def setNama(self, nama):\n",
    "        self.__nama = nama\n",
    "    \n",
    "    ## Contoh Method Getter\n",
    "    def getNama(self):\n",
    "        return self.__nama"
   ]
  },
  {
   "cell_type": "code",
   "execution_count": 43,
   "metadata": {},
   "outputs": [],
   "source": [
    "saya = Orang()"
   ]
  },
  {
   "cell_type": "code",
   "execution_count": 44,
   "metadata": {},
   "outputs": [],
   "source": [
    "saya.setNama('Firman')"
   ]
  },
  {
   "cell_type": "code",
   "execution_count": 45,
   "metadata": {},
   "outputs": [
    {
     "data": {
      "text/plain": [
       "'Firman'"
      ]
     },
     "execution_count": 45,
     "metadata": {},
     "output_type": "execute_result"
    }
   ],
   "source": [
    "saya.getNama()"
   ]
  },
  {
   "cell_type": "code",
   "execution_count": 46,
   "metadata": {},
   "outputs": [],
   "source": [
    "saya.__nama = 'Yanto'"
   ]
  },
  {
   "cell_type": "code",
   "execution_count": 47,
   "metadata": {},
   "outputs": [
    {
     "data": {
      "text/plain": [
       "'Firman'"
      ]
     },
     "execution_count": 47,
     "metadata": {},
     "output_type": "execute_result"
    }
   ],
   "source": [
    "saya.getNama()"
   ]
  },
  {
   "cell_type": "markdown",
   "metadata": {},
   "source": [
    "### Method Privat dan Method Publik\n",
    "Sama halnya dengan atribut, method juga memiliki hak akses. Method privat hanya bisa dipanggil didalam class tempat ia berada."
   ]
  },
  {
   "cell_type": "code",
   "execution_count": 48,
   "metadata": {},
   "outputs": [],
   "source": [
    "class Kubus():\n",
    "    def __init__(self,rusuk):\n",
    "        self.__rusuk = rusuk\n",
    "        \n",
    "    def __volume(self):\n",
    "        return self.__rusuk**3\n",
    "    \n",
    "    def tampilInfo(self):\n",
    "        print('Rusuk :', self.__rusuk)\n",
    "        print('Volume:', self.__volume())"
   ]
  },
  {
   "cell_type": "code",
   "execution_count": 49,
   "metadata": {},
   "outputs": [
    {
     "name": "stdout",
     "output_type": "stream",
     "text": [
      "Rusuk : 3\n",
      "Volume: 27\n"
     ]
    }
   ],
   "source": [
    "cube = Kubus(3)\n",
    "cube.tampilInfo()"
   ]
  },
  {
   "cell_type": "markdown",
   "metadata": {},
   "source": [
    "Jika kita mengakses atribut atau method privat secara langsung maka akan menghasilkan error."
   ]
  },
  {
   "cell_type": "code",
   "execution_count": 51,
   "metadata": {},
   "outputs": [
    {
     "ename": "AttributeError",
     "evalue": "'Kubus' object has no attribute 'rusuk'",
     "output_type": "error",
     "traceback": [
      "\u001b[1;31m---------------------------------------------------------------------------\u001b[0m",
      "\u001b[1;31mAttributeError\u001b[0m                            Traceback (most recent call last)",
      "\u001b[1;32m<ipython-input-51-c86423e83c07>\u001b[0m in \u001b[0;36m<module>\u001b[1;34m\u001b[0m\n\u001b[1;32m----> 1\u001b[1;33m \u001b[0mcube\u001b[0m\u001b[1;33m.\u001b[0m\u001b[0mrusuk\u001b[0m\u001b[1;33m\u001b[0m\u001b[1;33m\u001b[0m\u001b[0m\n\u001b[0m",
      "\u001b[1;31mAttributeError\u001b[0m: 'Kubus' object has no attribute 'rusuk'"
     ]
    }
   ],
   "source": [
    "cube.rusuk"
   ]
  },
  {
   "cell_type": "code",
   "execution_count": 52,
   "metadata": {},
   "outputs": [
    {
     "ename": "AttributeError",
     "evalue": "'Kubus' object has no attribute '_rusuk'",
     "output_type": "error",
     "traceback": [
      "\u001b[1;31m---------------------------------------------------------------------------\u001b[0m",
      "\u001b[1;31mAttributeError\u001b[0m                            Traceback (most recent call last)",
      "\u001b[1;32m<ipython-input-52-2d0f5b4e89e3>\u001b[0m in \u001b[0;36m<module>\u001b[1;34m\u001b[0m\n\u001b[1;32m----> 1\u001b[1;33m \u001b[0mcube\u001b[0m\u001b[1;33m.\u001b[0m\u001b[0m_rusuk\u001b[0m\u001b[1;33m\u001b[0m\u001b[1;33m\u001b[0m\u001b[0m\n\u001b[0m",
      "\u001b[1;31mAttributeError\u001b[0m: 'Kubus' object has no attribute '_rusuk'"
     ]
    }
   ],
   "source": [
    "cube._rusuk"
   ]
  },
  {
   "cell_type": "code",
   "execution_count": 50,
   "metadata": {},
   "outputs": [
    {
     "ename": "AttributeError",
     "evalue": "'Kubus' object has no attribute '__rusuk'",
     "output_type": "error",
     "traceback": [
      "\u001b[1;31m---------------------------------------------------------------------------\u001b[0m",
      "\u001b[1;31mAttributeError\u001b[0m                            Traceback (most recent call last)",
      "\u001b[1;32m<ipython-input-50-ece15fdd599b>\u001b[0m in \u001b[0;36m<module>\u001b[1;34m\u001b[0m\n\u001b[1;32m----> 1\u001b[1;33m \u001b[0mcube\u001b[0m\u001b[1;33m.\u001b[0m\u001b[0m__rusuk\u001b[0m\u001b[1;33m\u001b[0m\u001b[1;33m\u001b[0m\u001b[0m\n\u001b[0m",
      "\u001b[1;31mAttributeError\u001b[0m: 'Kubus' object has no attribute '__rusuk'"
     ]
    }
   ],
   "source": [
    "cube.__rusuk"
   ]
  },
  {
   "cell_type": "markdown",
   "metadata": {},
   "source": [
    "___\n",
    "## Latihan\n",
    "1. Jelaskan perbedaan method setter dan method getter!\n",
    "2. Buat sebuah class dengan atribut privat yang menggunakan setter dan getter.\n",
    "\n",
    "Challenge: Implementasikan method privat yang dipanggil method public."
   ]
  },
  {
   "cell_type": "markdown",
   "metadata": {},
   "source": [
    "___\n",
    "coded with ❤ by [psychohaxer](http://github.com/psychohaxer)\n",
    "___"
   ]
  }
 ],
 "metadata": {
  "kernelspec": {
   "display_name": "Python 3",
   "language": "python",
   "name": "python3"
  },
  "language_info": {
   "codemirror_mode": {
    "name": "ipython",
    "version": 3
   },
   "file_extension": ".py",
   "mimetype": "text/x-python",
   "name": "python",
   "nbconvert_exporter": "python",
   "pygments_lexer": "ipython3",
   "version": "3.7.6"
  }
 },
 "nbformat": 4,
 "nbformat_minor": 4
}
