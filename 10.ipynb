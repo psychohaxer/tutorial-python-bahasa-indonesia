{
 "cells": [
  {
   "cell_type": "markdown",
   "metadata": {},
   "source": [
    "# Modul Python Bahasa Indonesia\n",
    "## Seri Kesepuluh\n",
    "___\n",
    "Coded by psychohaxer | Version 1.2 (2021.01.09)\n",
    "___\n",
    "Notebook ini berisi contoh kode dalam Python sekaligus outputnya sebagai referensi dalam coding. Notebook ini boleh disebarluaskan dan diedit tanpa mengubah atau menghilangkan nama pembuatnya. Selamat belajar dan semoga waktu Anda menyenangkan.\n",
    "\n",
    "Catatan: Modul ini menggunakan Python 3\n",
    "\n",
    "Notebook ini dilisensikan dibawah [MIT License](https://opensource.org/licenses/MIT).\n",
    "___"
   ]
  },
  {
   "cell_type": "markdown",
   "metadata": {},
   "source": [
    "## Bab 10 Pemrograman Berbasis Objek (Object Oriented Programming) Part 1\n",
    "Pemrograman fungsional adalah paradigma pemrograman dimana diterapkan pemodelan objek pada program. Objek di dunia nyata memiliki karakteristik dan kemampuan untuk melakukan sesuatatu.\n",
    "\n",
    "Contoh dari objek adalah mobil. Mobil memiliki karakteristik yang melekat padanya seperti warna, merk, seri, tahun, jumlah penumpang, dan sebagainya. Mobil juga bisa menyalakan mesin, bergerak maju, mundur, menyalakan lampu, mematikan lampu, dan sebagainya.\n",
    "\n",
    "Objek dalam pemrograman pun demikian. Untuk membuat objek, pertama kita harus membuat rancangan (_blueprint_) dari objek tersebut. Rancangan ini berisi informasi mengenai objek yang akan dibuat. Rancangan ini disebut dengan `class`."
   ]
  },
  {
   "cell_type": "markdown",
   "metadata": {},
   "source": [
    "### Class\n",
    "Class berisi variabel untuk menyimpan atribut atau karakteristik atau informasi mengenai objek. Selain itu class juga berisi fungsi (`method`) yang bisa dikerjakan objek tersebut. Method adalah fungsi dalam class.\n",
    "\n",
    "Tip: Disarankan menulis nama class dengan format `PascalCase`.\n",
    "\n",
    "Kita akan menjadikan mobil sebagai contoh. Mobil ini memiliki atribut **merk** dan **warna**. Method yang dimilikinya adalah **menampilkan informasi dari atributnya**, **maju**, dan **mundur**."
   ]
  },
  {
   "cell_type": "code",
   "execution_count": 25,
   "metadata": {},
   "outputs": [],
   "source": [
    "class Mobil:\n",
    "    roda = 4\n",
    "    \n",
    "    def __init__(self, merk, warna):\n",
    "        self.merk = merk\n",
    "        self.warna = warna\n",
    "    \n",
    "    def tampilInfo(self):\n",
    "        print(\"Merk\", self.merk, \"warna\", self.warna)\n",
    "        \n",
    "    def maju(self, jarak):\n",
    "        print(\"Mobil maju\", jarak, \"meter.\")\n",
    "        \n",
    "    def mundur(self, jarak):\n",
    "        print(\"Mobil mundur\", jarak, \"meter.\")\n",
    "        \n",
    "    def jumlahRoda(self):\n",
    "        return self.roda"
   ]
  },
  {
   "cell_type": "markdown",
   "metadata": {},
   "source": [
    "Mari kita ulas satu per satu makna kode diatas."
   ]
  },
  {
   "cell_type": "markdown",
   "metadata": {},
   "source": [
    "#### Nama Class\n",
    "``` Python\n",
    "class Mobil:\n",
    "```\n",
    "* Membuat class diawali dengan menulis keyword `class` sebelum nama kelas."
   ]
  },
  {
   "cell_type": "markdown",
   "metadata": {},
   "source": [
    "#### Atribut Kelas\n",
    "``` Python\n",
    "    roda = 4\n",
    "```\n",
    "* Variabel `roda` adalah atribut kelas, yang merupakan salah satu bagian dari class Mobil. Variabel ini bersifat `global` didalam class dan bisa diakses dari semua method."
   ]
  },
  {
   "cell_type": "markdown",
   "metadata": {},
   "source": [
    "#### Constructor\n",
    "``` Python\n",
    "    def __init__(self, merk, warna):\n",
    "        self.merk = merk\n",
    "        self.warna = warna\n",
    "```\n",
    "* Konstruktor bersifat wajib jika kita mau melakukan sesuatu secara otomatis ketika objek dibuat.\n",
    "* Konstruktor bisa digunakan untuk instansiasi nilai dari atribut ketika objek dibuat. Nilainya bisa diganti nanti.\n",
    "* Konstruktor secara otomatis dijalankan ketika objek dibuat.\n",
    "* Fungsi `__init__` adalah method konstruktor, yaitu method khusus yang digunakan Python untuk menginisialisasi pembuatan objek dari kelas tersebut.\n",
    "* Parameter `self` adalah parameter default dan digunakan untuk mereferensikan pada class itu sendiri.\n",
    "* `self.merk = merk` digunakan untuk memasukkan nilai dari parameter merk ke atribut merk."
   ]
  },
  {
   "cell_type": "markdown",
   "metadata": {},
   "source": [
    "#### Method\n",
    "``` Python\n",
    "    def tampilInfo(self):\n",
    "        print(\"Merk\", merk, \"Warna\", warna)\n",
    "```\n",
    "* Method pada dasarnya adalah fungsi didalam class."
   ]
  },
  {
   "cell_type": "markdown",
   "metadata": {},
   "source": [
    "### Obyek\n",
    "Class yang kita buat tidak akan bisa digunakan jika tidak dibuat obyek. Dengan membuat obyek darinya, kita bisa menjalankan kode didalamnya."
   ]
  },
  {
   "cell_type": "markdown",
   "metadata": {},
   "source": [
    "#### Instansiasi Objek\n",
    "Instansiasi objek dilakukan dengan syntax:\n",
    "\n",
    "``` Python\n",
    "objek = Class() ## untuk class tanpa argumen constructor\n",
    "objek = Class(argumen) ## untuk class dengan argumen constructor\n",
    "```"
   ]
  },
  {
   "cell_type": "code",
   "execution_count": null,
   "metadata": {},
   "outputs": [],
   "source": [
    "mb1 = Mobil(\"Toyota\", \"merah\")"
   ]
  },
  {
   "cell_type": "markdown",
   "metadata": {},
   "source": [
    "#### Menanggil Method\n",
    "Method dapat dipanggil dengan syntax:\n",
    "``` Python\n",
    "objek.method()\n",
    "objek.method(parameter)\n",
    "```"
   ]
  },
  {
   "cell_type": "code",
   "execution_count": 32,
   "metadata": {},
   "outputs": [
    {
     "name": "stdout",
     "output_type": "stream",
     "text": [
      "Merk Toyota Warna putih\n"
     ]
    }
   ],
   "source": [
    "mb1.tampilInfo()"
   ]
  },
  {
   "cell_type": "code",
   "execution_count": 28,
   "metadata": {},
   "outputs": [
    {
     "name": "stdout",
     "output_type": "stream",
     "text": [
      "Mobil maju 10 meter.\n"
     ]
    }
   ],
   "source": [
    "mb1.maju(10)"
   ]
  },
  {
   "cell_type": "markdown",
   "metadata": {},
   "source": [
    "#### Memanggil Objek\n",
    "Objek dapat dipanggil untuk mengembalikan alamat memorinya."
   ]
  },
  {
   "cell_type": "code",
   "execution_count": null,
   "metadata": {},
   "outputs": [],
   "source": [
    "mb1"
   ]
  },
  {
   "cell_type": "markdown",
   "metadata": {},
   "source": [
    "#### Memanggil dan Mengubah Atribut\n",
    "Pemanggilan atribut objek dilakukan dengan syntax:\n",
    "``` Python\n",
    "objek.atribut\n",
    "```\n",
    "\n",
    "Sedangkan untuk mengubahnya, kita tinggal memanggilnya dan memberikan nilai baru.\n",
    "``` Python\n",
    "objek.atribut = nilai\n",
    "```"
   ]
  },
  {
   "cell_type": "code",
   "execution_count": 31,
   "metadata": {},
   "outputs": [
    {
     "data": {
      "text/plain": [
       "'putih'"
      ]
     },
     "execution_count": 31,
     "metadata": {},
     "output_type": "execute_result"
    }
   ],
   "source": [
    "mb1.warna = 'putih'\n",
    "mb1.warna"
   ]
  },
  {
   "cell_type": "markdown",
   "metadata": {},
   "source": [
    "#### Objek dalam List\n",
    "Kita bisa menyimpan beberapa objek dalam sebuah list. Pertama-tama, kita harus mendeklarasikan list tersebut dalam wujud list kosong."
   ]
  },
  {
   "cell_type": "code",
   "execution_count": 38,
   "metadata": {},
   "outputs": [],
   "source": [
    "garasi = []\n",
    "\n",
    "## for(i=0; i<4 ;i++)\n",
    "## i = 5\n",
    "for i in range(0,4):\n",
    "    mobil = Mobil('honda','biru')\n",
    "    garasi.append(mobil)"
   ]
  },
  {
   "cell_type": "code",
   "execution_count": 39,
   "metadata": {},
   "outputs": [
    {
     "name": "stdout",
     "output_type": "stream",
     "text": [
      "Merk honda Warna biru\n",
      "Merk honda Warna biru\n",
      "Merk honda Warna biru\n",
      "Merk honda Warna biru\n"
     ]
    }
   ],
   "source": [
    "for mobil in garasi:\n",
    "    mobil.tampilInfo()"
   ]
  },
  {
   "cell_type": "markdown",
   "metadata": {},
   "source": [
    "### Contoh Class dan Objek\n",
    "Dibawah ini kita menggunakan class Rocket sebagai contoh."
   ]
  },
  {
   "cell_type": "code",
   "execution_count": 18,
   "metadata": {},
   "outputs": [],
   "source": [
    "class Rocket():\n",
    "    \n",
    "    ## Constructor, berisi kode untuk mengatur koordinat awal roket\n",
    "    def __init__(self):\n",
    "        self.x = 0 ## koordinat x\n",
    "        self.y = 0 ## koordinat y\n",
    "        \n",
    "    ## Method untuk menaikkan posisi roket\n",
    "    def move_up(self, a=1):\n",
    "        self.y += a\n",
    "        \n",
    "    ## Method untuk menurunkan posisi roket\n",
    "    def move_down(self, a=1):\n",
    "        self.y -= a\n",
    "        \n",
    "    ## Method untuk menggeser roket ke kiri\n",
    "    def move_left(self, a=1):\n",
    "        self.x -= a\n",
    "        \n",
    "    ## Method untuk menggeser roket ke kanan\n",
    "    def move_right(self, a=1):\n",
    "        self.x += a\n",
    "        \n",
    "    ## Method untuk menampilkan posisi roket\n",
    "    def print_loc(self):\n",
    "        print('x:', self.x, 'y:', self.y)"
   ]
  },
  {
   "cell_type": "markdown",
   "metadata": {},
   "source": [
    "#### Contoh instansiasi objek"
   ]
  },
  {
   "cell_type": "code",
   "execution_count": 19,
   "metadata": {},
   "outputs": [],
   "source": [
    "r1 = Rocket()\n",
    "r2 = Rocket()\n",
    "r3 = Rocket()\n",
    "r4 = Rocket()"
   ]
  },
  {
   "cell_type": "markdown",
   "metadata": {},
   "source": [
    "#### Contoh pemanggilan method"
   ]
  },
  {
   "cell_type": "code",
   "execution_count": 20,
   "metadata": {},
   "outputs": [],
   "source": [
    "r1.move_up(5)\n",
    "r2.move_up()\n",
    "r3.move_right(3)\n",
    "r4.move_up(7)\n",
    "\n",
    "r1.print_loc()\n",
    "r2.print_loc()\n",
    "r3.print_loc()\n",
    "r4.print_loc()"
   ]
  },
  {
   "cell_type": "markdown",
   "metadata": {},
   "source": [
    "#### Contoh pemanggilan atribut"
   ]
  },
  {
   "cell_type": "code",
   "execution_count": 21,
   "metadata": {},
   "outputs": [
    {
     "name": "stdout",
     "output_type": "stream",
     "text": [
      "Rocket 1: 5\n",
      "Rocket 2: 1\n"
     ]
    }
   ],
   "source": [
    "print(\"Rocket 1:\", r1.y)\n",
    "print(\"Rocket 2:\", r2.y)"
   ]
  },
  {
   "cell_type": "markdown",
   "metadata": {},
   "source": [
    "___\n",
    "## Latihan\n",
    "1. Buatlah objek sederhana yang memiliki minimal 2 atribut dan method untuk mengubah atributnya!"
   ]
  },
  {
   "cell_type": "markdown",
   "metadata": {},
   "source": [
    "___\n",
    "coded with ❤ by [psychohaxer](http://github.com/psychohaxer)\n",
    "___"
   ]
  }
 ],
 "metadata": {
  "kernelspec": {
   "display_name": "Python 3",
   "language": "python",
   "name": "python3"
  },
  "language_info": {
   "codemirror_mode": {
    "name": "ipython",
    "version": 3
   },
   "file_extension": ".py",
   "mimetype": "text/x-python",
   "name": "python",
   "nbconvert_exporter": "python",
   "pygments_lexer": "ipython3",
   "version": "3.7.6"
  }
 },
 "nbformat": 4,
 "nbformat_minor": 4
}
