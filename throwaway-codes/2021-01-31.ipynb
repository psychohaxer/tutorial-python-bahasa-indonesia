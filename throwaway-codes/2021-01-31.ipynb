{
 "cells": [
  {
   "cell_type": "code",
   "execution_count": 19,
   "metadata": {},
   "outputs": [],
   "source": [
    "class Speaker:\n",
    "\n",
    "    def __init__(self, koneksi):\n",
    "        self.koneksi = koneksi\n",
    "        self.battery = 100\n",
    "        self.volume = 5\n",
    "        \n",
    "        self.bentuk = input(\"Masukkan bentuk: \")\n",
    "        self.warna = input(\"Masukkan warna: \")\n",
    "        \n",
    "        print(\"Speaker\", self.bentuk, \"warna\", self.warna, \"berhasil dibuat!\")\n",
    "        \n",
    "    def volume_up(self):\n",
    "        if self.volume < 10:\n",
    "            self.volume += 1\n",
    "        print(\"Volume:\", self.volume)\n",
    "    \n",
    "    def volume_down(self):\n",
    "        if self.volume > 0:\n",
    "            self.volume -= 1\n",
    "        print(\"Volume:\", self.volume)\n",
    "            \n",
    "    def battery_handler(self):\n",
    "        if (self.koneksi == 'bluetooth') and (self.battery >= 10):\n",
    "            self.battery -= 10\n",
    "        print(\"Battery:\", self.battery)\n",
    "            \n",
    "    def play_music(self, music):\n",
    "        print(\"Now Playing:\", music)\n",
    "        self.battery_handler()"
   ]
  },
  {
   "cell_type": "code",
   "execution_count": 20,
   "metadata": {},
   "outputs": [
    {
     "name": "stdin",
     "output_type": "stream",
     "text": [
      "Masukkan bentuk:  kotak\n",
      "Masukkan warna:  hitam\n"
     ]
    },
    {
     "name": "stdout",
     "output_type": "stream",
     "text": [
      "Speaker kotak warna hitam berhasil dibuat!\n"
     ]
    }
   ],
   "source": [
    "spk_cab = Speaker('kabel')"
   ]
  },
  {
   "cell_type": "code",
   "execution_count": 21,
   "metadata": {},
   "outputs": [
    {
     "name": "stdin",
     "output_type": "stream",
     "text": [
      "Masukkan bentuk:  bulat\n",
      "Masukkan warna:  merah\n"
     ]
    },
    {
     "name": "stdout",
     "output_type": "stream",
     "text": [
      "Speaker bulat warna merah berhasil dibuat!\n"
     ]
    }
   ],
   "source": [
    "spk_blu = Speaker('bluetooth')"
   ]
  },
  {
   "cell_type": "code",
   "execution_count": 22,
   "metadata": {},
   "outputs": [
    {
     "name": "stdout",
     "output_type": "stream",
     "text": [
      "Now Playing: Dangdut\n",
      "Battery: 100\n"
     ]
    }
   ],
   "source": [
    "spk_cab.play_music('Dangdut')"
   ]
  },
  {
   "cell_type": "code",
   "execution_count": 23,
   "metadata": {},
   "outputs": [
    {
     "name": "stdout",
     "output_type": "stream",
     "text": [
      "Now Playing: Rock\n",
      "Battery: 90\n"
     ]
    }
   ],
   "source": [
    "spk_blu.play_music(\"Rock\")"
   ]
  },
  {
   "cell_type": "code",
   "execution_count": 24,
   "metadata": {},
   "outputs": [
    {
     "name": "stdout",
     "output_type": "stream",
     "text": [
      "Now Playing: Jazz\n",
      "Battery: 80\n"
     ]
    }
   ],
   "source": [
    "spk_blu.play_music(\"Jazz\")"
   ]
  },
  {
   "cell_type": "code",
   "execution_count": 25,
   "metadata": {},
   "outputs": [
    {
     "name": "stdout",
     "output_type": "stream",
     "text": [
      "Now Playing: Pop\n",
      "Battery: 70\n"
     ]
    }
   ],
   "source": [
    "spk_blu.play_music(\"Pop\")"
   ]
  },
  {
   "cell_type": "code",
   "execution_count": 26,
   "metadata": {},
   "outputs": [
    {
     "name": "stdout",
     "output_type": "stream",
     "text": [
      "Now Playing: Metal\n",
      "Battery: 100\n"
     ]
    }
   ],
   "source": [
    "spk_cab.play_music('Metal')"
   ]
  },
  {
   "cell_type": "code",
   "execution_count": 27,
   "metadata": {},
   "outputs": [
    {
     "name": "stdout",
     "output_type": "stream",
     "text": [
      "Volume: 6\n"
     ]
    }
   ],
   "source": [
    "spk_blu.volume_up()"
   ]
  },
  {
   "cell_type": "code",
   "execution_count": 28,
   "metadata": {},
   "outputs": [
    {
     "name": "stdout",
     "output_type": "stream",
     "text": [
      "Volume: 7\n"
     ]
    }
   ],
   "source": [
    "spk_blu.volume_up()"
   ]
  },
  {
   "cell_type": "code",
   "execution_count": null,
   "metadata": {},
   "outputs": [],
   "source": []
  }
 ],
 "metadata": {
  "kernelspec": {
   "display_name": "Python 3",
   "language": "python",
   "name": "python3"
  },
  "language_info": {
   "codemirror_mode": {
    "name": "ipython",
    "version": 3
   },
   "file_extension": ".py",
   "mimetype": "text/x-python",
   "name": "python",
   "nbconvert_exporter": "python",
   "pygments_lexer": "ipython3",
   "version": "3.7.6"
  }
 },
 "nbformat": 4,
 "nbformat_minor": 4
}
