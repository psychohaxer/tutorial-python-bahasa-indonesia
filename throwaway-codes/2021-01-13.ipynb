{
 "cells": [
  {
   "cell_type": "code",
   "execution_count": 87,
   "metadata": {},
   "outputs": [],
   "source": [
    "class Tank:\n",
    "    jarak = 0\n",
    "    \n",
    "    def __init__(self):\n",
    "        print(\"Tank berhasil dibuat\")\n",
    "    \n",
    "    def maju(self,jarak):\n",
    "        self.jarak += jarak\n",
    "        print(\"Tank maju\", jarak, \"meter\")\n",
    "        print(\"KM tank\", self.jarak, \"meter\")"
   ]
  },
  {
   "cell_type": "code",
   "execution_count": 88,
   "metadata": {},
   "outputs": [
    {
     "name": "stdout",
     "output_type": "stream",
     "text": [
      "Tank berhasil dibuat\n"
     ]
    }
   ],
   "source": [
    "tank1 = Tank()"
   ]
  },
  {
   "cell_type": "code",
   "execution_count": 89,
   "metadata": {},
   "outputs": [
    {
     "name": "stdout",
     "output_type": "stream",
     "text": [
      "Tank maju 20 meter\n",
      "KM tank 20 meter\n"
     ]
    }
   ],
   "source": [
    "tank1.maju(20)"
   ]
  },
  {
   "cell_type": "code",
   "execution_count": 90,
   "metadata": {},
   "outputs": [
    {
     "name": "stdout",
     "output_type": "stream",
     "text": [
      "Hai saya Firman umur 19 tahun\n"
     ]
    }
   ],
   "source": [
    "class Orang:\n",
    "    \n",
    "    def __init__(self, nama, umur, sapa):\n",
    "        self.nama = nama\n",
    "        self.umur = umur\n",
    "        \n",
    "        print(sapa, \"saya\", nama, \"umur\", umur, \"tahun\")\n",
    "        \n",
    "    def kenalan(self):\n",
    "        print(\"Hai, nama saya\" , self.nama)\n",
    "        \n",
    "    def menyapa(self, nama, hobi):\n",
    "        self.hobi = hobi\n",
    "        print(\"Halo\", nama + \". Hobi saya\", hobi)\n",
    "        \n",
    "saya = Orang('Firman', 19, 'Hai')"
   ]
  },
  {
   "cell_type": "code",
   "execution_count": 91,
   "metadata": {},
   "outputs": [
    {
     "name": "stdout",
     "output_type": "stream",
     "text": [
      "Hai, nama saya Firman\n"
     ]
    }
   ],
   "source": [
    "saya.kenalan()"
   ]
  },
  {
   "cell_type": "code",
   "execution_count": 92,
   "metadata": {},
   "outputs": [
    {
     "name": "stdout",
     "output_type": "stream",
     "text": [
      "Halo Mas Pulung. Hobi saya coding\n"
     ]
    }
   ],
   "source": [
    "saya.menyapa('Mas Pulung', 'coding')"
   ]
  },
  {
   "cell_type": "code",
   "execution_count": 93,
   "metadata": {},
   "outputs": [
    {
     "data": {
      "text/plain": [
       "'Firman'"
      ]
     },
     "execution_count": 93,
     "metadata": {},
     "output_type": "execute_result"
    }
   ],
   "source": [
    "saya.nama"
   ]
  },
  {
   "cell_type": "code",
   "execution_count": 94,
   "metadata": {},
   "outputs": [
    {
     "data": {
      "text/plain": [
       "'Adi'"
      ]
     },
     "execution_count": 94,
     "metadata": {},
     "output_type": "execute_result"
    }
   ],
   "source": [
    "saya.nama = 'Adi'\n",
    "saya.nama"
   ]
  },
  {
   "cell_type": "code",
   "execution_count": 95,
   "metadata": {},
   "outputs": [
    {
     "ename": "AttributeError",
     "evalue": "'Orang' object has no attribute 'sapa'",
     "output_type": "error",
     "traceback": [
      "\u001b[1;31m---------------------------------------------------------------------------\u001b[0m",
      "\u001b[1;31mAttributeError\u001b[0m                            Traceback (most recent call last)",
      "\u001b[1;32m<ipython-input-95-11387baa17ab>\u001b[0m in \u001b[0;36m<module>\u001b[1;34m\u001b[0m\n\u001b[1;32m----> 1\u001b[1;33m \u001b[0msaya\u001b[0m\u001b[1;33m.\u001b[0m\u001b[0msapa\u001b[0m\u001b[1;33m\u001b[0m\u001b[1;33m\u001b[0m\u001b[0m\n\u001b[0m",
      "\u001b[1;31mAttributeError\u001b[0m: 'Orang' object has no attribute 'sapa'"
     ]
    }
   ],
   "source": [
    "saya.sapa"
   ]
  },
  {
   "cell_type": "code",
   "execution_count": null,
   "metadata": {},
   "outputs": [],
   "source": [
    "saya.hobi"
   ]
  },
  {
   "cell_type": "code",
   "execution_count": null,
   "metadata": {},
   "outputs": [],
   "source": [
    "type(saya)"
   ]
  },
  {
   "cell_type": "code",
   "execution_count": null,
   "metadata": {},
   "outputs": [],
   "source": [
    "type(tank1)"
   ]
  },
  {
   "cell_type": "code",
   "execution_count": null,
   "metadata": {},
   "outputs": [],
   "source": [
    "class Roti:\n",
    "    \n",
    "    def __init__(self, tipe, p, l, t, rasa):\n",
    "        self.tipe = tipe\n",
    "        self.p = p\n",
    "        self.l = l\n",
    "        self.t = t\n",
    "        self.rasa = rasa\n",
    "        \n",
    "    def ubahRasa(self, rasa):\n",
    "        self.rasa = rasa\n",
    "        \n",
    "    def dimensi(self):\n",
    "        self.volume = self.p * self.l * self.t\n",
    "    \n",
    "    def Total(self, jumlah):\n",
    "        self.dimensi()\n",
    "        print(\"Volume roti:\", jumlah * self.volume)"
   ]
  },
  {
   "cell_type": "code",
   "execution_count": null,
   "metadata": {},
   "outputs": [],
   "source": [
    "bolu = Roti('bolu', 10, 10, 15, 'asin')"
   ]
  },
  {
   "cell_type": "code",
   "execution_count": null,
   "metadata": {},
   "outputs": [],
   "source": [
    "bolu.rasa"
   ]
  },
  {
   "cell_type": "code",
   "execution_count": null,
   "metadata": {},
   "outputs": [],
   "source": [
    "bolu.ubahRasa('manis')"
   ]
  },
  {
   "cell_type": "code",
   "execution_count": null,
   "metadata": {},
   "outputs": [],
   "source": [
    "bolu.rasa"
   ]
  },
  {
   "cell_type": "code",
   "execution_count": null,
   "metadata": {},
   "outputs": [],
   "source": [
    "bolu.Total(2)"
   ]
  },
  {
   "cell_type": "code",
   "execution_count": null,
   "metadata": {},
   "outputs": [],
   "source": []
  }
 ],
 "metadata": {
  "kernelspec": {
   "display_name": "Python 3",
   "language": "python",
   "name": "python3"
  },
  "language_info": {
   "codemirror_mode": {
    "name": "ipython",
    "version": 3
   },
   "file_extension": ".py",
   "mimetype": "text/x-python",
   "name": "python",
   "nbconvert_exporter": "python",
   "pygments_lexer": "ipython3",
   "version": "3.7.6"
  }
 },
 "nbformat": 4,
 "nbformat_minor": 4
}
