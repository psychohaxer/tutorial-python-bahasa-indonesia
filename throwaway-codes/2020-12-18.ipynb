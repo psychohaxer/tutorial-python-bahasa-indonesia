{
 "cells": [
  {
   "cell_type": "code",
   "execution_count": 13,
   "metadata": {},
   "outputs": [],
   "source": [
    "data_string = []\n",
    "data_int = []"
   ]
  },
  {
   "cell_type": "code",
   "execution_count": 22,
   "metadata": {},
   "outputs": [
    {
     "name": "stdin",
     "output_type": "stream",
     "text": [
      "Masukkan input:  ayam\n"
     ]
    },
    {
     "name": "stdout",
     "output_type": "stream",
     "text": [
      "Str:  ['abc', 'ayam']\n",
      "int:  [12, 122]\n"
     ]
    }
   ],
   "source": [
    "masukan = input(\"Masukkan input: \")\n",
    "\n",
    "try:\n",
    "    masukan = int(masukan)\n",
    "    data_int.append(masukan)\n",
    "except ValueError:\n",
    "    data_string.append(masukan)\n",
    "    \n",
    "print(\"Str: \", data_string)\n",
    "print(\"int: \", data_int)"
   ]
  },
  {
   "cell_type": "markdown",
   "metadata": {},
   "source": [
    "`try` sama `except` masuknya ke _error handling_. Logikanya mirip dengan `if-else`."
   ]
  }
 ],
 "metadata": {
  "kernelspec": {
   "display_name": "Python 3",
   "language": "python",
   "name": "python3"
  },
  "language_info": {
   "codemirror_mode": {
    "name": "ipython",
    "version": 3
   },
   "file_extension": ".py",
   "mimetype": "text/x-python",
   "name": "python",
   "nbconvert_exporter": "python",
   "pygments_lexer": "ipython3",
   "version": "3.7.6"
  }
 },
 "nbformat": 4,
 "nbformat_minor": 4
}
