{
 "cells": [
  {
   "cell_type": "code",
   "execution_count": 2,
   "metadata": {},
   "outputs": [],
   "source": [
    "class Speaker:\n",
    "\n",
    "    def __init__(self, koneksi):\n",
    "        self.koneksi = koneksi\n",
    "        self.battery = 100\n",
    "        print(\"Speaker berhasil dibuat!\")\n",
    "    \n",
    "    def set_warna(self, warna):\n",
    "        self.warna = warna\n",
    "        \n",
    "    def volume_up(self):\n",
    "        if self.volume < 10:\n",
    "            self.volume += 1\n",
    "        print(\"Volume:\", self.volume)\n",
    "    \n",
    "    def volume_down(self):\n",
    "        if self.volume > 0:\n",
    "            self.volume -= 1\n",
    "        print(\"Volume:\", self.volume)\n",
    "            \n",
    "    def battery_handler(self):\n",
    "        if (self.koneksi == 'bluetooth') and (self.battery => 10):\n",
    "            self.battery -= 10\n",
    "            print(\"Battery:\", self.battery + \"%\")\n",
    "            \n",
    "    def play_music(self, music):\n",
    "        print(\"Now Playing:\", music)\n",
    "        self.battery_handler()\n",
    "            \n",
    "            "
   ]
  },
  {
   "cell_type": "code",
   "execution_count": null,
   "metadata": {},
   "outputs": [],
   "source": []
  }
 ],
 "metadata": {
  "kernelspec": {
   "display_name": "Python 3",
   "language": "python",
   "name": "python3"
  },
  "language_info": {
   "codemirror_mode": {
    "name": "ipython",
    "version": 3
   },
   "file_extension": ".py",
   "mimetype": "text/x-python",
   "name": "python",
   "nbconvert_exporter": "python",
   "pygments_lexer": "ipython3",
   "version": "3.7.6"
  }
 },
 "nbformat": 4,
 "nbformat_minor": 4
}
