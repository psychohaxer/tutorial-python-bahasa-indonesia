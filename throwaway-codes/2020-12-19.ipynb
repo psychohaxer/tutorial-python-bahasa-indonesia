{
 "cells": [
  {
   "cell_type": "code",
   "execution_count": null,
   "metadata": {},
   "outputs": [],
   "source": [
    "bil = []\n",
    "\n",
    "bb = int(input(\"Batas bawah: \"))\n",
    "ba = int(input(\"Batas atas: \"))\n",
    "it = int(input(\"Interval: \"))\n",
    "\n",
    "for x in range(bb,ba,it):\n",
    "    bil.append(x)\n",
    "    print(x)\n",
    "    \n",
    "print(bil)"
   ]
  },
  {
   "cell_type": "code",
   "execution_count": null,
   "metadata": {},
   "outputs": [],
   "source": [
    "def tampilNama():\n",
    "    nama = input(\"Masukkan nama: \")\n",
    "    print(\"Hai, nama saya\", nama)"
   ]
  }
 ],
 "metadata": {
  "kernelspec": {
   "display_name": "Python 3",
   "language": "python",
   "name": "python3"
  },
  "language_info": {
   "codemirror_mode": {
    "name": "ipython",
    "version": 3
   },
   "file_extension": ".py",
   "mimetype": "text/x-python",
   "name": "python",
   "nbconvert_exporter": "python",
   "pygments_lexer": "ipython3",
   "version": "3.7.6"
  }
 },
 "nbformat": 4,
 "nbformat_minor": 4
}
