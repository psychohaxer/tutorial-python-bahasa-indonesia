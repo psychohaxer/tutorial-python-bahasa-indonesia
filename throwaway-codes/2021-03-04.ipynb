{
 "cells": [
  {
   "cell_type": "code",
   "execution_count": 83,
   "metadata": {},
   "outputs": [],
   "source": [
    "class Motor:\n",
    "    def __init__(self, merk, warna, cc, tahun):\n",
    "        self.merk, self.warna, self.cc, self.tahun = merk, warna, cc, tahun\n",
    "        \n",
    "    def __str__(self):\n",
    "        ket = f\"Merk: {self.merk}, Warna: {self.warna}, CC: {self.cc}, Tahun: {self.tahun}\"\n",
    "        return ket\n",
    "\n",
    "    def __repr__(self):\n",
    "        ket2 = f\"Motor({self.merk}, {self.warna}, {str(self.cc)}, {str(self.tahun)})\"\n",
    "        return ket2\n",
    "    \n",
    "    def tampil_info(self):\n",
    "        print(\"Keterangan Motor\")\n",
    "        print(\"merk:\", self.merk)\n",
    "        print(\"warna:\", self.warna)\n",
    "        print(\"cc:\", self.cc)\n",
    "        print(\"tahun:\", self.tahun)\n",
    "        print(\"\")"
   ]
  },
  {
   "cell_type": "code",
   "execution_count": 84,
   "metadata": {},
   "outputs": [],
   "source": [
    "class Motor_Bebek(Motor):\n",
    "    \n",
    "    def __str__(self):\n",
    "        ket = f\"Merk: {self.merk}, Warna: {self.warna}, CC: {self.cc}, Tahun: {self.tahun}\"\n",
    "        return \"Keterangan | \" + ket + \" |\"\n",
    "    \n",
    "    def __repr__(self):\n",
    "        ket2 = f\"Motor_Bebek({self.merk}, {self.warna}, {str(self.cc)}, {str(self.tahun)})\"\n",
    "        return ket2"
   ]
  },
  {
   "cell_type": "code",
   "execution_count": 85,
   "metadata": {},
   "outputs": [],
   "source": [
    "mtr1 = Motor(\"suzuki\",\"merah\",150,2000)\n",
    "mtr2 = Motor(\"yamaha\",\"kuning\",125,2001)\n",
    "mtr3 = Motor(\"honda\",\"biru\",200,1998)\n",
    "mtr4 = Motor(\"suzuki\",\"coklat\",100,2013)\n",
    "mtr5 = Motor(\"yamaha\",\"hitam\",150,1987)\n",
    "mtr6 = Motor(\"honda\",\"hijau\",150,2001)\n",
    "\n",
    "bbk1 = Motor_Bebek(\"honda\",\"biru\",200,1998)\n",
    "bbk2 = Motor_Bebek(\"suzuki\",\"kuning\",125,2001)\n",
    "bbk3 = Motor_Bebek(\"yamaha\",\"coklat\",150,2013)"
   ]
  },
  {
   "cell_type": "code",
   "execution_count": 86,
   "metadata": {},
   "outputs": [],
   "source": [
    "garasi = [mtr1,mtr2,mtr3,mtr4,mtr5,mtr6,bbk1,bbk2,bbk3]"
   ]
  },
  {
   "cell_type": "code",
   "execution_count": 87,
   "metadata": {},
   "outputs": [
    {
     "name": "stdout",
     "output_type": "stream",
     "text": [
      "Merk: suzuki, Warna: merah, CC: 150, Tahun: 2000\n",
      "Merk: yamaha, Warna: kuning, CC: 125, Tahun: 2001\n",
      "Merk: honda, Warna: biru, CC: 200, Tahun: 1998\n",
      "Merk: suzuki, Warna: coklat, CC: 100, Tahun: 2013\n",
      "Merk: yamaha, Warna: hitam, CC: 150, Tahun: 1987\n",
      "Merk: honda, Warna: hijau, CC: 150, Tahun: 2001\n",
      "Keterangan | Merk: honda, Warna: biru, CC: 200, Tahun: 1998 |\n",
      "Keterangan | Merk: suzuki, Warna: kuning, CC: 125, Tahun: 2001 |\n",
      "Keterangan | Merk: yamaha, Warna: coklat, CC: 150, Tahun: 2013 |\n"
     ]
    }
   ],
   "source": [
    "for motor in garasi:\n",
    "    print(motor)"
   ]
  },
  {
   "cell_type": "code",
   "execution_count": 81,
   "metadata": {},
   "outputs": [
    {
     "name": "stdout",
     "output_type": "stream",
     "text": [
      "Motor(suzuki, merah, 150, 2000)\n",
      "Motor(yamaha, kuning, 125, 2001)\n",
      "Motor(honda, biru, 200, 1998)\n",
      "Motor(suzuki, coklat, 100, 2013)\n",
      "Motor(yamaha, hitam, 150, 1987)\n",
      "Motor(honda, hijau, 150, 2001)\n",
      "Motor_Bebek(honda, biru, 200, 1998)\n",
      "Motor_Bebek(suzuki, kuning, 125, 2001)\n",
      "Motor_Bebek(yamaha, coklat, 150, 2013)\n"
     ]
    }
   ],
   "source": [
    "for motor in garasi:\n",
    "    print(repr(motor))"
   ]
  },
  {
   "cell_type": "code",
   "execution_count": 98,
   "metadata": {},
   "outputs": [
    {
     "name": "stdout",
     "output_type": "stream",
     "text": [
      "1\n",
      "Keterangan Motor\n",
      "merk: suzuki\n",
      "warna: merah\n",
      "cc: 150\n",
      "tahun: 2000\n",
      "\n",
      "2\n",
      "Keterangan Motor\n",
      "merk: yamaha\n",
      "warna: kuning\n",
      "cc: 125\n",
      "tahun: 2001\n",
      "\n",
      "3\n",
      "Keterangan Motor\n",
      "merk: honda\n",
      "warna: biru\n",
      "cc: 200\n",
      "tahun: 1998\n",
      "\n",
      "4\n",
      "Keterangan Motor\n",
      "merk: suzuki\n",
      "warna: coklat\n",
      "cc: 100\n",
      "tahun: 2013\n",
      "\n",
      "5\n",
      "Keterangan Motor\n",
      "merk: yamaha\n",
      "warna: hitam\n",
      "cc: 150\n",
      "tahun: 1987\n",
      "\n",
      "6\n",
      "Keterangan Motor\n",
      "merk: honda\n",
      "warna: hijau\n",
      "cc: 150\n",
      "tahun: 2001\n",
      "\n",
      "7\n",
      "Keterangan Motor\n",
      "merk: honda\n",
      "warna: biru\n",
      "cc: 200\n",
      "tahun: 1998\n",
      "\n",
      "8\n",
      "Keterangan Motor\n",
      "merk: suzuki\n",
      "warna: kuning\n",
      "cc: 125\n",
      "tahun: 2001\n",
      "\n",
      "9\n",
      "Keterangan Motor\n",
      "merk: yamaha\n",
      "warna: coklat\n",
      "cc: 150\n",
      "tahun: 2013\n",
      "\n"
     ]
    }
   ],
   "source": [
    "for motor in garasi:\n",
    "    print(garasi.index(motor) + 1)\n",
    "    motor.tampil_info()"
   ]
  },
  {
   "cell_type": "code",
   "execution_count": null,
   "metadata": {},
   "outputs": [],
   "source": []
  }
 ],
 "metadata": {
  "kernelspec": {
   "display_name": "Python 3",
   "language": "python",
   "name": "python3"
  },
  "language_info": {
   "codemirror_mode": {
    "name": "ipython",
    "version": 3
   },
   "file_extension": ".py",
   "mimetype": "text/x-python",
   "name": "python",
   "nbconvert_exporter": "python",
   "pygments_lexer": "ipython3",
   "version": "3.8.5"
  }
 },
 "nbformat": 4,
 "nbformat_minor": 4
}
