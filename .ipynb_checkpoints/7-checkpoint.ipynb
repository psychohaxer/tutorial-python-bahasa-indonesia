{
 "cells": [
  {
   "cell_type": "markdown",
   "metadata": {},
   "source": [
    "# Modul Python Bahasa Indonesia\n",
    "## Seri Ketujuh\n",
    "___\n",
    "Coded by psychohaxer | Version 1.0 (2020.12.15)\n",
    "___\n",
    "Notebook ini berisi contoh kode dalam Python sekaligus outputnya sebagai referensi dalam coding. Notebook ini boleh disebarluaskan dan diedit tanpa mengubah atau menghilangkan nama pembuatnya. Selamat belajar dan semoga waktu Anda menyenangkan.\n",
    "\n",
    "Catatan: Modul ini menggunakan Python 3\n",
    "\n",
    "Notebook ini dilisensikan dibawah [MIT License](https://opensource.org/licenses/MIT).\n",
    "___"
   ]
  },
  {
   "cell_type": "markdown",
   "metadata": {},
   "source": [
    "## Bab 7 Percabangan\n",
    "Percabangan digunakan untuk mengambil keputusan jika program menemui kondisi tertentu. Python memiiliki beberapa jenis statement (pernyataan) kondisi, yaitu `if`, `elif`, dan `else`."
   ]
  },
  {
   "cell_type": "markdown",
   "metadata": {},
   "source": [
    "### Statement `if`\n",
    "Kita menggunakan `if` untuk penyataan dengan satu kondisi.\n",
    "\n",
    "<img src=\"img/if.png\">\n",
    "\n",
    "Syntax penulisannya:\n",
    "\n",
    "`if kondisi:\n",
    "   blok pernyataan if\n",
    "`\n",
    "\n",
    "Jika kondisi menghasilkan `True`, blok pernyataan if akan dijalankan.\n",
    "\n",
    "Indentasi pada blok pernyataan if bersifat **wajib** karena Python tidak menggunakan kurung kurawal atau _brackets_ `{}` untuk memuat sebuah blok. Python menggunakan indentasi 2 atau 4 spasi (standarnya 4 spasi). Disarankan untuk mengapit sebuah kondisi dengan kurung.\n",
    "\n",
    "Sebagai contoh kita akan memberikan diskon 10% jika nominal pembelian lebih dari atau sama dengan 10"
   ]
  },
  {
   "cell_type": "code",
   "execution_count": 7,
   "metadata": {},
   "outputs": [
    {
     "name": "stdout",
     "output_type": "stream",
     "text": [
      "Anda mendapatkan diskon 10%\n",
      "Total belanjaan Anda: 12\n"
     ]
    }
   ],
   "source": [
    "## Contoh jika pembelian lebih dari 10\n",
    "pembelian = 12\n",
    "\n",
    "if (pembelian >= 10):\n",
    "    print(\"Anda mendapatkan diskon 10%\")\n",
    "    \n",
    "print(\"Total belanjaan Anda:\", pembelian)"
   ]
  },
  {
   "cell_type": "code",
   "execution_count": 8,
   "metadata": {},
   "outputs": [
    {
     "name": "stdout",
     "output_type": "stream",
     "text": [
      "Total belanjaan Anda: 9\n"
     ]
    }
   ],
   "source": [
    "## Contoh jika pembelian kurang dari 10\n",
    "pembelian = 9\n",
    "\n",
    "if (pembelian >= 10):\n",
    "    print(\"Anda mendapatkan diskon 10%\")\n",
    "    \n",
    "print(\"Total belanjaan Anda:\", pembelian)"
   ]
  },
  {
   "cell_type": "markdown",
   "metadata": {},
   "source": [
    "### Statement `if else`\n",
    "Dari contoh diatas kita bisa melihat blok pernyataan if dijalankan hanya jika kondisinya terpenuhi. Bagaimana jika kita ingin menampilkan teks lain jika kondisi awal tidak terpenuhi? Tentu saja kita akan menggunakan `else`.\n",
    "\n",
    "<img src=\"img/ifelse.png\">\n",
    "\n",
    "Syntax penulisannya:\n",
    "\n",
    "`if kondisi:\n",
    "   blok pernyataan if\n",
    "else:\n",
    "    blok pernyataan else\n",
    "`"
   ]
  },
  {
   "cell_type": "code",
   "execution_count": 9,
   "metadata": {},
   "outputs": [
    {
     "name": "stdout",
     "output_type": "stream",
     "text": [
      "Anda mendapatkan diskon 10%\n",
      "Total belanjaan Anda: 12\n"
     ]
    }
   ],
   "source": [
    "## Contoh jika pembelian lebih dari 10\n",
    "pembelian = 12\n",
    "\n",
    "if pembelian >= 10:\n",
    "    print(\"Anda mendapatkan diskon 10%\")\n",
    "else:\n",
    "    print(\"Maaf Anda belum mendapatkan diskon\")\n",
    "    \n",
    "print(\"Total belanjaan Anda:\", pembelian)"
   ]
  },
  {
   "cell_type": "code",
   "execution_count": 10,
   "metadata": {},
   "outputs": [
    {
     "name": "stdout",
     "output_type": "stream",
     "text": [
      "Maaf Anda belum mendapatkan diskon\n",
      "Total belanjaan Anda: 9\n"
     ]
    }
   ],
   "source": [
    "## Contoh jika pembelian kurang dari 10\n",
    "pembelian = 9\n",
    "\n",
    "if (pembelian >= 10):\n",
    "    print(\"Anda mendapatkan diskon 10%\")\n",
    "else:\n",
    "    print(\"Maaf Anda belum mendapatkan diskon\")\n",
    "    \n",
    "print(\"Total belanjaan Anda:\", pembelian)"
   ]
  },
  {
   "cell_type": "markdown",
   "metadata": {},
   "source": [
    "### Statement `elif`\n",
    "Kita bisa menggunakan `elif` yang merupakan singkatan dari `else-if` untuk seleksi banyak kondisi.\n",
    "\n",
    "<img src=\"img/elif.png\">\n",
    "\n",
    "Syntax penulisannya:\n",
    "\n",
    "`if kondisi:\n",
    "   blok pernyataan if\n",
    "elif kondisi:\n",
    "    blok pernyataan else\n",
    "else:\n",
    "    blok pernyataan else\n",
    "`\n",
    "\n",
    "Disini kita akan membuat program untuk menguji apakah suatu bilangan itu ganjil, genap, atau nol."
   ]
  },
  {
   "cell_type": "code",
   "execution_count": 4,
   "metadata": {},
   "outputs": [
    {
     "name": "stdin",
     "output_type": "stream",
     "text": [
      "Masukkan bilangan: 7.5\n"
     ]
    },
    {
     "name": "stdout",
     "output_type": "stream",
     "text": [
      "7.5 bukan bilangan yang valid!\n"
     ]
    }
   ],
   "source": [
    "## contoh program untuk memeriksa apakah input nol, ganjil, atau genap\n",
    "bilangan = float(input(\"Masukkan bilangan:\" ))\n",
    "\n",
    "if (bilangan == 0):\n",
    "    print(bilangan, \"adalah nol\")\n",
    "elif ((bilangan % 2) == 1):\n",
    "    print(bilangan, \"adalah ganjil\")\n",
    "elif ((bilangan % 2) == 0):\n",
    "    print(bilangan, \"adalah genap\")\n",
    "else:\n",
    "    print(bilangan, \"bukan bilangan yang valid!\")"
   ]
  },
  {
   "cell_type": "markdown",
   "metadata": {},
   "source": [
    "## Latihan\n",
    "1. Buatlah program untuk menentukan nilai sesuai input dengan kategori sebagai berikut:\n",
    "\n",
    "|  Angka \t| Nilai \t|\n",
    "|:------:\t|:-----:\t|\n",
    "| 100-85 \t|   A   \t|\n",
    "|  85-75 \t|   B   \t|\n",
    "|  75-60 \t|   C   \t|\n",
    "|  60-45 \t|   D   \t|\n",
    "|  45-0  \t|   E   \t|\n",
    "\n",
    "Challenge: Tampilkan pesan error jika input tidak sesuai kriteria!"
   ]
  },
  {
   "cell_type": "markdown",
   "metadata": {},
   "source": [
    "___\n",
    "coded with ❤ by [psychohaxer](http://github.com/psychohaxer)\n",
    "___"
   ]
  }
 ],
 "metadata": {
  "kernelspec": {
   "display_name": "Python 3",
   "language": "python",
   "name": "python3"
  },
  "language_info": {
   "codemirror_mode": {
    "name": "ipython",
    "version": 3
   },
   "file_extension": ".py",
   "mimetype": "text/x-python",
   "name": "python",
   "nbconvert_exporter": "python",
   "pygments_lexer": "ipython3",
   "version": "3.7.6"
  }
 },
 "nbformat": 4,
 "nbformat_minor": 4
}
