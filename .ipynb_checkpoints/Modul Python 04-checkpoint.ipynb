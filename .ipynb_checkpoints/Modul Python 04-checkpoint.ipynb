{
 "cells": [
  {
   "cell_type": "markdown",
   "metadata": {},
   "source": [
    "# Modul Python Bahasa Indonesia\n",
    "## Seri Keempat\n",
    "___\n",
    "Coded by psychohaxer | Version 1.7 (2020.08.23)\n",
    "___\n",
    "Notebook ini berisi contoh kode dalam Python sekaligus outputnya sebagai referensi dalam coding. Notebook ini boleh disebarluaskan dan diedit tanpa mengubah atau menghilangkan nama pembuatnya. Selamat belajar dan semoga waktu Anda menyenangkan.\n",
    "\n",
    "Catatan: Modul ini menggunakan Python 3\n",
    "\n",
    "[<img src='img/cc-sa.png'>](http://creativecommons.org/licenses/by-sa/4.0/)\n",
    "\n",
    "Notebook ini dilisensikan dibawah [Creative Commons Attribution-ShareAlike 4.0 International License](http://creativecommons.org/licenses/by-sa/4.0/).\n",
    "___"
   ]
  },
  {
   "cell_type": "markdown",
   "metadata": {},
   "source": [
    "## Bab 4 Pengenalan Tipe Data"
   ]
  },
  {
   "cell_type": "markdown",
   "metadata": {},
   "source": [
    "### 1. Tipe Data pada Python\n",
    "Data yang disimpan di memori memiliki tipe yang berbeda – beda. Misalnya untuk panjang, akan disimpan dengan tipe bilangan. Nama orang akan disimpan dalam tipe string/karakter. Suhu akan disimpan dalam bentuk bilangan berkoma. Dan lain sebagainya. Masing – masing tipe data akan memiliki operasi yang berbeda – beda.\n",
    "\n",
    "Python memiliki enam tipe data standar atau paling sering digunakan, yaitu:\n",
    "\n",
    "1. Bilangan (Number)\n",
    "2. String\n",
    "3. List\n",
    "4. Tuple\n",
    "5. Set\n",
    "6. Dictionary"
   ]
  },
  {
   "cell_type": "markdown",
   "metadata": {},
   "source": [
    "#### 1.1 Bilangan (Number)\n",
    "Bilangan (number) adalah salah satu tipe data dasar di Python. Python mendukung bilangan bulat (integer), bilangan pecahan (float), dan bilangan kompleks (complex). Masing–masing diwakili oleh kelas `int`, `float`, dan `complex`.\n",
    "\n",
    "Integer adalah bilangan bulat, yaitu bilangan yang tidak mempunyai koma. Contohnya 1, 2, 100, -30, -5, 99999, dan lain sebagainya. Panjang integer di python tidak dibatasi jumlah digitnya. Selama memori masih cukup, maka sepanjang itulah jumlah digit yang akan ditampilkan.\n",
    "\n",
    "Float adalah bilangan pecahan atau bilangan berkoma. Contohnya adalah 5.5, 3.9, 72.8, -1.5, -0.7878999, dan lain sebagainya. Panjang angka di belakang koma untuk float ini adalah 15 digit.\n",
    "\n",
    "Bilangan kompleks (complex) adalah bilangan yang terdiri dari dua bagian, yaitu bagian yang real dan bagian yang imajiner. Contohnya adalah 3 + 2j, 9 – 5j, dan lain sebagainya.\n",
    "\n",
    "Kita bisa menggunakan fungsi `type()` untuk mengetahui tipe data suatu objek di python."
   ]
  },
  {
   "cell_type": "code",
   "execution_count": 6,
   "metadata": {},
   "outputs": [
    {
     "name": "stdout",
     "output_type": "stream",
     "text": [
      "5 bertipe <class 'int'>\n",
      "1.2 bertipe <class 'float'>\n",
      "(7+4j) bertipe <class 'complex'>\n"
     ]
    }
   ],
   "source": [
    "## Inisialisasi Variabel\n",
    "x = 5\n",
    "y = 1.2\n",
    "z = 7+4j\n",
    "\n",
    "## Menampilkan nilai variabel dan tipenya\n",
    "print(x, 'bertipe', type(x))\n",
    "print(y, 'bertipe', type(y))\n",
    "print(z, 'bertipe', type(z))"
   ]
  },
  {
   "cell_type": "markdown",
   "metadata": {},
   "source": [
    "Tipe data integer di Python panjangnya bisa berapa saja. Panjangnya hanya dibatasi oleh besar memori yang tersedia. Tipe data float akurat sampai 17 angka di belakang koma."
   ]
  },
  {
   "cell_type": "code",
   "execution_count": 7,
   "metadata": {},
   "outputs": [
    {
     "name": "stdout",
     "output_type": "stream",
     "text": [
      "123456789123456789123456789\n",
      "0.12345678912345678\n",
      "(2+9j)\n"
     ]
    }
   ],
   "source": [
    "## Inisialisasi Variabel\n",
    "x = 123456789123456789123456789\n",
    "y = 0.123456789123456789123456789\n",
    "z = 2+9j\n",
    "\n",
    "## Menampilkan nilai variabel\n",
    "print(x)\n",
    "print(y)\n",
    "print(z)"
   ]
  },
  {
   "cell_type": "markdown",
   "metadata": {},
   "source": [
    "### 1.2 String\n",
    "String adalah satu atau serangkaian karakter yang diletakkan diantara tanda kutip, baik tanda kutip tunggal (`'`) maupun ganda (`\"`). Huruf, angka, maupun karakter lainnya yang digabung menjadi teks adalah contoh string.\n",
    "\n",
    "String adalah tipe data yang anggotanya berurut dan memiliki indeks. Indeks dimulai dari angka 0 bila dimulai dari depan dan -1 bila diindeks dari belakang. Tiap karakter bisa diakses menggunakan indeksnya dengan format `string[indeks]`. Pada string juga bisa dilakukan <i>slicing</i> atau mengakses sekelompok substring dengan format `string[awal:akhir]`. Untuk jelasnya bisa diperhatikan contoh berikut."
   ]
  },
  {
   "cell_type": "code",
   "execution_count": 4,
   "metadata": {},
   "outputs": [
    {
     "name": "stdout",
     "output_type": "stream",
     "text": [
      "Halo Python!\n"
     ]
    }
   ],
   "source": [
    "## Deklarasi variabel string\n",
    "kalimat = \"Halo Python!\"\n",
    "\n",
    "## Menampilkan variabel kalimat\n",
    "print(kalimat)      ## print string lengkap"
   ]
  },
  {
   "cell_type": "markdown",
   "metadata": {},
   "source": [
    "Slicing dibahas lebih lanjut di modul berikutnya. Berikut sedikit contoh slicing yang juga bisa dilakukan di list, tuple, set, bahkan dictionary."
   ]
  },
  {
   "cell_type": "code",
   "execution_count": 5,
   "metadata": {},
   "outputs": [
    {
     "name": "stdout",
     "output_type": "stream",
     "text": [
      "H\n"
     ]
    }
   ],
   "source": [
    "## print karakter pertama\n",
    "print(kalimat[0])"
   ]
  },
  {
   "cell_type": "code",
   "execution_count": 6,
   "metadata": {},
   "outputs": [
    {
     "name": "stdout",
     "output_type": "stream",
     "text": [
      "!\n"
     ]
    }
   ],
   "source": [
    "## print karakter terakhir\n",
    "print(kalimat[-1])"
   ]
  },
  {
   "cell_type": "code",
   "execution_count": 7,
   "metadata": {},
   "outputs": [
    {
     "name": "stdout",
     "output_type": "stream",
     "text": [
      " Py\n"
     ]
    }
   ],
   "source": [
    "## print dari indeks 4 - 6\n",
    "print(kalimat[4:7])"
   ]
  },
  {
   "cell_type": "code",
   "execution_count": 8,
   "metadata": {},
   "outputs": [
    {
     "name": "stdout",
     "output_type": "stream",
     "text": [
      "Halo\n"
     ]
    }
   ],
   "source": [
    "## print dari indeks 0 - 3\n",
    "print(kalimat[:4])"
   ]
  },
  {
   "cell_type": "code",
   "execution_count": 9,
   "metadata": {},
   "outputs": [
    {
     "name": "stdout",
     "output_type": "stream",
     "text": [
      "<class 'str'>\n"
     ]
    }
   ],
   "source": [
    "print(type(kalimat))"
   ]
  },
  {
   "cell_type": "markdown",
   "metadata": {},
   "source": [
    "### 1.3 List\n",
    "List adalah tipe data yang berisi satu atau beberapa nilai di dalamnya. Nilai–nilai ini sering juga disebut item, elemen, atau anggota list. List dibuat dengan menempatkan semua item di dalam tanda kurung `[]`, dipisahkan oleh tanda koma. Anggota list bisa berisi satu tipe data, atau campuran. Indeks dimulai dari 0 dan bukan dari 1."
   ]
  },
  {
   "cell_type": "code",
   "execution_count": 2,
   "metadata": {},
   "outputs": [
    {
     "name": "stdout",
     "output_type": "stream",
     "text": [
      "[]\n"
     ]
    }
   ],
   "source": [
    "## List kosong\n",
    "lst = []\n",
    "\n",
    "## Menampilkan isi list\n",
    "print(lst)"
   ]
  },
  {
   "cell_type": "code",
   "execution_count": 4,
   "metadata": {},
   "outputs": [
    {
     "name": "stdout",
     "output_type": "stream",
     "text": [
      "[1, 2, 3, 4, 5]\n"
     ]
    }
   ],
   "source": [
    "## List berisi integer/bilangan bulat\n",
    "lst = [1,2,3,4,5]\n",
    "\n",
    "## Menampilkan isi list\n",
    "print(lst)"
   ]
  },
  {
   "cell_type": "code",
   "execution_count": 5,
   "metadata": {},
   "outputs": [
    {
     "name": "stdout",
     "output_type": "stream",
     "text": [
      "['Modul', 'Python', 'Bahasa', 'Indonesia']\n"
     ]
    }
   ],
   "source": [
    "## List berisi string\n",
    "lst = ['Modul','Python','Bahasa','Indonesia']\n",
    "\n",
    "## Menampilkan isi list\n",
    "print(lst)"
   ]
  },
  {
   "cell_type": "code",
   "execution_count": 6,
   "metadata": {},
   "outputs": [
    {
     "name": "stdout",
     "output_type": "stream",
     "text": [
      "[1, ['Modul', 'Python', 'Bahasa', 'Indonesia'], [1200, 3500, 'a'], (14+5j)]\n"
     ]
    }
   ],
   "source": [
    "# List bersarang\n",
    "lst = [1, ['Modul','Python','Bahasa','Indonesia'], [1200, 3500, 'a'], 14+5j]\n",
    "\n",
    "## Menampilkan isi list\n",
    "print(lst)"
   ]
  },
  {
   "cell_type": "markdown",
   "metadata": {},
   "source": [
    "### 1.4 Tuple\n",
    "Tuple adalah jenis data lain yang mirip dengan list. Perbedaannya dengan list adalah anggotanya tidak bisa diubah (immutable). List bersifat mutable, sedangkan tuple bersifat <i>immutable</i>. Sekali tuple dibuat, maka isinya tidak bisa dimodifikasi lagi. Karena sifatnya yang tidak bisa diubah nilainya, tuple lebih cepat diproses daripada list.\n",
    "\n",
    "Tuple dideklarasikan dengan menggunakan tanda kurung `()`. dan anggotanya dipisahkan oleh tanda koma. Tuple berguna untuk data yang dimaksudkan tidak diubah isinya. Misalnya tuple komposisi warna untuk putih adalah (255,255,255).\n",
    "\n",
    "Seperti halnya list, kita bisa mengakses anggota tuple dengan menggunakan indeksnya."
   ]
  },
  {
   "cell_type": "code",
   "execution_count": 11,
   "metadata": {},
   "outputs": [
    {
     "name": "stdout",
     "output_type": "stream",
     "text": [
      "(255, 255, 255)\n",
      "(255, 0, 0)\n"
     ]
    }
   ],
   "source": [
    "## Deklarasi tuple white dan red\n",
    "white = (255,255, 255)\n",
    "red = (255,0,0)\n",
    "\n",
    "## Menampilkan tuple\n",
    "print(white)\n",
    "print(red)"
   ]
  },
  {
   "cell_type": "markdown",
   "metadata": {},
   "source": [
    "Tuple akan menghasilkan error jika nilainya diganti."
   ]
  },
  {
   "cell_type": "code",
   "execution_count": 12,
   "metadata": {},
   "outputs": [
    {
     "ename": "TypeError",
     "evalue": "'tuple' object does not support item assignment",
     "output_type": "error",
     "traceback": [
      "\u001b[1;31m---------------------------------------------------------------------------\u001b[0m",
      "\u001b[1;31mTypeError\u001b[0m                                 Traceback (most recent call last)",
      "\u001b[1;32m<ipython-input-12-ae8ee85533e6>\u001b[0m in \u001b[0;36m<module>\u001b[1;34m\u001b[0m\n\u001b[1;32m----> 1\u001b[1;33m \u001b[0mwhite\u001b[0m\u001b[1;33m[\u001b[0m\u001b[1;36m1\u001b[0m\u001b[1;33m]\u001b[0m \u001b[1;33m=\u001b[0m \u001b[1;36m0\u001b[0m\u001b[1;33m\u001b[0m\u001b[1;33m\u001b[0m\u001b[0m\n\u001b[0m",
      "\u001b[1;31mTypeError\u001b[0m: 'tuple' object does not support item assignment"
     ]
    }
   ],
   "source": [
    "white[1] = 0"
   ]
  },
  {
   "cell_type": "markdown",
   "metadata": {},
   "source": [
    "### 1.5 Set\n",
    "Set adalah salah satu tipe data di Python yang tidak berurut (unordered). Set memiliki anggota yang <u>unik (tidak ada duplikasi)</u>. Jadi misalnya <u>kalau kita meletakkan beberapa anggota yang sama di dalam set, maka hanya tersimpan ada satu</u>.\n",
    "\n",
    "Set bisa digunakan untuk melakukan operasi himpunan matematika seperti gabungan, irisan, selisih, dan komplemen.\n",
    "\n",
    "Set dibuat dengan meletakkan anggota–anggotanya di dalam tanda kurung kurawal `{ }`, dipisahkan menggunakan tanda koma. Kita juga bisa membuat set dari list dengan memasukkan list ke dalam fungsi `set()`.\n",
    "\n",
    "Set bisa berisi data campuran, baik integer, float, string, dan lain sebagainya. Akan tetapi set tidak bisa berisi list, set, dan dictionary."
   ]
  },
  {
   "cell_type": "code",
   "execution_count": 13,
   "metadata": {},
   "outputs": [
    {
     "name": "stdout",
     "output_type": "stream",
     "text": [
      "{2, 3, 4}\n"
     ]
    }
   ],
   "source": [
    "## Set berisi integer\n",
    "my_set = {2,3,4}\n",
    "\n",
    "## Menampilkan set\n",
    "print(my_set)"
   ]
  },
  {
   "cell_type": "code",
   "execution_count": 17,
   "metadata": {},
   "outputs": [
    {
     "name": "stdout",
     "output_type": "stream",
     "text": [
      "{1, 3, 7}\n"
     ]
    }
   ],
   "source": [
    "## Membuat set dari list dengan fungsi set()\n",
    "## Perhatikan data yang terduplikat akan hilang\n",
    "my_list = [1,3,3,7,3,1,7]\n",
    "my_set = set(my_list)\n",
    "\n",
    "## Menampilkan set\n",
    "print(my_set)"
   ]
  },
  {
   "cell_type": "code",
   "execution_count": 15,
   "metadata": {},
   "outputs": [
    {
     "name": "stdout",
     "output_type": "stream",
     "text": [
      "{1, 2.0, (3, 4, 5), 'Python'}\n"
     ]
    }
   ],
   "source": [
    "## Set berisi data campuran \n",
    "my_set = {1, 2.0, \"Python\", (3,4,5)} \n",
    "\n",
    "## Menampilkan set\n",
    "print(my_set) "
   ]
  },
  {
   "cell_type": "code",
   "execution_count": 18,
   "metadata": {},
   "outputs": [
    {
     "ename": "TypeError",
     "evalue": "unhashable type: 'list'",
     "output_type": "error",
     "traceback": [
      "\u001b[1;31m---------------------------------------------------------------------------\u001b[0m",
      "\u001b[1;31mTypeError\u001b[0m                                 Traceback (most recent call last)",
      "\u001b[1;32m<ipython-input-18-828cb09baa26>\u001b[0m in \u001b[0;36m<module>\u001b[1;34m\u001b[0m\n\u001b[0;32m      1\u001b[0m \u001b[1;31m## Set tidak bisa berisi anggota list\u001b[0m\u001b[1;33m\u001b[0m\u001b[1;33m\u001b[0m\u001b[1;33m\u001b[0m\u001b[0m\n\u001b[0;32m      2\u001b[0m \u001b[1;31m## Contoh berikut akan muncul error TypeError\u001b[0m\u001b[1;33m\u001b[0m\u001b[1;33m\u001b[0m\u001b[1;33m\u001b[0m\u001b[0m\n\u001b[1;32m----> 3\u001b[1;33m \u001b[0mmy_set\u001b[0m \u001b[1;33m=\u001b[0m \u001b[1;33m{\u001b[0m\u001b[1;36m1\u001b[0m\u001b[1;33m,\u001b[0m\u001b[1;36m2\u001b[0m\u001b[1;33m,\u001b[0m\u001b[1;33m[\u001b[0m\u001b[1;36m3\u001b[0m\u001b[1;33m,\u001b[0m\u001b[1;36m4\u001b[0m\u001b[1;33m,\u001b[0m\u001b[1;36m5\u001b[0m\u001b[1;33m]\u001b[0m\u001b[1;33m}\u001b[0m\u001b[1;33m\u001b[0m\u001b[1;33m\u001b[0m\u001b[0m\n\u001b[0m",
      "\u001b[1;31mTypeError\u001b[0m: unhashable type: 'list'"
     ]
    }
   ],
   "source": [
    "## Set tidak bisa berisi anggota list \n",
    "## Contoh berikut akan muncul error TypeError \n",
    "my_set = {1,2,[3,4,5]} "
   ]
  },
  {
   "cell_type": "markdown",
   "metadata": {},
   "source": [
    "### 1.6 Dictionary\n",
    "Dictionary adalah tipe data yang tiap anggotanya terdiri dari pasangan kunci-nilai (key-value). Mirip dengan kamus dimana ada kata ada arti. Dictionary umumnya dipakai untuk data yang besar dan untuk mengakses anggota data secara acak. Anggota dictionary tidak memiliki indeks.\n",
    "\n",
    "Dictionary dideklarasikan dengan menggunakan tanda kurung kurawal `{}`, dimana anggotanya memiliki bentuk `kunci:nilai` atau `key:value` dan tiap anggota dipisah tanda koma. Kunci dan nilainya bisa memiliki tipe sembarang.\n",
    "\n",
    "Untuk mengakses nilai dari anggota dictionary, kita menggunakan key-nya."
   ]
  },
  {
   "cell_type": "code",
   "execution_count": 22,
   "metadata": {},
   "outputs": [
    {
     "name": "stdout",
     "output_type": "stream",
     "text": [
      "{1: 'satu', 2: 'dua', 'tiga': 3}\n"
     ]
    }
   ],
   "source": [
    "## Deklarasi dictionary\n",
    "angka = {1:'satu', 2:'dua', 'tiga':3}\n",
    "\n",
    "## Menampilkan dictionary\n",
    "print(angka)"
   ]
  },
  {
   "cell_type": "code",
   "execution_count": 20,
   "metadata": {},
   "outputs": [
    {
     "name": "stdout",
     "output_type": "stream",
     "text": [
      "dua\n"
     ]
    }
   ],
   "source": [
    "## Mengakses elemen dictionary dengan key\n",
    "print(angka[2])"
   ]
  },
  {
   "cell_type": "markdown",
   "metadata": {},
   "source": [
    "___"
   ]
  },
  {
   "cell_type": "markdown",
   "metadata": {},
   "source": [
    "## Latihan\n",
    "1. Tampilkan dictionary yang berisi nama, umur, alamat!"
   ]
  },
  {
   "cell_type": "code",
   "execution_count": null,
   "metadata": {},
   "outputs": [],
   "source": [
    "## Ketik mulai dibawah sini\n",
    "data_diri = {}\n",
    "\n",
    "print(data_diri)"
   ]
  },
  {
   "cell_type": "markdown",
   "metadata": {},
   "source": [
    "___"
   ]
  }
 ],
 "metadata": {
  "kernelspec": {
   "display_name": "Python 3",
   "language": "python",
   "name": "python3"
  },
  "language_info": {
   "codemirror_mode": {
    "name": "ipython",
    "version": 3
   },
   "file_extension": ".py",
   "mimetype": "text/x-python",
   "name": "python",
   "nbconvert_exporter": "python",
   "pygments_lexer": "ipython3",
   "version": "3.7.6"
  }
 },
 "nbformat": 4,
 "nbformat_minor": 4
}
