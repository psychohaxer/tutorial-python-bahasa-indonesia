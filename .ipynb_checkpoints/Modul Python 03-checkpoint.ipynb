{
 "cells": [
  {
   "cell_type": "markdown",
   "metadata": {},
   "source": [
    "# Modul Python Bahasa Indonesia\n",
    "## Seri Ketiga\n",
    "___\n",
    "Coded by psychohaxer | Version 1.7 (2020.08.23)\n",
    "___\n",
    "Notebook ini berisi contoh kode dalam Python sekaligus outputnya sebagai referensi dalam coding. Notebook ini boleh disebarluaskan dan diedit tanpa mengubah atau menghilangkan nama pembuatnya. Selamat belajar dan semoga waktu Anda menyenangkan.\n",
    "\n",
    "Catatan: Modul ini menggunakan Python 3\n",
    "___"
   ]
  },
  {
   "cell_type": "markdown",
   "metadata": {},
   "source": [
    "## Bab 3 Variabel"
   ]
  },
  {
   "cell_type": "markdown",
   "metadata": {},
   "source": [
    "### 1. Variabel\n",
    "Variabel adalah tempat atau wadah untuk menyimpan nilai yang bisa berupa teks atau angka."
   ]
  },
  {
   "cell_type": "code",
   "execution_count": 1,
   "metadata": {},
   "outputs": [
    {
     "name": "stdout",
     "output_type": "stream",
     "text": [
      "Kita belajar bahasa Python versi 3.8\n"
     ]
    }
   ],
   "source": [
    "## Contoh Penggunaan Variabel\n",
    "\n",
    "bhs = \"Python\"\n",
    "vr = 3.8\n",
    "\n",
    "print(\"Kita belajar bahasa\", bhs, \"versi\", vr)"
   ]
  },
  {
   "cell_type": "markdown",
   "metadata": {},
   "source": [
    "Python bisa memasukkan satu nilai ke beberapa variabel sekaligus."
   ]
  },
  {
   "cell_type": "code",
   "execution_count": 2,
   "metadata": {},
   "outputs": [
    {
     "name": "stdout",
     "output_type": "stream",
     "text": [
      "10 10 10\n"
     ]
    }
   ],
   "source": [
    "## Contoh memasukkan sebuah nilai ke beberapa variabel\n",
    "a = b = c = 10\n",
    "\n",
    "## Menampilkan nilai variabel\n",
    "print(a,b,c)"
   ]
  },
  {
   "cell_type": "markdown",
   "metadata": {},
   "source": [
    "Kita juga bisa memasukkan beberapa nilai ke masing-masing variabel dalam sebaris perintah."
   ]
  },
  {
   "cell_type": "code",
   "execution_count": 16,
   "metadata": {},
   "outputs": [
    {
     "name": "stdout",
     "output_type": "stream",
     "text": [
      "5 3.14 python\n"
     ]
    }
   ],
   "source": [
    "## Variabel diikuti nilai secara berurutan\n",
    "bulat, desimal, teks = 5, 3.14, 'python'\n",
    "\n",
    "## Menampilkan nilai variabel\n",
    "print(bulat, desimal, teks)"
   ]
  },
  {
   "cell_type": "markdown",
   "metadata": {},
   "source": [
    "### 2. Input\n",
    "Kita sudah mengerti bagaimana variabel bekerja menyimpan nilai dan bagaimana memasukkannya, sebagai programmer. Bagaimana dengan pengguna? Fungsi `input` jawabannya."
   ]
  },
  {
   "cell_type": "code",
   "execution_count": 4,
   "metadata": {},
   "outputs": [
    {
     "name": "stdin",
     "output_type": "stream",
     "text": [
      "Masukkan namamu:  Adi\n"
     ]
    },
    {
     "name": "stdout",
     "output_type": "stream",
     "text": [
      "Halo Adi\n"
     ]
    }
   ],
   "source": [
    "## Variabel nama menerima input dengan argumen \"Masukkan namamu: \"\n",
    "## Argumen itu diperlukan sebagai petunjuk untuk pengguna.\n",
    "nama = input(\"Masukkan namamu: \")\n",
    "\n",
    "## Menampilkan kata Halo dan variabel nama\n",
    "print(\"Halo\", nama) "
   ]
  },
  {
   "cell_type": "markdown",
   "metadata": {},
   "source": [
    "Input pengguna sangat memungkinkan kita membuat program yang interaktif."
   ]
  },
  {
   "cell_type": "code",
   "execution_count": 7,
   "metadata": {},
   "outputs": [
    {
     "name": "stdin",
     "output_type": "stream",
     "text": [
      "Masukkan namamu:  Fadli\n",
      "Masukkan umurmu:  18\n"
     ]
    },
    {
     "name": "stdout",
     "output_type": "stream",
     "text": [
      "Hai namaku, Fadli umurku 18 tahun.\n"
     ]
    }
   ],
   "source": [
    "## Contoh program dengan input pengguna\n",
    "\n",
    "nama = input(\"Masukkan namamu: \")\n",
    "umur = input(\"Masukkan umurmu: \")\n",
    "\n",
    "print(\"Hai namaku,\", nama, \"umurku\", umur, \"tahun.\")"
   ]
  },
  {
   "cell_type": "markdown",
   "metadata": {},
   "source": [
    "Mudah bukan? Dengan fungsi `input`, bukan tidak mungkin untuk membuat program yang menerima masukan dari penggunanya!"
   ]
  },
  {
   "cell_type": "markdown",
   "metadata": {},
   "source": [
    "___"
   ]
  },
  {
   "cell_type": "markdown",
   "metadata": {},
   "source": [
    "## Latihan\n",
    "1. Tampilkan buatlah program yang menerima input nama, alamat, dan nomor HP.\n",
    "2. Tampilkan hasil input tersebut!"
   ]
  },
  {
   "cell_type": "code",
   "execution_count": null,
   "metadata": {},
   "outputs": [],
   "source": [
    "## Ketik mulai dibawah ini\n",
    "\n"
   ]
  },
  {
   "cell_type": "markdown",
   "metadata": {},
   "source": [
    "___"
   ]
  }
 ],
 "metadata": {
  "kernelspec": {
   "display_name": "Python 3",
   "language": "python",
   "name": "python3"
  },
  "language_info": {
   "codemirror_mode": {
    "name": "ipython",
    "version": 3
   },
   "file_extension": ".py",
   "mimetype": "text/x-python",
   "name": "python",
   "nbconvert_exporter": "python",
   "pygments_lexer": "ipython3",
   "version": "3.7.6"
  }
 },
 "nbformat": 4,
 "nbformat_minor": 4
}
