{
 "cells": [
  {
   "cell_type": "markdown",
   "metadata": {},
   "source": [
    "# Modul Python Bahasa Indonesia\n",
    "## Seri Kedelapan\n",
    "___\n",
    "Coded by psychohaxer | Version 1.0 (2020.12.15)\n",
    "___\n",
    "Notebook ini berisi contoh kode dalam Python sekaligus outputnya sebagai referensi dalam coding. Notebook ini boleh disebarluaskan dan diedit tanpa mengubah atau menghilangkan nama pembuatnya. Selamat belajar dan semoga waktu Anda menyenangkan.\n",
    "\n",
    "Catatan: Modul ini menggunakan Python 3\n",
    "\n",
    "Notebook ini dilisensikan dibawah [MIT License](https://opensource.org/licenses/MIT).\n",
    "___"
   ]
  },
  {
   "cell_type": "markdown",
   "metadata": {},
   "source": [
    "## Bab 8 Perulangan\n",
    "Perulangan adalah proses untuk menjalankan perintah tertentu selama suatu kondisi masih terpenuhi. Ini berguna untuk mengulang prosedur lebih dari satu kali tanpa harus mengulang penulisan kode programnya. Python mendukung `for` dan `while`"
   ]
  },
  {
   "cell_type": "markdown",
   "metadata": {},
   "source": [
    "### Statement `for`\n",
    "Statement ini memiliki syntax:\n",
    "\n",
    "`for var in sequence:\n",
    "    code\n",
    "`\n",
    "* `var` = variabel sementara untuk memuat nilai perulangan\n",
    "* `sequence` = variabel/\n",
    "* `code` = kode yang dijalankan dalam perulangan\n"
   ]
  },
  {
   "cell_type": "markdown",
   "metadata": {},
   "source": [
    "#### Statement `for in var`\n",
    "Digunakan untuk melakukan perulangan dengan urutan variabel yang _iterable_ seperti string, list, tuple, set."
   ]
  },
  {
   "cell_type": "markdown",
   "metadata": {},
   "source": [
    "##### Iterator string\n",
    "String dapat digunakan sebagai iterator dimana panjangnya menjadi banyaknya perulangan."
   ]
  },
  {
   "cell_type": "code",
   "execution_count": 2,
   "metadata": {},
   "outputs": [
    {
     "name": "stdout",
     "output_type": "stream",
     "text": [
      "t\n",
      "o\n",
      "y\n",
      "o\n",
      "t\n",
      "a\n"
     ]
    }
   ],
   "source": [
    "merk = 'toyota'\n",
    "\n",
    "for x in merk:\n",
    "    print(x)"
   ]
  },
  {
   "cell_type": "code",
   "execution_count": 3,
   "metadata": {},
   "outputs": [
    {
     "name": "stdout",
     "output_type": "stream",
     "text": [
      "Loop\n",
      "Loop\n",
      "Loop\n",
      "Loop\n",
      "Loop\n",
      "Loop\n"
     ]
    }
   ],
   "source": [
    "for x in merk:\n",
    "    print(\"Loop\")"
   ]
  },
  {
   "cell_type": "markdown",
   "metadata": {},
   "source": [
    "##### Iterator list\n",
    "Jika iterator string diambil jumlah panjangnya, list diambil jumlah elemennya."
   ]
  },
  {
   "cell_type": "code",
   "execution_count": 4,
   "metadata": {},
   "outputs": [
    {
     "name": "stdout",
     "output_type": "stream",
     "text": [
      "toyota\n",
      "daihatsu\n",
      "suzuki\n"
     ]
    }
   ],
   "source": [
    "merk_mobil = ['toyota','daihatsu','suzuki']\n",
    "\n",
    "for x in merk_mobil:\n",
    "    print(x)"
   ]
  },
  {
   "cell_type": "code",
   "execution_count": 5,
   "metadata": {},
   "outputs": [
    {
     "name": "stdout",
     "output_type": "stream",
     "text": [
      "perulangan\n",
      "perulangan\n",
      "perulangan\n"
     ]
    }
   ],
   "source": [
    "for x in merk_mobil:\n",
    "    print(\"perulangan\")"
   ]
  },
  {
   "cell_type": "markdown",
   "metadata": {},
   "source": [
    "Jika kita menggunakan tipe data non _iterable_, maka akan menghasilkan error."
   ]
  },
  {
   "cell_type": "code",
   "execution_count": 6,
   "metadata": {},
   "outputs": [
    {
     "ename": "TypeError",
     "evalue": "'int' object is not iterable",
     "output_type": "error",
     "traceback": [
      "\u001b[1;31m---------------------------------------------------------------------------\u001b[0m",
      "\u001b[1;31mTypeError\u001b[0m                                 Traceback (most recent call last)",
      "\u001b[1;32m<ipython-input-6-c447e4404bf1>\u001b[0m in \u001b[0;36m<module>\u001b[1;34m\u001b[0m\n\u001b[0;32m      1\u001b[0m \u001b[0mangka\u001b[0m \u001b[1;33m=\u001b[0m \u001b[1;36m4\u001b[0m\u001b[1;33m\u001b[0m\u001b[1;33m\u001b[0m\u001b[0m\n\u001b[0;32m      2\u001b[0m \u001b[1;33m\u001b[0m\u001b[0m\n\u001b[1;32m----> 3\u001b[1;33m \u001b[1;32mfor\u001b[0m \u001b[0mx\u001b[0m \u001b[1;32min\u001b[0m \u001b[0mangka\u001b[0m\u001b[1;33m:\u001b[0m\u001b[1;33m\u001b[0m\u001b[1;33m\u001b[0m\u001b[0m\n\u001b[0m\u001b[0;32m      4\u001b[0m     \u001b[0mprint\u001b[0m\u001b[1;33m(\u001b[0m\u001b[0mx\u001b[0m\u001b[1;33m)\u001b[0m\u001b[1;33m\u001b[0m\u001b[1;33m\u001b[0m\u001b[0m\n",
      "\u001b[1;31mTypeError\u001b[0m: 'int' object is not iterable"
     ]
    }
   ],
   "source": [
    "angka = 4\n",
    "\n",
    "for x in angka:\n",
    "    print(x)"
   ]
  },
  {
   "cell_type": "markdown",
   "metadata": {},
   "source": [
    "#### Statement `for in range`\n",
    "Fungsi `range()` digunakan untuk melakukan perulangan sebanyak jumlah yang disebutkan. `for in range(7)` akan melakukan perulangan sebanyak 7 kali (iterasi 0 sampai 6). Perulangan dilakukan dengan interval 1 _increment (++)_."
   ]
  },
  {
   "cell_type": "code",
   "execution_count": 2,
   "metadata": {},
   "outputs": [
    {
     "name": "stdout",
     "output_type": "stream",
     "text": [
      "0\n",
      "1\n",
      "2\n",
      "3\n",
      "4\n",
      "5\n",
      "6\n"
     ]
    }
   ],
   "source": [
    "for x in range(7):\n",
    "  print(x)"
   ]
  },
  {
   "cell_type": "markdown",
   "metadata": {},
   "source": [
    "Jika diberikan dua parameter, fungsi `range()` akan memulai iterasi dari parameter pertama dengan batas parameter kedua."
   ]
  },
  {
   "cell_type": "code",
   "execution_count": 3,
   "metadata": {},
   "outputs": [
    {
     "name": "stdout",
     "output_type": "stream",
     "text": [
      "3\n",
      "4\n",
      "5\n",
      "6\n"
     ]
    }
   ],
   "source": [
    "for x in range(3,7):\n",
    "    print(x)"
   ]
  },
  {
   "cell_type": "markdown",
   "metadata": {},
   "source": [
    "Fungsi `range()` bila diberi 3 parameter maka parameter pertama, kedua, dan ketiga sebagai **batas bawah**, **batas atas**, dan **interval** secara berurutan. Jika **interval** dikosongkan maka secara default nilainya 1."
   ]
  },
  {
   "cell_type": "code",
   "execution_count": 5,
   "metadata": {},
   "outputs": [
    {
     "name": "stdout",
     "output_type": "stream",
     "text": [
      "1\n",
      "4\n",
      "7\n",
      "10\n",
      "13\n",
      "16\n",
      "19\n"
     ]
    }
   ],
   "source": [
    "for x in range(1,20,3):\n",
    "    print(x)"
   ]
  },
  {
   "cell_type": "markdown",
   "metadata": {},
   "source": [
    "#### Penggunaan `else`\n",
    "Berbeda dengan pada `if`, `else` pada `for` akan menjalankan kode program setelah perulangan selesai dilakukan."
   ]
  },
  {
   "cell_type": "code",
   "execution_count": 8,
   "metadata": {},
   "outputs": [
    {
     "name": "stdout",
     "output_type": "stream",
     "text": [
      "1\n",
      "2\n",
      "3\n",
      "4\n",
      "Selesai!\n"
     ]
    }
   ],
   "source": [
    "for x in range(1,5):\n",
    "    print(x)\n",
    "else:\n",
    "    print(\"Selesai!\")"
   ]
  },
  {
   "cell_type": "markdown",
   "metadata": {},
   "source": [
    "#### Perulangan Bersarang\n",
    "Sama seperti `if`, `for` juga bisa berada didalam sejenisnya atau bersarang. Perulangan dalam akan dieksekusi sekali setiap iterasi perulangan luar. Contohnya kita punya 3 nama calon ketua dan 3 nama calon wakil. Kita akan menampilkan semua kemungkinan pasangan."
   ]
  },
  {
   "cell_type": "code",
   "execution_count": null,
   "metadata": {},
   "outputs": [],
   "source": [
    "ketua = ['Andi', 'Edo', 'Rizki']\n",
    "wakil = ['Deva', 'Puput', 'Rifa']"
   ]
  },
  {
   "cell_type": "code",
   "execution_count": 9,
   "metadata": {},
   "outputs": [
    {
     "name": "stdout",
     "output_type": "stream",
     "text": [
      "Andi Deva\n",
      "Andi Puput\n",
      "Andi Rifa\n",
      "Edo Deva\n",
      "Edo Puput\n",
      "Edo Rifa\n",
      "Rizki Deva\n",
      "Rizki Puput\n",
      "Rizki Rifa\n"
     ]
    }
   ],
   "source": [
    "for x in ketua: ## perulangan luar\n",
    "    for y in wakil: ## perulangan dalam\n",
    "        print(x,y)"
   ]
  },
  {
   "cell_type": "markdown",
   "metadata": {},
   "source": [
    "Selain contoh di atas, ada juga contoh lainnya."
   ]
  },
  {
   "cell_type": "code",
   "execution_count": 22,
   "metadata": {},
   "outputs": [
    {
     "name": "stdout",
     "output_type": "stream",
     "text": [
      "1 a\n",
      "1 b\n",
      "1 c\n",
      "2 a\n",
      "2 b\n",
      "2 c\n",
      "3 a\n",
      "3 b\n",
      "3 c\n"
     ]
    }
   ],
   "source": [
    "for x in range(1,4):\n",
    "    for y in \"abc\":\n",
    "        print(x,y)"
   ]
  },
  {
   "cell_type": "markdown",
   "metadata": {},
   "source": [
    "#### Statement `break`\n",
    "Jika kita ingin menghentikan perulangan jika sampai pada kondisi tertentu, gunakan `break`. Contohnya kita akan **menghentikan perulangan** jika iterasinya sudah sampai pada 'sapi'."
   ]
  },
  {
   "cell_type": "code",
   "execution_count": 17,
   "metadata": {},
   "outputs": [],
   "source": [
    "hewan = ['ayam', 'kambing', 'kerbau', 'sapi', 'kuda']"
   ]
  },
  {
   "cell_type": "code",
   "execution_count": 18,
   "metadata": {},
   "outputs": [
    {
     "name": "stdout",
     "output_type": "stream",
     "text": [
      "ayam\n",
      "kambing\n",
      "kerbau\n",
      "sapi\n"
     ]
    }
   ],
   "source": [
    "for x in hewan:\n",
    "    print(x)\n",
    "    \n",
    "    if x == 'sapi':\n",
    "        break"
   ]
  },
  {
   "cell_type": "markdown",
   "metadata": {},
   "source": [
    "Lihat, perulangan hanya sampai pada 'sapi', dan 'kuda' tidak dibaca."
   ]
  },
  {
   "cell_type": "markdown",
   "metadata": {},
   "source": [
    "#### Statement `continue`\n",
    "Karena suatu hal, mungkin kita ingin melewati suatu iterasi. Kita bisa menggunakan `continue`."
   ]
  },
  {
   "cell_type": "code",
   "execution_count": 19,
   "metadata": {},
   "outputs": [],
   "source": [
    "unggas = ['ayam', 'bebek', 'merpati', 'kuda', 'angsa', 'puyuh']"
   ]
  },
  {
   "cell_type": "code",
   "execution_count": 20,
   "metadata": {},
   "outputs": [
    {
     "name": "stdout",
     "output_type": "stream",
     "text": [
      "ayam\n",
      "bebek\n",
      "merpati\n",
      "kuda\n",
      "angsa\n",
      "puyuh\n"
     ]
    }
   ],
   "source": [
    "for x in unggas:\n",
    "    print(x)\n",
    "    \n",
    "    if x == 'kuda':\n",
    "        continue"
   ]
  },
  {
   "cell_type": "markdown",
   "metadata": {},
   "source": [
    "Berbeda dengan `break`, `continue` melewati iterasi **tanpa menghentikan perulangan**. Kasihan sekali ya kuda tidak tampil dari tadi."
   ]
  },
  {
   "cell_type": "markdown",
   "metadata": {},
   "source": [
    "### Statement `while`\n",
    "Perulangan dengan `while` akan tetap dilakukan selama kondisinya masih bernilai benar."
   ]
  },
  {
   "cell_type": "code",
   "execution_count": 24,
   "metadata": {},
   "outputs": [
    {
     "name": "stdout",
     "output_type": "stream",
     "text": [
      "0\n",
      "1\n",
      "2\n",
      "3\n",
      "4\n",
      "5\n",
      "6\n",
      "7\n",
      "8\n",
      "9\n"
     ]
    }
   ],
   "source": [
    "a = 0\n",
    "\n",
    "while a < 10:\n",
    "    print(a)\n",
    "    a += 1"
   ]
  },
  {
   "cell_type": "markdown",
   "metadata": {},
   "source": [
    "#### Penggunaan `else`\n",
    "Kode dalam blok `else` akan dijalankan setelah perulangan berakhir."
   ]
  },
  {
   "cell_type": "code",
   "execution_count": 42,
   "metadata": {},
   "outputs": [
    {
     "name": "stdout",
     "output_type": "stream",
     "text": [
      "a: 0\n",
      "a: 1\n",
      "a: 2\n",
      "a: 3\n",
      "a: 4\n",
      "a: 5\n",
      "a: 6\n",
      "a: 7\n",
      "a: 8\n",
      "a: 9\n",
      "a sudah tidak kurang dari 10 lagi\n"
     ]
    }
   ],
   "source": [
    "a = 0\n",
    "\n",
    "while a < 10:\n",
    "    print(\"a:\", a)\n",
    "    a += 1\n",
    "else:\n",
    "    print(\"a sudah tidak kurang dari 10 lagi\")"
   ]
  },
  {
   "cell_type": "markdown",
   "metadata": {},
   "source": [
    "#### Statement `break`\n",
    "Sama seperti `for`, `break` juga bisa digunakan di `while`. Misal kita ingin berhenti di angka 5 karena suatu hal."
   ]
  },
  {
   "cell_type": "code",
   "execution_count": 31,
   "metadata": {},
   "outputs": [
    {
     "name": "stdout",
     "output_type": "stream",
     "text": [
      "0\n",
      "1\n",
      "2\n",
      "3\n",
      "4\n",
      "5\n"
     ]
    }
   ],
   "source": [
    "a = 0\n",
    "\n",
    "while a < 10:\n",
    "    print(a)\n",
    "    if a == 5:\n",
    "        break\n",
    "    a += 1"
   ]
  },
  {
   "cell_type": "markdown",
   "metadata": {},
   "source": [
    "#### Statement `continue`\n",
    "Penggunaanya sama seperti pada `for`. Misal kita ingin melewati angka 5."
   ]
  },
  {
   "cell_type": "code",
   "execution_count": 40,
   "metadata": {},
   "outputs": [
    {
     "name": "stdout",
     "output_type": "stream",
     "text": [
      "1\n",
      "2\n",
      "4\n",
      "5\n",
      "6\n",
      "7\n",
      "8\n",
      "9\n",
      "10\n"
     ]
    }
   ],
   "source": [
    "a = 0\n",
    "while a < 10:\n",
    "  a += 1\n",
    "  if a == 3:\n",
    "    continue\n",
    "  print(a)"
   ]
  },
  {
   "cell_type": "markdown",
   "metadata": {},
   "source": [
    "___\n",
    "## Latihan\n",
    "1. Buat perulangan yang hanya menampilkan bilangan kelipatan 3 dari 0-100.\n",
    "\n",
    "Challenge: Buat program dimana user bisa input sendiri batas bawah, batas atas, dan interval."
   ]
  },
  {
   "cell_type": "markdown",
   "metadata": {},
   "source": [
    "___\n",
    "coded with ❤ by [psychohaxer](http://github.com/psychohaxer)\n",
    "___"
   ]
  }
 ],
 "metadata": {
  "kernelspec": {
   "display_name": "Python 3",
   "language": "python",
   "name": "python3"
  },
  "language_info": {
   "codemirror_mode": {
    "name": "ipython",
    "version": 3
   },
   "file_extension": ".py",
   "mimetype": "text/x-python",
   "name": "python",
   "nbconvert_exporter": "python",
   "pygments_lexer": "ipython3",
   "version": "3.7.6"
  }
 },
 "nbformat": 4,
 "nbformat_minor": 4
}
