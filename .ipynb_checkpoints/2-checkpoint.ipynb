{
 "cells": [
  {
   "cell_type": "markdown",
   "metadata": {},
   "source": [
    "# Modul Python Bahasa Indonesia\n",
    "## Seri Kedua\n",
    "___\n",
    "Coded by psychohaxer | Version 1.8 (2020.12.13)\n",
    "___\n",
    "Notebook ini berisi contoh kode dalam Python sekaligus outputnya sebagai referensi dalam coding. Notebook ini boleh disebarluaskan dan diedit tanpa mengubah atau menghilangkan nama pembuatnya. Selamat belajar dan semoga waktu Anda menyenangkan.\n",
    "\n",
    "Catatan: Modul ini menggunakan Python 3\n",
    "\n",
    "Notebook ini dilisensikan dibawah [MIT License](https://opensource.org/licenses/MIT).\n",
    "___"
   ]
  },
  {
   "cell_type": "markdown",
   "metadata": {},
   "source": [
    "## Bab 2 Halo Python!\n",
    "### Menampilkan Teks\n",
    "Python menampilkan teks dengan fungsi `print` dengan format sebagai berikut:"
   ]
  },
  {
   "cell_type": "code",
   "execution_count": 1,
   "metadata": {},
   "outputs": [
    {
     "name": "stdout",
     "output_type": "stream",
     "text": [
      "Halo Python\n"
     ]
    }
   ],
   "source": [
    "print('Halo Python')"
   ]
  },
  {
   "cell_type": "code",
   "execution_count": 2,
   "metadata": {},
   "outputs": [
    {
     "name": "stdout",
     "output_type": "stream",
     "text": [
      "Halo Python!\n"
     ]
    }
   ],
   "source": [
    "print(\"Halo Python!\")"
   ]
  },
  {
   "cell_type": "markdown",
   "metadata": {},
   "source": [
    "Dari kedua contoh diatas dapat kita perhatikan Python dapat menampilkan teks \"Halo Python!\" dengan fungsi `print`. Yang menjadi membedakan dua contoh tersebut adalah penggunaan <u>tanda petik untuk mengapit teks yang akan ditampilkan</u>. Contoh pertama menggunakan petik satu (`'`) dan berikutnya dengan petik dua (`\"`). Meskipun petiknya berbeda, teks yang ditampilkan tetap sama. Kapan saat yang tepat menggunakan keduanya?"
   ]
  },
  {
   "cell_type": "code",
   "execution_count": 3,
   "metadata": {},
   "outputs": [
    {
     "name": "stdout",
     "output_type": "stream",
     "text": [
      "\"Kita sedang belajar bahasa Python\", sahut Kamidi.\n"
     ]
    }
   ],
   "source": [
    "print('\"Kita sedang belajar bahasa Python\", sahut Kamidi.')"
   ]
  },
  {
   "cell_type": "code",
   "execution_count": 4,
   "metadata": {},
   "outputs": [
    {
     "name": "stdout",
     "output_type": "stream",
     "text": [
      "Itu adalah trend tahun 90'an.\n"
     ]
    }
   ],
   "source": [
    "print(\"Itu adalah trend tahun 90'an.\")"
   ]
  },
  {
   "cell_type": "markdown",
   "metadata": {},
   "source": [
    "Kedua contoh diatas menunjukkan kapan kita harus menggunakan petik satu dan dua. Bagaimana jika kedua petik yang mengapit sama dengan petik yang ditampilkan? Kita bisa menggunakan <i>escape character</i> dengan menambahkan tanda backslash (`\\`) sebelum petik tersebut."
   ]
  },
  {
   "cell_type": "code",
   "execution_count": 5,
   "metadata": {},
   "outputs": [
    {
     "name": "stdout",
     "output_type": "stream",
     "text": [
      "Hari ini hari Jum'at.\n"
     ]
    }
   ],
   "source": [
    "print('Hari ini hari Jum\\'at.')"
   ]
  },
  {
   "cell_type": "code",
   "execution_count": 6,
   "metadata": {},
   "outputs": [
    {
     "name": "stdout",
     "output_type": "stream",
     "text": [
      "Aku sering dipanggil \"Sensei\" oleh teman-temanku di kampus.\n"
     ]
    }
   ],
   "source": [
    "print(\"Aku sering dipanggil \\\"Sensei\\\" oleh teman-temanku di kampus.\")"
   ]
  },
  {
   "cell_type": "markdown",
   "metadata": {},
   "source": [
    "Kita sekarang mengerti bagaimana menampilkan satu baris teks. Bagaimana jika teks tersebut ada beberapa baris?"
   ]
  },
  {
   "cell_type": "code",
   "execution_count": 7,
   "metadata": {},
   "outputs": [
    {
     "name": "stdout",
     "output_type": "stream",
     "text": [
      "Ini\n",
      "adalah\n",
      "contohnya.\n"
     ]
    }
   ],
   "source": [
    "print(\"Ini\")\n",
    "print(\"adalah\")\n",
    "print(\"contohnya.\")"
   ]
  },
  {
   "cell_type": "markdown",
   "metadata": {},
   "source": [
    "Ya cara tersebut bisa dilakukan, tapi itu tidak efektif."
   ]
  },
  {
   "cell_type": "code",
   "execution_count": 8,
   "metadata": {},
   "outputs": [
    {
     "name": "stdout",
     "output_type": "stream",
     "text": [
      "Ini\n",
      "adalah\n",
      "contohnya.\n"
     ]
    }
   ],
   "source": [
    "print('''Ini\n",
    "adalah\n",
    "contohnya.''')"
   ]
  },
  {
   "cell_type": "markdown",
   "metadata": {},
   "source": [
    "Terlihat lebih baik bukan?"
   ]
  },
  {
   "cell_type": "code",
   "execution_count": 9,
   "metadata": {},
   "outputs": [
    {
     "name": "stdout",
     "output_type": "stream",
     "text": [
      "Petik\n",
      "dua juga\n",
      "bisa lho!.\n"
     ]
    }
   ],
   "source": [
    "print(\"\"\"Petik\n",
    "dua juga\n",
    "bisa lho!.\"\"\")"
   ]
  },
  {
   "cell_type": "markdown",
   "metadata": {},
   "source": [
    "### Komentar\n",
    "Komentar pada Python <b>tidak dibaca sebagai kode program</b>, melainkan dilewati begitu saja seolah-olah teks tersebut tidak ada. Komentar digunakan untuk menambahkan catatan pada kode program sebagai pengingat atau penjelas kode. Selain itu komentar dapat membuat sebagian kode program tidak terbaca oleh mesin. Komentar dalam Python menggunakan tanda pagar (`#`) di awalnya.\n",
    "\n",
    "Tips: Gunakan satu pagar (`#`) untuk membuat kode program menjadi komentar dan gunakan dua pagar (`##`) untuk komentar/dokumentasi supaya lebih jelas perbedaannya."
   ]
  },
  {
   "cell_type": "code",
   "execution_count": 10,
   "metadata": {},
   "outputs": [
    {
     "name": "stdout",
     "output_type": "stream",
     "text": [
      "Ini dijalankan\n"
     ]
    }
   ],
   "source": [
    "## Ini adalah dokumentasi kode program.\n",
    "# print('Ini kode yang tidak dijalankan untuk suatu alasan')\n",
    "\n",
    "print('Ini dijalankan') ## Ini keterangan per barisnya"
   ]
  },
  {
   "cell_type": "markdown",
   "metadata": {},
   "source": [
    "Berikut adalah contoh penggunaan komentar pada Python."
   ]
  },
  {
   "cell_type": "code",
   "execution_count": 11,
   "metadata": {},
   "outputs": [
    {
     "name": "stdout",
     "output_type": "stream",
     "text": [
      "Komentar di Python diawali dengan tanda pagar (#).\n"
     ]
    }
   ],
   "source": [
    "## Contoh ini menunjukkan bagaimana penerapan komentar di Python\n",
    "\n",
    "## Fungsi Print untuk menampilkan teks.\n",
    "print(\"Komentar di Python diawali dengan tanda pagar (#).\") ## Menampilkan teks tentang komentar di Python.\n",
    "\n",
    "## Kode ini bermasalah jadi sementara dijadikan komentar agar tidak mengganggu jalannya program.\n",
    "# print(\"Contoh baris yang error')"
   ]
  },
  {
   "cell_type": "markdown",
   "metadata": {},
   "source": [
    "Membuat dokumentasi dalam program sangat berguna agar kode tersebut mudah dipahami kembali jika lama tidak dilihat atau hendak dilihat orang lain."
   ]
  },
  {
   "cell_type": "markdown",
   "metadata": {},
   "source": [
    "___"
   ]
  },
  {
   "cell_type": "markdown",
   "metadata": {},
   "source": [
    "## Latihan\n",
    "1. Tampilkan namamu dengan fungsi `print`!"
   ]
  },
  {
   "cell_type": "code",
   "execution_count": null,
   "metadata": {},
   "outputs": [],
   "source": [
    "## Ketik mulai dibawah ini.\n",
    "\n",
    "print()"
   ]
  },
  {
   "cell_type": "markdown",
   "metadata": {},
   "source": [
    "___\n",
    "coded with ❤ by [psychohaxer](http://github.com/psychohaxer)\n",
    "___"
   ]
  }
 ],
 "metadata": {
  "kernelspec": {
   "display_name": "Python 3",
   "language": "python",
   "name": "python3"
  },
  "language_info": {
   "codemirror_mode": {
    "name": "ipython",
    "version": 3
   },
   "file_extension": ".py",
   "mimetype": "text/x-python",
   "name": "python",
   "nbconvert_exporter": "python",
   "pygments_lexer": "ipython3",
   "version": "3.7.6"
  }
 },
 "nbformat": 4,
 "nbformat_minor": 4
}
