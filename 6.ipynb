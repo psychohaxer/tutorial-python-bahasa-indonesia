{
 "cells": [
  {
   "cell_type": "markdown",
   "metadata": {},
   "source": [
    "# Modul Python Bahasa Indonesia\n",
    "## Seri Keenam\n",
    "___\n",
    "Coded by psychohaxer | Version 1.8 (2020.12.13)\n",
    "___\n",
    "Notebook ini berisi contoh kode dalam Python sekaligus outputnya sebagai referensi dalam coding. Notebook ini boleh disebarluaskan dan diedit tanpa mengubah atau menghilangkan nama pembuatnya. Selamat belajar dan semoga waktu Anda menyenangkan.\n",
    "\n",
    "Catatan: Modul ini menggunakan Python 3\n",
    "\n",
    "Notebook ini dilisensikan dibawah [MIT License](https://opensource.org/licenses/MIT).\n",
    "___"
   ]
  },
  {
   "cell_type": "markdown",
   "metadata": {},
   "source": [
    "## Bab 6 Operasi Khusus pada Tipe Data\n",
    "Sebelum memulai, ada beberapa `modul` yang diperlukan untuk masing-masing operasi. Berikut adalah kumpulan modul untuk operasi aritmatika."
   ]
  },
  {
   "cell_type": "code",
   "execution_count": 20,
   "metadata": {},
   "outputs": [],
   "source": [
    "import math as mt ## modul math untuk operasi matematika lanjutan\n",
    "from decimal import Decimal as D ## Sub-modul untuk bilangan desimal\n",
    "from fractions import Fraction as F ## Sub-modul untuk pecahan"
   ]
  },
  {
   "cell_type": "markdown",
   "metadata": {},
   "source": [
    "### Konversi Bilangan\n",
    "Konversi dapat dilakukan dengan fungsi `int()`, `float()`, dan `complex()` dengan parameter masing-masing adalah value atau variabel yang hendak dikonversi. Tipe data `complex` tidak bisa dikonversi menjadi `integer` atau `float`, sedangkan sebaliknya bisa.\n",
    "\n",
    "Disini kita akan membuat dua variabel dengan nama `bulat`, `koma`, dan `kompleks` yang berisi nilai bertipe sesuai namanya."
   ]
  },
  {
   "cell_type": "code",
   "execution_count": 2,
   "metadata": {},
   "outputs": [],
   "source": [
    "bulat = 10\n",
    "koma = 7.9\n",
    "kompleks = 10+0j"
   ]
  },
  {
   "cell_type": "markdown",
   "metadata": {},
   "source": [
    "#### Fungsi `int()`\n",
    "Konversi ke bilangan bulat menggunakan fungsi `int()`, dimana parameter diisi dengan angka atau nama variabel referensi."
   ]
  },
  {
   "cell_type": "code",
   "execution_count": 3,
   "metadata": {},
   "outputs": [
    {
     "data": {
      "text/plain": [
       "7"
      ]
     },
     "execution_count": 3,
     "metadata": {},
     "output_type": "execute_result"
    }
   ],
   "source": [
    "## Contoh penggunaan int() dengan parameter variabel\n",
    "int(koma)"
   ]
  },
  {
   "cell_type": "code",
   "execution_count": 4,
   "metadata": {},
   "outputs": [
    {
     "data": {
      "text/plain": [
       "3"
      ]
     },
     "execution_count": 4,
     "metadata": {},
     "output_type": "execute_result"
    }
   ],
   "source": [
    "## Contoh penggunaan int() dengan parameter bilangan koma\n",
    "int(3.14)"
   ]
  },
  {
   "cell_type": "markdown",
   "metadata": {},
   "source": [
    "Mengkonversi bilangan tipe `complex` ke `integer` akan menghasilkan error."
   ]
  },
  {
   "cell_type": "code",
   "execution_count": 23,
   "metadata": {},
   "outputs": [
    {
     "ename": "TypeError",
     "evalue": "can't convert complex to int",
     "output_type": "error",
     "traceback": [
      "\u001b[1;31m---------------------------------------------------------------------------\u001b[0m",
      "\u001b[1;31mTypeError\u001b[0m                                 Traceback (most recent call last)",
      "\u001b[1;32m<ipython-input-23-99e96718f745>\u001b[0m in \u001b[0;36m<module>\u001b[1;34m\u001b[0m\n\u001b[1;32m----> 1\u001b[1;33m \u001b[0mint\u001b[0m\u001b[1;33m(\u001b[0m\u001b[0mkompleks\u001b[0m\u001b[1;33m)\u001b[0m\u001b[1;33m\u001b[0m\u001b[1;33m\u001b[0m\u001b[0m\n\u001b[0m",
      "\u001b[1;31mTypeError\u001b[0m: can't convert complex to int"
     ]
    }
   ],
   "source": [
    "## Mencoba mengkonversi bilangan kompleks ke bilangan bulat\n",
    "int(kompleks)"
   ]
  },
  {
   "cell_type": "markdown",
   "metadata": {},
   "source": [
    "#### Fungsi `float()`\n",
    "Sedangkan untuk konversi ke bilangan koma, digunakan fungsi `float()`."
   ]
  },
  {
   "cell_type": "code",
   "execution_count": 5,
   "metadata": {},
   "outputs": [
    {
     "data": {
      "text/plain": [
       "10.0"
      ]
     },
     "execution_count": 5,
     "metadata": {},
     "output_type": "execute_result"
    }
   ],
   "source": [
    "## Contoh penggunaan float() dengan parameter variabel\n",
    "float(bulat)"
   ]
  },
  {
   "cell_type": "code",
   "execution_count": 6,
   "metadata": {},
   "outputs": [
    {
     "data": {
      "text/plain": [
       "4.0"
      ]
     },
     "execution_count": 6,
     "metadata": {},
     "output_type": "execute_result"
    }
   ],
   "source": [
    "## Contoh penggunaan float() dengan parameter bilangan bulat\n",
    "float(4)"
   ]
  },
  {
   "cell_type": "markdown",
   "metadata": {},
   "source": [
    "Sama halnya dengan `integer`, mengkonversi bilangan tipe `complex` ke `float` akan menghasilkan error."
   ]
  },
  {
   "cell_type": "markdown",
   "metadata": {},
   "source": [
    "float(kompleks)"
   ]
  },
  {
   "cell_type": "markdown",
   "metadata": {},
   "source": [
    "#### Fungsi `complex()`\n",
    "Konversi ke bilangan kompleks menggunakan fungsi `complex()`"
   ]
  },
  {
   "cell_type": "code",
   "execution_count": 21,
   "metadata": {},
   "outputs": [
    {
     "data": {
      "text/plain": [
       "(360+0j)"
      ]
     },
     "execution_count": 21,
     "metadata": {},
     "output_type": "execute_result"
    }
   ],
   "source": [
    "## Contoh penggunaan complex() dengan parameter bilangan bulat\n",
    "complex(360)"
   ]
  },
  {
   "cell_type": "code",
   "execution_count": 22,
   "metadata": {},
   "outputs": [
    {
     "data": {
      "text/plain": [
       "(14.89+0j)"
      ]
     },
     "execution_count": 22,
     "metadata": {},
     "output_type": "execute_result"
    }
   ],
   "source": [
    "## Contoh penggunaan complex() dengan parameter bilangan koma\n",
    "complex(14.89)"
   ]
  },
  {
   "cell_type": "markdown",
   "metadata": {},
   "source": [
    "### Pembulatan Bilangan\n",
    "Python mampu melakukan pembulatan dapat dengan beberapa cara. Cara yang dibahas pada materi ini adalah penggunaan fungsi `round()`, `ceil()`, dan `floor()`."
   ]
  },
  {
   "cell_type": "markdown",
   "metadata": {},
   "source": [
    "#### Pembulatan dengan fungsi `round()`\n",
    "Pembulatan fungsi `round()` memiliki syntax `round(number, ndigits)`. Parameternya:\n",
    "  * `number` – bilangan yang akan dibulatkan\n",
    "  * `ndigits` (opsional) – jumlah digit yang diinginkan dibelakang koma\n",
    "\n",
    "Jika `ndigits` dikosongkan maka akan dibulatkan ke integer terdekat."
   ]
  },
  {
   "cell_type": "code",
   "execution_count": 29,
   "metadata": {},
   "outputs": [
    {
     "data": {
      "text/plain": [
       "8"
      ]
     },
     "execution_count": 29,
     "metadata": {},
     "output_type": "execute_result"
    }
   ],
   "source": [
    "## round() tanpa ndigits\n",
    "round(7.5)"
   ]
  },
  {
   "cell_type": "markdown",
   "metadata": {},
   "source": [
    "#### Pembulatan dengan fungsi `ceil()` dan `floor()`\n",
    "Pembulatan ke atas atau ke bawah dapat dilakukan dengan `ceil()` atau `floor()` yang keduanya berasal dari modul `math`. Sebelumnya kita sudah melakukan `import` modul tersebut dan memberinya alias `mt`."
   ]
  },
  {
   "cell_type": "code",
   "execution_count": 16,
   "metadata": {},
   "outputs": [
    {
     "data": {
      "text/plain": [
       "8"
      ]
     },
     "execution_count": 16,
     "metadata": {},
     "output_type": "execute_result"
    }
   ],
   "source": [
    "## Pembulatan keatas dengan ceil()\n",
    "mt.ceil(7.2)"
   ]
  },
  {
   "cell_type": "code",
   "execution_count": 17,
   "metadata": {},
   "outputs": [
    {
     "data": {
      "text/plain": [
       "7"
      ]
     },
     "execution_count": 17,
     "metadata": {},
     "output_type": "execute_result"
    }
   ],
   "source": [
    "## Pembulatan kebawah dengan floor()\n",
    "mt.floor(7.9)"
   ]
  },
  {
   "cell_type": "markdown",
   "metadata": {},
   "source": [
    "### Bilangan Desimal\n",
    "Ada kalanya perhitungan menggunakan float di Python membuat kita terkejut. Kita tahu bahwa 1.1 ditambah 2.2 hasilnya adalah 3.3. Tapi pada saat kita lakukan dengan Python, maka hasilnya berbeda."
   ]
  },
  {
   "cell_type": "code",
   "execution_count": 37,
   "metadata": {},
   "outputs": [
    {
     "data": {
      "text/plain": [
       "3.3000000000000003"
      ]
     },
     "execution_count": 37,
     "metadata": {},
     "output_type": "execute_result"
    }
   ],
   "source": [
    "## penjumlahan bilangan float\n",
    "1.1 + 2.2"
   ]
  },
  {
   "cell_type": "code",
   "execution_count": 38,
   "metadata": {},
   "outputs": [
    {
     "data": {
      "text/plain": [
       "False"
      ]
     },
     "execution_count": 38,
     "metadata": {},
     "output_type": "execute_result"
    }
   ],
   "source": [
    "## membandingkan hasi penjumlahan bilangan float\n",
    "(1.1 + 2.2) == 3.3"
   ]
  },
  {
   "cell_type": "markdown",
   "metadata": {},
   "source": [
    "Hal ini terjadi karena bilangan dalam komputer disimpan  dalam bentuk digit `0` atau `1`. Bila padanan digitnya tidak sesuai, maka bilangan float seperti 0.1 dalam bilangan biner akan menjadi pecahan yang sangat panjang yaitu `0.000110011001100110011…` dan komputer kita hanya akan menyimpan panjang yang terbatas. Hal inilah yang menyebabkan terjadinya masalah seperti pada contoh di atas.\n",
    "\n",
    "Untuk menangani hal seperti itu, kita bisa menggunakan modul bawaan Python yaitu modul `decimal`. Float hanya memiliki presisi sampai 15 digit di belakang koma, sementara dengan modul decimal kita bisa mengatur presisi jumlah digit di belakang koma."
   ]
  },
  {
   "cell_type": "code",
   "execution_count": 44,
   "metadata": {},
   "outputs": [
    {
     "name": "stdout",
     "output_type": "stream",
     "text": [
      "3.3\n"
     ]
    }
   ],
   "source": [
    "# penjumlahan bilangan desimal\n",
    "print(D('1.1') + D('2.2'))"
   ]
  },
  {
   "cell_type": "code",
   "execution_count": 46,
   "metadata": {},
   "outputs": [
    {
     "name": "stdout",
     "output_type": "stream",
     "text": [
      "-1.1\n"
     ]
    }
   ],
   "source": [
    "# pengurangan bilangan desimal\n",
    "print(D('1.1') - D('2.2'))"
   ]
  },
  {
   "cell_type": "code",
   "execution_count": 47,
   "metadata": {},
   "outputs": [
    {
     "name": "stdout",
     "output_type": "stream",
     "text": [
      "2.42\n"
     ]
    }
   ],
   "source": [
    "# perkalian bilangan desimal\n",
    "print(D('1.1') * D('2.2'))"
   ]
  },
  {
   "cell_type": "code",
   "execution_count": 48,
   "metadata": {},
   "outputs": [
    {
     "name": "stdout",
     "output_type": "stream",
     "text": [
      "0.5\n"
     ]
    }
   ],
   "source": [
    "# pembagian bilangan desimal\n",
    "print(D('1.1') / D('2.2'))"
   ]
  },
  {
   "cell_type": "markdown",
   "metadata": {},
   "source": [
    "##### Kapan Saatnya Menggunakan Decimal Dibanding Float?\n",
    "\n",
    "Kita lebih baik menggunakan Decimal dalam kasus:\n",
    "* Saat kita ingin membuat aplikasi keuangan yang membutuhkan presisi desimal yang pasti\n",
    "* Saat kita ingin mengontrol tingkat presisi yang diperlukan\n",
    "* Saat kita ingin menerapkan perkiraan berapa digit decimal yang signifikan\n",
    "* Saat kita ingin melakukan operasi perhitungan sama persis dengan yang kita lakukan di sekolah"
   ]
  },
  {
   "cell_type": "markdown",
   "metadata": {},
   "source": [
    "### Bilangan Pecahan\n",
    "Python menyediakan modul `fractions` untuk mengoperasikan bilangan pecahan. Pecahan adalah bilangan yang memiliki pembilang dan penyebut, misalnya 3/2. Parameternya bisa berisi bilangan desimal/float, atau bilangan pembilang dan penyebut yang dipisahkan koma.\n",
    "\n",
    "Ingat diatas kita sudah memberikan alias `F` untuk modul ini."
   ]
  },
  {
   "cell_type": "code",
   "execution_count": 56,
   "metadata": {},
   "outputs": [
    {
     "name": "stdout",
     "output_type": "stream",
     "text": [
      "3/2\n"
     ]
    }
   ],
   "source": [
    "## membuat pecahan dengan bilangan float\n",
    "print(F(1.5))"
   ]
  },
  {
   "cell_type": "code",
   "execution_count": 57,
   "metadata": {},
   "outputs": [
    {
     "name": "stdout",
     "output_type": "stream",
     "text": [
      "2/3\n"
     ]
    }
   ],
   "source": [
    "## membuat pecahan dengan bilangan pembilang dan penyebut\n",
    "print(F(2,3))"
   ]
  },
  {
   "cell_type": "markdown",
   "metadata": {},
   "source": [
    "### Mengakses Item dengan Index\n",
    "Untuk mengakses item dari list caranya adalah dengan memanggil nama list diikuti indeks dari item yang bersangkutan, yaitu dengan format `namalist[index]`. Selain itu bisa juga dilakukan pengaksesan terhadap sejumlah item dari indeks ke indeks. Hal ini disebut slicing. Contohnya sebagai berikut:\n",
    "\n",
    "<img src='img/list-example.png'>"
   ]
  },
  {
   "cell_type": "code",
   "execution_count": 8,
   "metadata": {},
   "outputs": [
    {
     "name": "stdout",
     "output_type": "stream",
     "text": [
      "Indeks ke-0: 17\n",
      "Indeks ke-1: ['I', 'Love', 'Python']\n",
      "Indeks ke-2: [3.14, 'r', 2]\n",
      "Indeks ke-3: (14+5j)\n",
      "Indeks ke-4: guud\n"
     ]
    }
   ],
   "source": [
    "lst = [17, ['I','Love','Python'], [3.14, 'r', 2], 14+5j, 'guud']\n",
    "##    [0   1                       2              3      4     ]\n",
    "\n",
    "## Mengakses elemen list\n",
    "print('Indeks ke-0:', lst[0])\n",
    "print('Indeks ke-1:', lst[1])\n",
    "print('Indeks ke-2:', lst[2])\n",
    "print('Indeks ke-3:', lst[3])\n",
    "print('Indeks ke-4:', lst[4])"
   ]
  },
  {
   "cell_type": "code",
   "execution_count": 9,
   "metadata": {},
   "outputs": [
    {
     "name": "stdout",
     "output_type": "stream",
     "text": [
      "Indeks terakhir: guud\n",
      "Indeks kedua-terakhir: (14+5j)\n"
     ]
    }
   ],
   "source": [
    "lst = [17, ['I','Love','Python'], [3.14, 'r', 2], 14+5j, 'guud']\n",
    "##    [-5  -4                      -3             -2     -1    ]\n",
    "\n",
    "## List dengan indeks negatif\n",
    "print('Indeks terakhir:', lst[-1])\n",
    "print('Indeks kedua-terakhir:', lst[-2])"
   ]
  },
  {
   "cell_type": "code",
   "execution_count": 10,
   "metadata": {},
   "outputs": [
    {
     "name": "stdout",
     "output_type": "stream",
     "text": [
      "Indeks ke-2 dari list di indeks ke-1: Python\n"
     ]
    }
   ],
   "source": [
    "lst = [17, ['I','Love','Python'], [3.14, 'r', 2], 14+5j, 'guud']\n",
    "##         [0   1      2       ]  [0     1    2]\n",
    "##    [0   1                       2              3      4     ]\n",
    "\n",
    "## Mengakses list dalam list\n",
    "print('Indeks ke-2 dari list di indeks ke-1:', lst[1][2])"
   ]
  },
  {
   "cell_type": "markdown",
   "metadata": {},
   "source": [
    "### Slicing\n",
    "Selain bisa digunakan pada `String`, _slicing_ juga bisa digunakan pada apapun yang memiliki indeks, seperti `List`, `Tuple`, dan `Set`. Slicing dilakukan dengan indeks parameter pertama sebagai elemen awal dan indeks parameter kedua sebagai elemen batas. Sebagai contoh kita punya list huruf dibawah."
   ]
  },
  {
   "cell_type": "code",
   "execution_count": 53,
   "metadata": {},
   "outputs": [
    {
     "data": {
      "text/plain": [
       "['A', 'B', 'C', 'D', 'E', 'F']"
      ]
     },
     "execution_count": 53,
     "metadata": {},
     "output_type": "execute_result"
    }
   ],
   "source": [
    "huruf = ['A', 'B', 'C', 'D', 'E', 'F']\n",
    "##        0    1    2    3    4    5\n",
    "huruf"
   ]
  },
  {
   "cell_type": "markdown",
   "metadata": {},
   "source": [
    "Kita akan mengambil elemen dengan indeks ke 1 sampai 3 menggunakan metode slicing."
   ]
  },
  {
   "cell_type": "code",
   "execution_count": 55,
   "metadata": {},
   "outputs": [
    {
     "data": {
      "text/plain": [
       "['B', 'C', 'D']"
      ]
     },
     "execution_count": 55,
     "metadata": {},
     "output_type": "execute_result"
    }
   ],
   "source": [
    "## slicing untuk mengambil elemen dengan indeks 1 sampai 3\n",
    "huruf[1:4]"
   ]
  },
  {
   "cell_type": "markdown",
   "metadata": {},
   "source": [
    "### Menambahkan Elemen\n",
    "Menambahkan elemen bisa dilakukan dengan fungsi `append()`, `insert()`, dan menggunakan metode _concatenation_ atau penggabungan."
   ]
  },
  {
   "cell_type": "markdown",
   "metadata": {},
   "source": [
    "#### Fungsi `append()`\n",
    "Fungsi ini digunakan untuk menambahkan elemen setelah indeks terakhir. Syntax untuk fungsi `append()` adalah memanggilnya dibelakang nama variabel dan diikuti parameter elemen yang hendak ditambahkan. Parameter ini bisa berisi data, variabel, atau fungsi.\n",
    "\n",
    "Syntax: `variable.append(data)`\n",
    "* `variable` = variabel yang digunakan\n",
    "* `data` = data yang ditambahkan\n",
    "\n",
    "Dibawah kita memiliki list dengan nama `list1`. Kita akan menambahkan elemennya."
   ]
  },
  {
   "cell_type": "code",
   "execution_count": 1,
   "metadata": {},
   "outputs": [
    {
     "data": {
      "text/plain": [
       "['A', 'B', 'C', 'D', 'E', 'F']"
      ]
     },
     "execution_count": 1,
     "metadata": {},
     "output_type": "execute_result"
    }
   ],
   "source": [
    "list1 = ['A','B','C','D','E','F']\n",
    "list1"
   ]
  },
  {
   "cell_type": "markdown",
   "metadata": {},
   "source": [
    "Dibawah kita akan menggunakan fungsi `append()` dengan parameter data secara langsung."
   ]
  },
  {
   "cell_type": "code",
   "execution_count": 2,
   "metadata": {},
   "outputs": [
    {
     "data": {
      "text/plain": [
       "['A', 'B', 'C', 'D', 'E', 'F', 'G']"
      ]
     },
     "execution_count": 2,
     "metadata": {},
     "output_type": "execute_result"
    }
   ],
   "source": [
    "list1.append('G')\n",
    "list1"
   ]
  },
  {
   "cell_type": "markdown",
   "metadata": {},
   "source": [
    "Kita juga bisa memanggil nilai dari variabel yang diinginkan."
   ]
  },
  {
   "cell_type": "code",
   "execution_count": 3,
   "metadata": {},
   "outputs": [
    {
     "data": {
      "text/plain": [
       "['A', 'B', 'C', 'D', 'E', 'F', 'G', 'H']"
      ]
     },
     "execution_count": 3,
     "metadata": {},
     "output_type": "execute_result"
    }
   ],
   "source": [
    "elemen = 'H'\n",
    "list1.append(elemen)\n",
    "list1"
   ]
  },
  {
   "cell_type": "markdown",
   "metadata": {},
   "source": [
    "Bisa juga dengan memanggil fungsi `input()`."
   ]
  },
  {
   "cell_type": "code",
   "execution_count": 4,
   "metadata": {},
   "outputs": [
    {
     "name": "stdin",
     "output_type": "stream",
     "text": [
      "Masukkan input : I\n"
     ]
    },
    {
     "data": {
      "text/plain": [
       "['A', 'B', 'C', 'D', 'E', 'F', 'G', 'H', 'I']"
      ]
     },
     "execution_count": 4,
     "metadata": {},
     "output_type": "execute_result"
    }
   ],
   "source": [
    "list1.append(input(\"Masukkan input :\"))\n",
    "list1"
   ]
  },
  {
   "cell_type": "markdown",
   "metadata": {},
   "source": [
    "#### Fungsi `insert()`\n",
    "Fungsi ini digunakan untuk memasukkan elemen ke indeks yang spesifik.\n",
    "\n",
    "Syntax: `variabel.insert(index, data)`\n",
    "* `variabel` = variabel yang digunakan\n",
    "* `index` = indeks yang diisi\n",
    "* `data` = data yang ditambahkan\n",
    "\n",
    "Kita akan menggunakan list baru sebagai contoh."
   ]
  },
  {
   "cell_type": "code",
   "execution_count": 13,
   "metadata": {},
   "outputs": [
    {
     "data": {
      "text/plain": [
       "[13, 14, 15, 16, 18, 19, 20]"
      ]
     },
     "execution_count": 13,
     "metadata": {},
     "output_type": "execute_result"
    }
   ],
   "source": [
    "list2 = [13, 14, 15, 16, 18, 19, 20]\n",
    "##       0   1   2   3   4   5   6\n",
    "list2"
   ]
  },
  {
   "cell_type": "markdown",
   "metadata": {},
   "source": [
    "List diatas berisi urutan bilangan yang kurang lengkap, bukan? Kita akan menambahkan elemen yang hilang pada indeks ke-4."
   ]
  },
  {
   "cell_type": "code",
   "execution_count": 14,
   "metadata": {},
   "outputs": [
    {
     "data": {
      "text/plain": [
       "[13, 14, 15, 16, 17, 18, 19, 20]"
      ]
     },
     "execution_count": 14,
     "metadata": {},
     "output_type": "execute_result"
    }
   ],
   "source": [
    "list2.insert(4, 17)\n",
    "list2"
   ]
  },
  {
   "cell_type": "markdown",
   "metadata": {},
   "source": [
    "Dari output diatas, kita bisa melihat item yang sebelumnya ada di indeks ke-4 tergeser ke indeks ke-5."
   ]
  },
  {
   "cell_type": "markdown",
   "metadata": {},
   "source": [
    "#### Metode _concatenation_\n",
    "Cukup dengan operator `+`, kita bisa menambahkan elemen. Sebagai contoh kita punya list dengan nama `list3` dan `list4`."
   ]
  },
  {
   "cell_type": "code",
   "execution_count": 31,
   "metadata": {},
   "outputs": [
    {
     "data": {
      "text/plain": [
       "['Ayam', 'Bebek']"
      ]
     },
     "execution_count": 31,
     "metadata": {},
     "output_type": "execute_result"
    }
   ],
   "source": [
    "list3 = ['Ayam', 'Bebek']\n",
    "list3"
   ]
  },
  {
   "cell_type": "code",
   "execution_count": 32,
   "metadata": {},
   "outputs": [
    {
     "data": {
      "text/plain": [
       "['Sapi', 'Kambing']"
      ]
     },
     "execution_count": 32,
     "metadata": {},
     "output_type": "execute_result"
    }
   ],
   "source": [
    "list4 = ['Sapi', 'Kambing']\n",
    "list4"
   ]
  },
  {
   "cell_type": "markdown",
   "metadata": {},
   "source": [
    "Kita akan menambahkan elemen `list4` ke `list3`."
   ]
  },
  {
   "cell_type": "code",
   "execution_count": 33,
   "metadata": {},
   "outputs": [
    {
     "data": {
      "text/plain": [
       "['Ayam', 'Bebek', 'Sapi', 'Kambing']"
      ]
     },
     "execution_count": 33,
     "metadata": {},
     "output_type": "execute_result"
    }
   ],
   "source": [
    "list3 += list4\n",
    "list3"
   ]
  },
  {
   "cell_type": "markdown",
   "metadata": {},
   "source": [
    "Kita bisa menambahkannya secara langsung, dengan catatan **tipe datanya harus sama**."
   ]
  },
  {
   "cell_type": "code",
   "execution_count": 34,
   "metadata": {},
   "outputs": [
    {
     "data": {
      "text/plain": [
       "['Ayam', 'Bebek', 'Sapi', 'Kambing', 'Kerbau']"
      ]
     },
     "execution_count": 34,
     "metadata": {},
     "output_type": "execute_result"
    }
   ],
   "source": [
    "list3 += ['Kerbau']\n",
    "list3"
   ]
  },
  {
   "cell_type": "markdown",
   "metadata": {},
   "source": [
    "Jika kita menggabungkan list dengan string, hasilnya seperti dibawah"
   ]
  },
  {
   "cell_type": "code",
   "execution_count": 35,
   "metadata": {},
   "outputs": [
    {
     "data": {
      "text/plain": [
       "['Ayam', 'Bebek', 'Sapi', 'Kambing', 'Kerbau', 'G', 'a', 'j', 'a', 'h']"
      ]
     },
     "execution_count": 35,
     "metadata": {},
     "output_type": "execute_result"
    }
   ],
   "source": [
    "list3 += 'Gajah'\n",
    "list3"
   ]
  },
  {
   "cell_type": "markdown",
   "metadata": {},
   "source": [
    "___\n",
    "coded with ❤ by [psychohaxer](http://github.com/psychohaxer)\n",
    "___"
   ]
  }
 ],
 "metadata": {
  "kernelspec": {
   "display_name": "Python 3",
   "language": "python",
   "name": "python3"
  },
  "language_info": {
   "codemirror_mode": {
    "name": "ipython",
    "version": 3
   },
   "file_extension": ".py",
   "mimetype": "text/x-python",
   "name": "python",
   "nbconvert_exporter": "python",
   "pygments_lexer": "ipython3",
   "version": "3.7.6"
  }
 },
 "nbformat": 4,
 "nbformat_minor": 4
}
