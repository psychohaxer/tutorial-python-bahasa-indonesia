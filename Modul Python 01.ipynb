{
 "cells": [
  {
   "cell_type": "markdown",
   "metadata": {},
   "source": [
    "# Modul Python Bahasa Indonesia\n",
    "## Seri Pertama\n",
    "___\n",
    "Coded by psychohaxer | Version 1.7 (2020.08.23)\n",
    "___\n",
    "Notebook ini berisi contoh kode dalam Python sekaligus outputnya sebagai referensi dalam coding. Notebook ini boleh disebarluaskan dan diedit tanpa mengubah atau menghilangkan nama pembuatnya. Selamat belajar dan semoga waktu Anda menyenangkan.\n",
    "\n",
    "Catatan: Modul ini menggunakan Python 3\n",
    "\n",
    "[<img src='img/cc-sa.png'>](http://creativecommons.org/licenses/by-sa/4.0/)\n",
    "\n",
    "Notebook ini dilisensikan dibawah [Creative Commons Attribution-ShareAlike 4.0 International License](http://creativecommons.org/licenses/by-sa/4.0/).\n",
    "___"
   ]
  },
  {
   "cell_type": "markdown",
   "metadata": {},
   "source": [
    "## Bab 1 Pendahuluan\n",
    "### 1. Python\n",
    "<img src=\"img/python-logo.png\">\n",
    "\n",
    "Python adalah bahasa pemrograman tingkat tinggi yang mengutamakan keterbacaan kode. Bahasa pemrograman serbaguna ini dapat digunakan pada banyak hal seperti pemrograman berorientasi objek, pemrograman imperatif, dan pemrograman fungsional. Tapi tidak terbatas pada itu saja. Python sering digunakan untuk pengolahan data karena banyaknya library yang tersedia.\n",
    "\n",
    "### 2. Jupyter Notebook\n",
    "<img src=\"img/jupyter-logo.png\">\n",
    "\n",
    "Jupyter Notebook (sebelumnya IPython Notebooks) adalah lingkungan komputasi interaktif berbasis web untuk membuat dokumen Jupyter notebook. Istilah \"notebook\" secara sehari-hari umumnya merujuk pada aplikasi web Jupyter, server web Jupyter Python, atau format dokumen Jupyter tergantung pada konteksnya. Tapi lebih sering digunakan untuk menyebut file dokumen tersebut. Dokumen Jupyter Notebook adalah dokumen JSON, mengikuti skema versi, dan berisi daftar sel input output berurutan yang dapat berisi kode, teks (menggunakan Markdown), matematika, plot, dan media. Dokumen ini biasanya diakhiri dengan ekstensi \".ipynb\"."
   ]
  },
  {
   "cell_type": "code",
   "execution_count": null,
   "metadata": {},
   "outputs": [],
   "source": []
  }
 ],
 "metadata": {
  "kernelspec": {
   "display_name": "Python 3",
   "language": "python",
   "name": "python3"
  },
  "language_info": {
   "codemirror_mode": {
    "name": "ipython",
    "version": 3
   },
   "file_extension": ".py",
   "mimetype": "text/x-python",
   "name": "python",
   "nbconvert_exporter": "python",
   "pygments_lexer": "ipython3",
   "version": "3.7.6"
  }
 },
 "nbformat": 4,
 "nbformat_minor": 4
}
