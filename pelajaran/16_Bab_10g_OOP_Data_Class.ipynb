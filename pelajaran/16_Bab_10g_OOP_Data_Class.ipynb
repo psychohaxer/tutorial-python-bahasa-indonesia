{
 "cells": [
  {
   "cell_type": "markdown",
   "metadata": {},
   "source": [
    "# Modul Python Bahasa Indonesia\n",
    "## Seri Keenambelas\n",
    "___\n",
    "Coded by psychohaxer | Version 1.0 (2021.03.05)\n",
    "___\n",
    "Notebook ini berisi contoh kode dalam Python sekaligus outputnya sebagai referensi dalam coding. Notebook ini boleh disebarluaskan dan diedit tanpa mengubah atau menghilangkan nama pembuatnya. Selamat belajar dan semoga waktu Anda menyenangkan.\n",
    "\n",
    "Catatan: Modul ini menggunakan Python 3\n",
    "\n",
    "Notebook ini dilisensikan dibawah [MIT License](https://opensource.org/licenses/MIT).\n",
    "___"
   ]
  },
  {
   "cell_type": "markdown",
   "metadata": {},
   "source": [
    "## Bab 10.g Pemrograman Berorientasi Objek Part 7: Data Class\n",
    "Dalam penggunaannya, terkadang class hanya berfungsi sebagai pengangkut data. Sejak versi 3.7, Python menyediakan Data Class. Jadi kita tidak perlu memasukkan data tersebut ke `self`. "
   ]
  },
  {
   "cell_type": "markdown",
   "metadata": {},
   "source": [
    "### Membuat Data Class\n",
    "Kita perlu import decorator `dataclass` dari modul `dataclasses`. Tanpa decorator tersebut, class tidak akan dibaca sebagai data class."
   ]
  },
  {
   "cell_type": "code",
   "execution_count": 1,
   "metadata": {},
   "outputs": [],
   "source": [
    "from dataclasses import dataclass"
   ]
  },
  {
   "cell_type": "code",
   "execution_count": 2,
   "metadata": {},
   "outputs": [],
   "source": [
    "@dataclass\n",
    "class Komputer:\n",
    "    merk: str\n",
    "    proci: str\n",
    "    ram: int\n",
    "    storage: int\n",
    "    harga: float\n",
    "        \n",
    "    def tampil_info(self):\n",
    "        return f\"merk: {self.merk}, harga {self.harga}\""
   ]
  },
  {
   "cell_type": "markdown",
   "metadata": {},
   "source": [
    "Disini kita bisa lihat struktur kode class Komputer diatas terlihat seperti kita mendeklarasikan atribut kelas beserta tipenya. Mengingat fleksibilitas Python, tipe datanya tidak dibuat kaku. Contohnya, kita bisa memasukkan string ke atribut dengan tipe data integer."
   ]
  },
  {
   "cell_type": "code",
   "execution_count": 3,
   "metadata": {},
   "outputs": [],
   "source": [
    "pc1 = Komputer(\"dell\", \"intel atom\", 2, 150, 1750000)\n",
    "pc2 = Komputer(\"lenovo\", \"amd a9\", 4, 1000, 4450000)\n",
    "pc3 = Komputer(\"dell\", \"intel atom\", 2, 150, 1750000)"
   ]
  },
  {
   "cell_type": "code",
   "execution_count": 4,
   "metadata": {},
   "outputs": [
    {
     "name": "stdout",
     "output_type": "stream",
     "text": [
      "intel atom\n"
     ]
    }
   ],
   "source": [
    "print(pc1.proci)"
   ]
  },
  {
   "cell_type": "code",
   "execution_count": 5,
   "metadata": {},
   "outputs": [
    {
     "name": "stdout",
     "output_type": "stream",
     "text": [
      "4450000\n"
     ]
    }
   ],
   "source": [
    "print(pc2.harga)"
   ]
  },
  {
   "cell_type": "markdown",
   "metadata": {},
   "source": [
    "#### Kemampuan Data Class\n",
    "Dengan dataclass, secara otomatis kita mengimplementasikan magic method `__repr__`, `__eq__`, `__ge__`, dan `__lt__` yang sudah kita pelajari sebelumnya."
   ]
  },
  {
   "cell_type": "code",
   "execution_count": 6,
   "metadata": {},
   "outputs": [
    {
     "name": "stdout",
     "output_type": "stream",
     "text": [
      "Komputer(merk='dell', proci='intel atom', ram=2, storage=150, harga=1750000)\n"
     ]
    }
   ],
   "source": [
    "print(pc1)"
   ]
  },
  {
   "cell_type": "code",
   "execution_count": 7,
   "metadata": {},
   "outputs": [
    {
     "name": "stdout",
     "output_type": "stream",
     "text": [
      "Komputer(merk='lenovo', proci='amd a9', ram=4, storage=1000, harga=4450000)\n"
     ]
    }
   ],
   "source": [
    "print(pc2)"
   ]
  },
  {
   "cell_type": "code",
   "execution_count": 8,
   "metadata": {},
   "outputs": [
    {
     "name": "stdout",
     "output_type": "stream",
     "text": [
      "False\n"
     ]
    }
   ],
   "source": [
    "print(pc1 == pc2)"
   ]
  },
  {
   "cell_type": "code",
   "execution_count": 9,
   "metadata": {},
   "outputs": [
    {
     "name": "stdout",
     "output_type": "stream",
     "text": [
      "True\n"
     ]
    }
   ],
   "source": [
    "print(pc1 == pc3)"
   ]
  },
  {
   "cell_type": "code",
   "execution_count": 10,
   "metadata": {},
   "outputs": [
    {
     "name": "stdout",
     "output_type": "stream",
     "text": [
      "merk: dell, harga 1750000\n"
     ]
    }
   ],
   "source": [
    "print(pc1.tampil_info())"
   ]
  },
  {
   "cell_type": "code",
   "execution_count": 11,
   "metadata": {},
   "outputs": [],
   "source": [
    "pc1.merk = 'asus'"
   ]
  },
  {
   "cell_type": "code",
   "execution_count": 12,
   "metadata": {},
   "outputs": [
    {
     "name": "stdout",
     "output_type": "stream",
     "text": [
      "merk: asus, harga 1750000\n"
     ]
    }
   ],
   "source": [
    "print(pc1.tampil_info())"
   ]
  },
  {
   "cell_type": "markdown",
   "metadata": {},
   "source": [
    "#### Magic Method `__post_init__`\n",
    "Karena dataclass membuat `__init__` secara otomatis, kita gunakan `__post_init__`. Mari kita buat deskripsi laptop tersebut secara otomatis."
   ]
  },
  {
   "cell_type": "code",
   "execution_count": 13,
   "metadata": {},
   "outputs": [],
   "source": [
    "@dataclass\n",
    "class Komputer:\n",
    "    merk: str\n",
    "    proci: str\n",
    "    ram: int\n",
    "    storage: int\n",
    "    harga: float\n",
    "        \n",
    "    def tampil_info(self):\n",
    "        return f\"merk: {self.merk}, harga {self.harga}\"\n",
    "    \n",
    "    def __post_init__(self):\n",
    "        self.info = f\"Merk {self.merk} | Processor {self.proci} | RAM {self.ram} GB | Storage {self.storage} GB | Harga Rp {self.harga}\"\n",
    "        print(\"Objek berhasil dibuat\")"
   ]
  },
  {
   "cell_type": "markdown",
   "metadata": {},
   "source": [
    "Lalu kita buat lagi objeknya."
   ]
  },
  {
   "cell_type": "code",
   "execution_count": 14,
   "metadata": {},
   "outputs": [
    {
     "name": "stdout",
     "output_type": "stream",
     "text": [
      "Objek berhasil dibuat\n",
      "Objek berhasil dibuat\n",
      "Objek berhasil dibuat\n"
     ]
    }
   ],
   "source": [
    "pc1 = Komputer(\"dell\", \"intel atom\", 2, 150, 1750000)\n",
    "pc2 = Komputer(\"lenovo\", \"amd a9\", 4, 1000, 4450000)\n",
    "pc3 = Komputer(\"dell\", \"intel atom\", 2, 150, 1750000)"
   ]
  },
  {
   "cell_type": "markdown",
   "metadata": {},
   "source": [
    "Sekarang kita tampilkan deskripsinya."
   ]
  },
  {
   "cell_type": "code",
   "execution_count": 15,
   "metadata": {},
   "outputs": [
    {
     "name": "stdout",
     "output_type": "stream",
     "text": [
      "Merk dell | Processor intel atom | RAM 2 GB | Storage 150 GB | Harga Rp 1750000\n"
     ]
    }
   ],
   "source": [
    "print(pc1.info)"
   ]
  },
  {
   "cell_type": "code",
   "execution_count": 16,
   "metadata": {},
   "outputs": [
    {
     "name": "stdout",
     "output_type": "stream",
     "text": [
      "Merk lenovo | Processor amd a9 | RAM 4 GB | Storage 1000 GB | Harga Rp 4450000\n"
     ]
    }
   ],
   "source": [
    "print(pc2.info)"
   ]
  },
  {
   "cell_type": "markdown",
   "metadata": {},
   "source": [
    "### DataClass dengan Nilai Default\n",
    "DataClass juga mampu memberikan nilai pada atribut secara default. Dalam kasus ini kita akan menggunakannya untuk menentukan harga laptop secara acak dengan range yang sudah ditentukan. Kita memerlukan `field` dari `dataclasses` dan modul `random`."
   ]
  },
  {
   "cell_type": "code",
   "execution_count": 17,
   "metadata": {},
   "outputs": [],
   "source": [
    "from dataclasses import dataclass, field\n",
    "import random"
   ]
  },
  {
   "cell_type": "markdown",
   "metadata": {},
   "source": [
    "Sekarang kita buat fungsi yang menentukan harganya."
   ]
  },
  {
   "cell_type": "code",
   "execution_count": 18,
   "metadata": {},
   "outputs": [],
   "source": [
    "def mikir_harga():\n",
    "    return float(random.randrange(1250000, 5000000))"
   ]
  },
  {
   "cell_type": "code",
   "execution_count": 19,
   "metadata": {},
   "outputs": [],
   "source": [
    "@dataclass\n",
    "class Komputer:\n",
    "    merk: str\n",
    "    proci: str\n",
    "    ram: int\n",
    "    storage: int\n",
    "    harga: float = field(default_factory = mikir_harga)\n",
    "        \n",
    "    def tampil_info(self):\n",
    "        return f\"merk: {self.merk}, harga {self.harga}\"\n",
    "    \n",
    "    def __post_init__(self):\n",
    "        self.info = f\"Merk {self.merk} | Processor {self.proci} | RAM {self.ram} GB | Storage {self.storage} GB | Harga Rp {self.harga}\""
   ]
  },
  {
   "cell_type": "code",
   "execution_count": 20,
   "metadata": {},
   "outputs": [],
   "source": [
    "pc1 = Komputer(\"dell\", \"intel atom\", 2, 150)\n",
    "pc2 = Komputer(\"lenovo\", \"amd a9\", 4, 1000)"
   ]
  },
  {
   "cell_type": "code",
   "execution_count": 21,
   "metadata": {},
   "outputs": [
    {
     "name": "stdout",
     "output_type": "stream",
     "text": [
      "Merk dell | Processor intel atom | RAM 2 GB | Storage 150 GB | Harga Rp 1585431.0\n"
     ]
    }
   ],
   "source": [
    "print(pc1.info)"
   ]
  },
  {
   "cell_type": "code",
   "execution_count": 22,
   "metadata": {},
   "outputs": [
    {
     "name": "stdout",
     "output_type": "stream",
     "text": [
      "Merk lenovo | Processor amd a9 | RAM 4 GB | Storage 1000 GB | Harga Rp 4087320.0\n"
     ]
    }
   ],
   "source": [
    "print(pc2.info)"
   ]
  },
  {
   "cell_type": "markdown",
   "metadata": {},
   "source": [
    "### Immutable DataClass\n",
    "Kita tinggal menambahkan parameter pada decorator."
   ]
  },
  {
   "cell_type": "code",
   "execution_count": 23,
   "metadata": {},
   "outputs": [],
   "source": [
    "@dataclass (frozen=True)\n",
    "class ImmutableClass:\n",
    "    \n",
    "    nama: str = \"permanen\"\n",
    "    angka: int = 456\n",
    "        \n",
    "    def method_pengubah(self):\n",
    "        self.nama = \"cobacoba\""
   ]
  },
  {
   "cell_type": "code",
   "execution_count": 24,
   "metadata": {},
   "outputs": [],
   "source": [
    "objek = ImmutableClass()"
   ]
  },
  {
   "cell_type": "code",
   "execution_count": 25,
   "metadata": {},
   "outputs": [
    {
     "ename": "FrozenInstanceError",
     "evalue": "cannot assign to field 'nama'",
     "output_type": "error",
     "traceback": [
      "\u001b[1;31m---------------------------------------------------------------------------\u001b[0m",
      "\u001b[1;31mFrozenInstanceError\u001b[0m                       Traceback (most recent call last)",
      "\u001b[1;32m<ipython-input-25-1fc8bb8f487f>\u001b[0m in \u001b[0;36m<module>\u001b[1;34m\u001b[0m\n\u001b[1;32m----> 1\u001b[1;33m \u001b[0mobjek\u001b[0m\u001b[1;33m.\u001b[0m\u001b[0mmethod_pengubah\u001b[0m\u001b[1;33m(\u001b[0m\u001b[1;33m)\u001b[0m\u001b[1;33m\u001b[0m\u001b[1;33m\u001b[0m\u001b[0m\n\u001b[0m",
      "\u001b[1;32m<ipython-input-23-ccb9d7217aef>\u001b[0m in \u001b[0;36mmethod_pengubah\u001b[1;34m(self)\u001b[0m\n\u001b[0;32m      6\u001b[0m \u001b[1;33m\u001b[0m\u001b[0m\n\u001b[0;32m      7\u001b[0m     \u001b[1;32mdef\u001b[0m \u001b[0mmethod_pengubah\u001b[0m\u001b[1;33m(\u001b[0m\u001b[0mself\u001b[0m\u001b[1;33m)\u001b[0m\u001b[1;33m:\u001b[0m\u001b[1;33m\u001b[0m\u001b[1;33m\u001b[0m\u001b[0m\n\u001b[1;32m----> 8\u001b[1;33m         \u001b[0mself\u001b[0m\u001b[1;33m.\u001b[0m\u001b[0mnama\u001b[0m \u001b[1;33m=\u001b[0m \u001b[1;34m\"cobacoba\"\u001b[0m\u001b[1;33m\u001b[0m\u001b[1;33m\u001b[0m\u001b[0m\n\u001b[0m",
      "\u001b[1;32m<string>\u001b[0m in \u001b[0;36m__setattr__\u001b[1;34m(self, name, value)\u001b[0m\n",
      "\u001b[1;31mFrozenInstanceError\u001b[0m: cannot assign to field 'nama'"
     ]
    }
   ],
   "source": [
    "objek.method_pengubah()"
   ]
  },
  {
   "cell_type": "code",
   "execution_count": 26,
   "metadata": {},
   "outputs": [
    {
     "ename": "FrozenInstanceError",
     "evalue": "cannot assign to field 'angka'",
     "output_type": "error",
     "traceback": [
      "\u001b[1;31m---------------------------------------------------------------------------\u001b[0m",
      "\u001b[1;31mFrozenInstanceError\u001b[0m                       Traceback (most recent call last)",
      "\u001b[1;32m<ipython-input-26-a49967d7dcea>\u001b[0m in \u001b[0;36m<module>\u001b[1;34m\u001b[0m\n\u001b[1;32m----> 1\u001b[1;33m \u001b[0mobjek\u001b[0m\u001b[1;33m.\u001b[0m\u001b[0mangka\u001b[0m \u001b[1;33m=\u001b[0m \u001b[1;36m123\u001b[0m\u001b[1;33m\u001b[0m\u001b[1;33m\u001b[0m\u001b[0m\n\u001b[0m",
      "\u001b[1;32m<string>\u001b[0m in \u001b[0;36m__setattr__\u001b[1;34m(self, name, value)\u001b[0m\n",
      "\u001b[1;31mFrozenInstanceError\u001b[0m: cannot assign to field 'angka'"
     ]
    }
   ],
   "source": [
    "objek.angka = 123"
   ]
  },
  {
   "cell_type": "markdown",
   "metadata": {},
   "source": [
    "___\n",
    "## Latihan\n",
    "1. Buat sebuah DataClass yang menyimpan informasi pegawai!\n",
    "\n",
    "Challenge: Buat sebuah immutable DataClass."
   ]
  },
  {
   "cell_type": "markdown",
   "metadata": {},
   "source": [
    "___\n",
    "coded with ❤ by [psychohaxer](http://github.com/psychohaxer)\n",
    "___"
   ]
  }
 ],
 "metadata": {
  "kernelspec": {
   "display_name": "Python 3",
   "language": "python",
   "name": "python3"
  },
  "language_info": {
   "codemirror_mode": {
    "name": "ipython",
    "version": 3
   },
   "file_extension": ".py",
   "mimetype": "text/x-python",
   "name": "python",
   "nbconvert_exporter": "python",
   "pygments_lexer": "ipython3",
   "version": "3.8.5"
  }
 },
 "nbformat": 4,
 "nbformat_minor": 4
}
