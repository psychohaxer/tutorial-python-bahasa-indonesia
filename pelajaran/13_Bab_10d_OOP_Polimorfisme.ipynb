{
 "cells": [
  {
   "cell_type": "markdown",
   "metadata": {},
   "source": [
    "# Modul Python Bahasa Indonesia\n",
    "## Seri Ketigabelas\n",
    "___\n",
    "Coded by psychohaxer | Version 1.0 (2021.01.25)\n",
    "___\n",
    "Notebook ini berisi contoh kode dalam Python sekaligus outputnya sebagai referensi dalam coding. Notebook ini boleh disebarluaskan dan diedit tanpa mengubah atau menghilangkan nama pembuatnya. Selamat belajar dan semoga waktu Anda menyenangkan.\n",
    "\n",
    "Catatan: Modul ini menggunakan Python 3\n",
    "\n",
    "Notebook ini dilisensikan dibawah [MIT License](https://opensource.org/licenses/MIT).\n",
    "___"
   ]
  },
  {
   "cell_type": "markdown",
   "metadata": {},
   "source": [
    "## Bab 10.d Pemrograman Berorientasi Objek Part 4: Polimorfisme\n",
    "Polymorphism berasal dari kata _poly_ yang berarti banyak dan _morph_ yang berarti berubah bentuk. Sesuai namanya, polimorfisme adalah kemampuan untuk berubah menjadi banyak bentuk. Polimorfisme dalam OOP memungkinkan sebuah objek untuk memiliki satu nama namun dengan fungsionalitas yang beragam. Contoh nyata adalah Ponsel dimana ia bisa menjadi Kamera, MP3 Player, dan banyak kegunaan lainnya."
   ]
  },
  {
   "cell_type": "markdown",
   "metadata": {},
   "source": [
    "### Polimorfisme pada Python\n",
    "Polimorfisme memungkinkan untuk mendefinisikan method yang sudah ada di class induk, tapi method itu melakukan tugas yang berbeda."
   ]
  },
  {
   "cell_type": "markdown",
   "metadata": {},
   "source": [
    "#### Contoh Sederhana dari Polimorfisme\n",
    "Pasti kita bisa menebak output kode dibawah kan?\n",
    "``` Python\n",
    "print(\"Selamat Pagi!\") ## Out: Selamat Pagi!\n",
    "```\n",
    "Bagaimana dengan ini,\n",
    "``` Python\n",
    "print(len(\"Selamat Pagi!\")) ## Out: 13\n",
    "```\n",
    "Ia akan menampilkan angka 13. Mengapa demikian? Fungsi `print` ternyata juga bisa menampilkan panjang dari string \"Selamat Pagi!\", dengan bantuan fungsi `len`. Itu adalah contoh sederhana dari polimorfisme."
   ]
  },
  {
   "cell_type": "code",
   "execution_count": 5,
   "metadata": {},
   "outputs": [
    {
     "name": "stdout",
     "output_type": "stream",
     "text": [
      "123\n",
      "abc\n"
     ]
    }
   ],
   "source": [
    "a = 123\n",
    "b = 'abc'\n",
    "\n",
    "print(a)\n",
    "print(b)"
   ]
  },
  {
   "cell_type": "code",
   "execution_count": 6,
   "metadata": {},
   "outputs": [
    {
     "name": "stdout",
     "output_type": "stream",
     "text": [
      "Selamat Pagi!\n"
     ]
    }
   ],
   "source": [
    "print(\"Selamat Pagi!\")"
   ]
  },
  {
   "cell_type": "code",
   "execution_count": 7,
   "metadata": {},
   "outputs": [
    {
     "name": "stdout",
     "output_type": "stream",
     "text": [
      "13\n"
     ]
    }
   ],
   "source": [
    "print(len(\"Selamat Pagi!\"))"
   ]
  },
  {
   "cell_type": "markdown",
   "metadata": {},
   "source": [
    "#### Contoh Polimorfisme dengan Fungsi\n",
    "Berikut adalah contoh polimorfisme yang lain. Kita akan membuat sebuah fungsi."
   ]
  },
  {
   "cell_type": "code",
   "execution_count": 9,
   "metadata": {},
   "outputs": [],
   "source": [
    "def penjumlahan(a, b, c=1):\n",
    "    return a + b + c"
   ]
  },
  {
   "cell_type": "code",
   "execution_count": 10,
   "metadata": {},
   "outputs": [
    {
     "name": "stdout",
     "output_type": "stream",
     "text": [
      "16\n"
     ]
    }
   ],
   "source": [
    "print(penjumlahan(7,8))"
   ]
  },
  {
   "cell_type": "markdown",
   "metadata": {},
   "source": [
    "Tentu kita sudah bisa menebak hasilnya bukan?"
   ]
  },
  {
   "cell_type": "code",
   "execution_count": 11,
   "metadata": {},
   "outputs": [
    {
     "name": "stdout",
     "output_type": "stream",
     "text": [
      "9\n"
     ]
    }
   ],
   "source": [
    "print(penjumlahan(2,3,4))"
   ]
  },
  {
   "cell_type": "markdown",
   "metadata": {},
   "source": [
    "Jadi keduanya adalah fungsi yang sama tapi melakukan hal yang berbeda. Itu juga bentuk polimorfisme."
   ]
  },
  {
   "cell_type": "markdown",
   "metadata": {},
   "source": [
    "#### Polimorfisme dengan Method\n",
    "Contoh terakhir menggunakan OOP."
   ]
  },
  {
   "cell_type": "code",
   "execution_count": 12,
   "metadata": {},
   "outputs": [],
   "source": [
    "class Indonesia:\n",
    "    def ibukota(self):\n",
    "        print(\"Jakarta adalah ibukota Indonesia.\")\n",
    "        \n",
    "    def bahasa(self):\n",
    "        print(\"Bahasa Indonesia adalah bahasa nasional di Indonesia.\")"
   ]
  },
  {
   "cell_type": "markdown",
   "metadata": {},
   "source": [
    "Kita buat kelas lagi,"
   ]
  },
  {
   "cell_type": "code",
   "execution_count": 13,
   "metadata": {},
   "outputs": [],
   "source": [
    "class Malaysia:\n",
    "    def ibukota(self):\n",
    "        print(\"Kuala Lumpur adalah ibukota Malaysia.\")\n",
    "        \n",
    "    def bahasa(self):\n",
    "        print(\"Bahasa Melayu adalah bahasa nasional di Malaysia.\")"
   ]
  },
  {
   "cell_type": "code",
   "execution_count": 14,
   "metadata": {},
   "outputs": [],
   "source": [
    "ind = Indonesia()\n",
    "mas = Malaysia() "
   ]
  },
  {
   "cell_type": "markdown",
   "metadata": {},
   "source": [
    "Kita buat fungsi untuk menampilkan informasi masing-masing negara."
   ]
  },
  {
   "cell_type": "code",
   "execution_count": 15,
   "metadata": {},
   "outputs": [],
   "source": [
    "def informasi(negara):\n",
    "    negara.ibukota()\n",
    "    negara.bahasa()"
   ]
  },
  {
   "cell_type": "code",
   "execution_count": 16,
   "metadata": {},
   "outputs": [
    {
     "name": "stdout",
     "output_type": "stream",
     "text": [
      "Jakarta adalah ibukota Indonesia.\n",
      "Bahasa Indonesia adalah bahasa nasional di Indonesia.\n"
     ]
    }
   ],
   "source": [
    "informasi(ind)"
   ]
  },
  {
   "cell_type": "code",
   "execution_count": 17,
   "metadata": {},
   "outputs": [
    {
     "name": "stdout",
     "output_type": "stream",
     "text": [
      "Kuala Lumpur adalah ibukota Malaysia.\n",
      "Bahasa Melayu adalah bahasa nasional di Malaysia.\n"
     ]
    }
   ],
   "source": [
    "informasi(mas)"
   ]
  },
  {
   "cell_type": "markdown",
   "metadata": {},
   "source": [
    "Itu adalah beberapa contoh dari polimorfisme."
   ]
  },
  {
   "cell_type": "markdown",
   "metadata": {},
   "source": [
    "___\n",
    "coded with ❤ by [psychohaxer](http://github.com/psychohaxer)\n",
    "___"
   ]
  }
 ],
 "metadata": {
  "kernelspec": {
   "display_name": "Python 3",
   "language": "python",
   "name": "python3"
  },
  "language_info": {
   "codemirror_mode": {
    "name": "ipython",
    "version": 3
   },
   "file_extension": ".py",
   "mimetype": "text/x-python",
   "name": "python",
   "nbconvert_exporter": "python",
   "pygments_lexer": "ipython3",
   "version": "3.8.5"
  }
 },
 "nbformat": 4,
 "nbformat_minor": 4
}
