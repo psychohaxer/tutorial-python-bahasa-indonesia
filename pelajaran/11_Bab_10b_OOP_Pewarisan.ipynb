{
 "cells": [
  {
   "cell_type": "markdown",
   "metadata": {},
   "source": [
    "# Modul Python Bahasa Indonesia\n",
    "## Seri Kesebelas\n",
    "___\n",
    "Coded by psychohaxer | Version 1.1 (2021.01.22)\n",
    "___\n",
    "Notebook ini berisi contoh kode dalam Python sekaligus outputnya sebagai referensi dalam coding. Notebook ini boleh disebarluaskan dan diedit tanpa mengubah atau menghilangkan nama pembuatnya. Selamat belajar dan semoga waktu Anda menyenangkan.\n",
    "\n",
    "Catatan: Modul ini menggunakan Python 3\n",
    "\n",
    "Notebook ini dilisensikan dibawah [MIT License](https://opensource.org/licenses/MIT).\n",
    "___"
   ]
  },
  {
   "cell_type": "markdown",
   "metadata": {},
   "source": [
    "## Bab 10.b Pemrograman Berorientasi Objek Part 2: Pewarisan\n",
    "Modul ini berisi lanjutan dari modul sebelumnya. Kali ini kita akan secara khusus membahas pewarisan, yang dalam OOP lebih dikenal dengan _inheritance_."
   ]
  },
  {
   "cell_type": "markdown",
   "metadata": {},
   "source": [
    "### Apa itu Inheritance?\n",
    "Inheritance adalah cara untuk menggunakan kembali kode dari class yang pernah dibuat. Proses ini bisa dianalogikan seperti anak yang mewarisi karakteristik induknya. Dalam pemrograman berorientasi objek, kita bisa membuat sebuah class anak dari sebuah class induk dimana semua atribut dan method diwarisi oleh class anak.\n",
    "\n",
    "<img src=\"img/inheritance.jpg\">\n",
    "\n",
    "Gambar diatas adalah contoh konsep pewarisan, dimana `class Vehicle` berperan sebagai class dasar yang diwarisi oleh `class Car`, `class Plane`, `class Boat`, dan `class Race Car`. `Class Race Car` adalah class turunan dari `class Car`. Singkatnya, class Car diwarisi oleh class Race Car dan class Vehicle diwarisi semuanya."
   ]
  },
  {
   "cell_type": "markdown",
   "metadata": {},
   "source": [
    "#### Cara Melakukannya..\n",
    "Masih ingat syntax untuk membuat sebuah class?\n",
    "``` Python\n",
    "class NamaKelas(): ## Bisa juga diberi kurung kosong `()` di akhir tapi tidak wajib.\n",
    "    ## Kode    \n",
    "```\n",
    "\n",
    "Nah jika kita akan membuat class turunan atau class anak,\n",
    "``` Python\n",
    "class Anak(Induk):\n",
    "    ## Kode\n",
    "```"
   ]
  },
  {
   "cell_type": "markdown",
   "metadata": {},
   "source": [
    "#### Mencoba dengan Kode\n",
    "Kita gunakan `class Rocket` dari modul sebelumnya untuk membuat class baru."
   ]
  },
  {
   "cell_type": "code",
   "execution_count": 8,
   "metadata": {},
   "outputs": [],
   "source": [
    "class Rocket():\n",
    "    \n",
    "    ## Constructor, berisi kode untuk mengatur koordinat awal roket\n",
    "    def __init__(self):\n",
    "        self.x = 0 ## koordinat x\n",
    "        self.y = 0 ## koordinat y\n",
    "        \n",
    "    ## Method untuk menaikkan posisi roket\n",
    "    def move_up(self, a=1):\n",
    "        self.y += a\n",
    "        \n",
    "    ## Method untuk menurunkan posisi roket\n",
    "    def move_down(self, a=1):\n",
    "        self.y -= a\n",
    "        \n",
    "    ## Method untuk menggeser roket ke kiri\n",
    "    def move_left(self, a=1):\n",
    "        self.x -= a\n",
    "        \n",
    "    ## Method untuk menggeser roket ke kanan\n",
    "    def move_right(self, a=1):\n",
    "        self.x += a\n",
    "        \n",
    "    ## Method untuk menampilkan posisi roket\n",
    "    def print_loc(self):\n",
    "        print('x:', self.x, 'y:', self.y)"
   ]
  },
  {
   "cell_type": "markdown",
   "metadata": {},
   "source": [
    "Disini kita akan memuat class dengan nama Drone yang memiliki method yang sedikit berbeda dengan cara mengubah method yang diwarisi."
   ]
  },
  {
   "cell_type": "code",
   "execution_count": 9,
   "metadata": {},
   "outputs": [],
   "source": [
    "class Drone(Rocket):\n",
    "        \n",
    "    def print_loc(self):\n",
    "        print(\"Location\")\n",
    "        print('| x:', self.x, '| y:', self.y, '|')"
   ]
  },
  {
   "cell_type": "code",
   "execution_count": 10,
   "metadata": {},
   "outputs": [
    {
     "name": "stdout",
     "output_type": "stream",
     "text": [
      "Location\n",
      "| x: -4 | y: 1 |\n"
     ]
    }
   ],
   "source": [
    "scout = Drone()\n",
    "\n",
    "scout.move_left(4)\n",
    "scout.move_up()\n",
    "scout.print_loc()"
   ]
  },
  {
   "cell_type": "markdown",
   "metadata": {},
   "source": [
    "#### Fungsi `super()`\n",
    "Jika kita menambahkan constructor atau `__init__` maka class tersebut tidak akan mewarisi constructor atau `__init__` induknya. Itu juga berlaku untuk method dengan nama yang sama. Bagaimana jika kita ingin constructor atau `__init__` seperti induknya tapi dengan sedikit perubahan tanpa harus mengetik ulang kodenya? Kita bisa menggunakan fungsi `super()`. Untuk contohnya, kita akan menggunakan class Motor sebagai induk dan class Vespa sebagai anak.       "
   ]
  },
  {
   "cell_type": "code",
   "execution_count": 1,
   "metadata": {},
   "outputs": [],
   "source": [
    "class Motor():\n",
    "    def __init__(self, bensin):\n",
    "        self.roda = 2\n",
    "        self.bensin = bensin"
   ]
  },
  {
   "cell_type": "code",
   "execution_count": 2,
   "metadata": {},
   "outputs": [],
   "source": [
    "class Vespa(Motor):\n",
    "    def __init__(self, bensin):\n",
    "        super().__init__(bensin)\n",
    "        print(\"Vespa berhasil dibuat!\")"
   ]
  },
  {
   "cell_type": "code",
   "execution_count": 3,
   "metadata": {},
   "outputs": [
    {
     "name": "stdout",
     "output_type": "stream",
     "text": [
      "Vespa berhasil dibuat!\n"
     ]
    }
   ],
   "source": [
    "vespa = Vespa('pertalite')"
   ]
  },
  {
   "cell_type": "markdown",
   "metadata": {},
   "source": [
    "___\n",
    "## Latihan\n",
    "1. Buatlah class SpaceShip yang mewarisi class Drone!\n",
    "\n",
    "Challenge: Tambahkan atribut fuel dengan nilai awal 100, dimana akan berkurang setiap SpaceShip bergerak."
   ]
  },
  {
   "cell_type": "markdown",
   "metadata": {},
   "source": [
    "___\n",
    "coded with ❤ by [psychohaxer](http://github.com/psychohaxer)\n",
    "___"
   ]
  }
 ],
 "metadata": {
  "kernelspec": {
   "display_name": "Python 3",
   "language": "python",
   "name": "python3"
  },
  "language_info": {
   "codemirror_mode": {
    "name": "ipython",
    "version": 3
   },
   "file_extension": ".py",
   "mimetype": "text/x-python",
   "name": "python",
   "nbconvert_exporter": "python",
   "pygments_lexer": "ipython3",
   "version": "3.8.5"
  }
 },
 "nbformat": 4,
 "nbformat_minor": 4
}
