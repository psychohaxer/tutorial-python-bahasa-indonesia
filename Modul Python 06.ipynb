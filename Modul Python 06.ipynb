{
 "cells": [
  {
   "cell_type": "markdown",
   "metadata": {},
   "source": [
    "# Modul Python Bahasa Indonesia\n",
    "## Seri Keenam\n",
    "___\n",
    "Coded by psychohaxer | Version 1.7 (2020.08.23)\n",
    "___\n",
    "Notebook ini berisi contoh kode dalam Python sekaligus outputnya sebagai referensi dalam coding. Notebook ini boleh disebarluaskan dan diedit tanpa mengubah atau menghilangkan nama pembuatnya. Selamat belajar dan semoga waktu Anda menyenangkan.\n",
    "\n",
    "Catatan: Modul ini menggunakan Python 3\n",
    "\n",
    "[<img src='img/cc-sa.png'>](http://creativecommons.org/licenses/by-sa/4.0/)\n",
    "\n",
    "Notebook ini dilisensikan dibawah [Creative Commons Attribution-ShareAlike 4.0 International License](http://creativecommons.org/licenses/by-sa/4.0/).\n",
    "___"
   ]
  },
  {
   "cell_type": "markdown",
   "metadata": {},
   "source": [
    "## Bab 6 Operasi Khusus pada Tipe Data"
   ]
  },
  {
   "cell_type": "markdown",
   "metadata": {},
   "source": [
    "### 1. Konversi pada Bilangan"
   ]
  },
  {
   "cell_type": "markdown",
   "metadata": {},
   "source": [
    "### 2. Mengakses Elemen String"
   ]
  },
  {
   "cell_type": "markdown",
   "metadata": {},
   "source": [
    "Untuk mengakses item dari list caranya adalah dengan memanggil nama list diikuti indeks dari item yang bersangkutan, yaitu dengan format `namalist[index]`. Selain itu bisa juga dilakukan pengaksesan terhadap sejumlah item dari indeks ke indeks. Hal ini disebut slicing. Contohnya sebagai berikut:\n",
    "\n",
    "<img src='img/list-example.png'>"
   ]
  },
  {
   "cell_type": "code",
   "execution_count": 8,
   "metadata": {},
   "outputs": [
    {
     "name": "stdout",
     "output_type": "stream",
     "text": [
      "Indeks ke-0: 17\n",
      "Indeks ke-1: ['I', 'Love', 'Python']\n",
      "Indeks ke-2: [3.14, 'r', 2]\n",
      "Indeks ke-3: (14+5j)\n",
      "Indeks ke-4: guud\n"
     ]
    }
   ],
   "source": [
    "lst = [17, ['I','Love','Python'], [3.14, 'r', 2], 14+5j, 'guud']\n",
    "##    [0   1                       2              3      4     ]\n",
    "\n",
    "## Mengakses elemen list\n",
    "print('Indeks ke-0:', lst[0])\n",
    "print('Indeks ke-1:', lst[1])\n",
    "print('Indeks ke-2:', lst[2])\n",
    "print('Indeks ke-3:', lst[3])\n",
    "print('Indeks ke-4:', lst[4])"
   ]
  },
  {
   "cell_type": "code",
   "execution_count": 9,
   "metadata": {},
   "outputs": [
    {
     "name": "stdout",
     "output_type": "stream",
     "text": [
      "Indeks terakhir: guud\n",
      "Indeks kedua-terakhir: (14+5j)\n"
     ]
    }
   ],
   "source": [
    "lst = [17, ['I','Love','Python'], [3.14, 'r', 2], 14+5j, 'guud']\n",
    "##    [-5  -4                      -3             -2     -1    ]\n",
    "\n",
    "## List dengan indeks negatif\n",
    "print('Indeks terakhir:', lst[-1])\n",
    "print('Indeks kedua-terakhir:', lst[-2])"
   ]
  },
  {
   "cell_type": "code",
   "execution_count": 11,
   "metadata": {},
   "outputs": [
    {
     "name": "stdout",
     "output_type": "stream",
     "text": [
      "Indeks ke-2 dari list di indeks ke-1: Python\n"
     ]
    }
   ],
   "source": [
    "lst = [17, ['I','Love','Python'], [3.14, 'r', 2], 14+5j, 'guud']\n",
    "##         [0   1      2       ]  [0     1    2]\n",
    "##    [0   1                       2              3      4     ]\n",
    "\n",
    "## Mengakses list dalam list\n",
    "print('Indeks ke-2 dari list di indeks ke-1:', lst[1][2])"
   ]
  },
  {
   "cell_type": "markdown",
   "metadata": {},
   "source": [
    "### 3. Slicing pada List, Tuple, dan Set"
   ]
  },
  {
   "cell_type": "code",
   "execution_count": null,
   "metadata": {},
   "outputs": [],
   "source": []
  }
 ],
 "metadata": {
  "kernelspec": {
   "display_name": "Python 3",
   "language": "python",
   "name": "python3"
  },
  "language_info": {
   "codemirror_mode": {
    "name": "ipython",
    "version": 3
   },
   "file_extension": ".py",
   "mimetype": "text/x-python",
   "name": "python",
   "nbconvert_exporter": "python",
   "pygments_lexer": "ipython3",
   "version": "3.7.6"
  }
 },
 "nbformat": 4,
 "nbformat_minor": 4
}
