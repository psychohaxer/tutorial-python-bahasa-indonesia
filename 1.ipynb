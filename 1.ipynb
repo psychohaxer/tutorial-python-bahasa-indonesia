{
 "cells": [
  {
   "cell_type": "markdown",
   "metadata": {},
   "source": [
    "# Modul Python Bahasa Indonesia\n",
    "## Seri Pertama\n",
    "___\n",
    "Coded by psychohaxer | Version 1.8 (2020.12.13)\n",
    "___\n",
    "Notebook ini berisi contoh kode dalam Python sekaligus outputnya sebagai referensi dalam coding. Notebook ini boleh disebarluaskan dan diedit tanpa mengubah atau menghilangkan nama pembuatnya. Selamat belajar dan semoga waktu Anda menyenangkan.\n",
    "\n",
    "Catatan: Modul ini menggunakan Python 3\n",
    "___"
   ]
  },
  {
   "cell_type": "markdown",
   "metadata": {},
   "source": [
    "## Bab 1 Pendahuluan\n",
    "### Python\n",
    "<img src=\"img/python-logo.png\">\n",
    "\n",
    "Python adalah bahasa pemrograman tingkat tinggi yang mengutamakan keterbacaan kode. Bahasa pemrograman serbaguna ini dapat digunakan pada banyak hal seperti pemrograman berorientasi objek, pemrograman imperatif, dan pemrograman fungsional. Tapi tidak terbatas pada itu saja. Python sering digunakan untuk pengolahan data karena banyaknya library yang tersedia.\n",
    "Singkatnya, Python adalah bahasa pemrograman serbaguna yang mudah dipahami penulisannya. Notebook ini membahas pembelajaran Python versi 3.\n",
    "\n",
    "### Jupyter Notebook\n",
    "<img src=\"img/jupyter-logo.png\">\n",
    "\n",
    "Jupyter Notebook (sebelumnya IPython Notebooks) adalah aplikasi untuk mengembangkan program berbahasa Python. Yang membedakan Jupyter dari IDE lainnya adalah kemampuannya membuat dokumentasi dengan baik, menampilkan dan menyimpan output (termasuk gambar), dan bisa disimpan ke berbagai macam format (PDF, HTML, Latex, juga tentunya file Python). File Jupyter menggunakan ekstensi .ipynb yang didalamnya memuat dokumentasi dan tentu saja kode program termasuk output jika ada dalam bentuk JSON.\n",
    "\n",
    "Kode dalam Jupyter disimpan dalam _cell_ dimana masing-masing cell akan menampilkan outputnya setelah dijalankan jika tersedia. Ini memudahkan proses debugging karena output dapat langsung dilihat, mengingat Python adalah _intepreted language_."
   ]
  },
  {
   "cell_type": "markdown",
   "metadata": {},
   "source": [
    "___\n",
    "coded with ❤ by [psychohaxer](http://github.com/psychohaxer)\n",
    "___"
   ]
  }
 ],
 "metadata": {
  "kernelspec": {
   "display_name": "Python 3",
   "language": "python",
   "name": "python3"
  },
  "language_info": {
   "codemirror_mode": {
    "name": "ipython",
    "version": 3
   },
   "file_extension": ".py",
   "mimetype": "text/x-python",
   "name": "python",
   "nbconvert_exporter": "python",
   "pygments_lexer": "ipython3",
   "version": "3.7.6"
  }
 },
 "nbformat": 4,
 "nbformat_minor": 4
}
