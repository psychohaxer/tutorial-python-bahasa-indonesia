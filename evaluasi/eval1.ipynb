{
 "cells": [
  {
   "cell_type": "markdown",
   "metadata": {},
   "source": [
    "# Modul Python Bahasa Indonesia\n",
    "## Evaluasi 1\n",
    "___\n",
    "Coded by psychohaxer | Version 1.0 (2021.01.23)\n",
    "___\n",
    "Notebook ini berisi contoh kode dalam Python sekaligus outputnya sebagai referensi dalam coding. Notebook ini boleh disebarluaskan dan diedit tanpa mengubah atau menghilangkan nama pembuatnya. Selamat belajar dan semoga waktu Anda menyenangkan.\n",
    "\n",
    "Catatan: Modul ini menggunakan Python 3\n",
    "\n",
    "Notebook ini dilisensikan dibawah [MIT License](https://opensource.org/licenses/MIT).\n",
    "___"
   ]
  },
  {
   "cell_type": "markdown",
   "metadata": {},
   "source": [
    "### Soal 1\n",
    "Diketahui kode program dibawah ini:\n",
    "``` Python\n",
    "pwr = 3\n",
    "ltr = 'asd'\n",
    "\n",
    "print(ltr*pwr)\n",
    "```\n",
    "Output dari kode diatas adalah...\n",
    "\n",
    "|    | Pilihan             |\n",
    "|----|:--------------------|\n",
    "| a. | 'asdasdasd'         |\n",
    "| b. | TypeError           |\n",
    "| c. | 'aaasssddd'         |\n",
    "| d. | Semua jawaban benar |\n",
    "| e. | Semua jawaban salah |"
   ]
  },
  {
   "cell_type": "markdown",
   "metadata": {},
   "source": [
    "### Soal 2\n",
    "Tipe data bilangan yang bisa dikonversi menjadi `complex` antara lain...\n",
    "\n",
    "|    | Pilihan                 |\n",
    "|----|:-----------------------:|\n",
    "| a. | string, integer, float  |\n",
    "| b. | integer, float, complex |\n",
    "| c. | float, integer, double  |\n",
    "| d. | Semua jawaban benar     |\n",
    "| e. | Semua jawaban salah     |"
   ]
  },
  {
   "cell_type": "markdown",
   "metadata": {},
   "source": [
    "### Soal 3\n",
    "Diketahui kode program dibawah ini.\n",
    "``` Python\n",
    "garasi = ['mobil','motor','truk','sepeda','pesawat','kapal','jetski','gerobak']\n",
    "```\n",
    "Jika kita ingin mengambil `'pesawat'`, maka kodenya...\n",
    "\n",
    "|    | Pilihan             |\n",
    "|----|:--------------------|\n",
    "| a. | garasi[3]           |\n",
    "| b. | garasi[4]           |\n",
    "| c. | garasi[5]           |\n",
    "| d. | Semua jawaban benar |\n",
    "| e. | Semua jawaban salah |"
   ]
  },
  {
   "cell_type": "markdown",
   "metadata": {},
   "source": [
    "### Soal 4\n",
    "Diketahui kode program dibawah ini.\n",
    "``` Python\n",
    "garasi = ['mobil','motor','truk','sepeda','pesawat','kapal','jetski','gerobak']\n",
    "```\n",
    "Jika kita ingin mengambil `'truk'`, `'sepeda'`, `'pesawat'`, `'kapal'`, `'jetski'`, maka kodenya...\n",
    "\n",
    "|    | Pilihan             |\n",
    "|----|:--------------------|\n",
    "| a. | garasi[2:6]         |\n",
    "| b. | garasi[2:7]         |\n",
    "| c. | garasi[2:8]         |\n",
    "| d. | Semua jawaban benar |\n",
    "| e. | Semua jawaban salah |"
   ]
  },
  {
   "cell_type": "markdown",
   "metadata": {},
   "source": [
    "#### Soal 5\n",
    "Tujuan dari pemrograman fungsional dan pemrograman berorientasi objek adalah...\n",
    "\n",
    "|    | Pilihan                              |\n",
    "|----|:-------------------------------------|\n",
    "| a. | Menghemat waktu dan tenaga           |\n",
    "| b. | Mempermudah proses debugging         |\n",
    "| c. | Memecah kode menjadi beberapa bagian |\n",
    "| d. | Semua jawaban benar                  |\n",
    "| e. | Semua jawaban salah                  |"
   ]
  },
  {
   "cell_type": "markdown",
   "metadata": {},
   "source": [
    "#### Soal 6\n",
    "Diketahui kode program dibawah ini.\n",
    "``` Python\n",
    "nama_dpn = 'ucok'\n",
    "nama_blk = 'subejo'\n",
    "\n",
    "print(nama_dpn + nama_blk)\n",
    "```\n",
    "\n",
    "Output dari kode diatas adalah...\n",
    "\n",
    "|    | Pilihan             |\n",
    "|----|:--------------------|\n",
    "| a. | ucoksubejo          |\n",
    "| b. | ucok subejo         |\n",
    "| c. | subejo ucok         |\n",
    "| d. | Semua jawaban benar |\n",
    "| e. | Semua jawaban salah |"
   ]
  },
  {
   "cell_type": "markdown",
   "metadata": {},
   "source": [
    "#### Soal 7\n",
    "Diketahui variabel `a` bernilai `True`, dan variabel `b` bernilai `False`. Hasil dari:\n",
    "``` Python\n",
    "print(a and (a or b))\n",
    "```\n",
    "\n",
    "|    | Pilihan             |\n",
    "|----|:--------------------|\n",
    "| a. | True                |\n",
    "| b. | False               |\n",
    "| c. | TypeError           |\n",
    "| d. | Semua jawaban benar |\n",
    "| e. | Semua jawaban salah |"
   ]
  },
  {
   "cell_type": "markdown",
   "metadata": {},
   "source": [
    "#### Soal 8\n",
    "Diketahui variabel `a` bernilai `True`, dan variabel `b` bernilai `False`. Hasil dari:\n",
    "``` Python\n",
    "print(a or (not b))\n",
    "```\n",
    "\n",
    "|    | Pilihan             |\n",
    "|----|:--------------------|\n",
    "| a. | True                |\n",
    "| b. | False               |\n",
    "| c. | TypeError           |\n",
    "| d. | Semua jawaban benar |\n",
    "| e. | Semua jawaban salah |"
   ]
  },
  {
   "cell_type": "markdown",
   "metadata": {},
   "source": [
    "#### Soal 9\n",
    "Diketahui variabel `a` bernilai `True`, dan variabel `b` bernilai `False`. Hasil dari:\n",
    "``` Python\n",
    "print(a not b)\n",
    "```\n",
    "\n",
    "|    | Pilihan             |\n",
    "|----|:--------------------|\n",
    "| a. | True                |\n",
    "| b. | False               |\n",
    "| c. | SyntaxError         |\n",
    "| d. | Semua jawaban benar |\n",
    "| e. | Semua jawaban salah |"
   ]
  },
  {
   "cell_type": "markdown",
   "metadata": {},
   "source": [
    "#### Soal 10\n",
    "Diketahui sebuah class dengan kode berikut:\n",
    "``` Python\n",
    "## Kode berikut untuk soal 10-15\n",
    "class Lecturer:\n",
    "    \n",
    "    def __init__(self,name):\n",
    "        self.__name = name\n",
    "        print(\"Lecturer name is\", name)\n",
    "        \n",
    "    def setCompany(self,institute):\n",
    "        self.__institute = institute\n",
    "        \n",
    "    def displayInfo(self):\n",
    "        print(\"My name is\", self.__name, \"from\", self.__institute)\n",
    "        \n",
    "    def SetName(self,name):\n",
    "        self.__name = name\n",
    "        print(\"Name has been changed to\", name)\n",
    "        \n",
    "    def SetInstitute(self,name):\n",
    "        self.__institute = institute\n",
    "        print(\"Institute has been changed to\", institute)\n",
    "        \n",
    "    def GetName(self):\n",
    "        return self.__name\n",
    "    \n",
    "    def GetInstitute(self):\n",
    "        return self.__institute\n",
    "```\n",
    "\n",
    "Kode yang tepat untuk membuat objek dari class diatas adalah...\n",
    "\n",
    "|    | Pilihan                              |\n",
    "|----|:-------------------------------------|\n",
    "| a. | lecturer = Lecturer()                |\n",
    "| b. | lecturer = Lecturer(\"Nasya\")         |\n",
    "| c. | lecturer = Lecturer(\"Nasya\",\"PNNPL\") |\n",
    "| d. | Semua jawaban benar                  |\n",
    "| e. | Semua jawaban salah                  |"
   ]
  },
  {
   "cell_type": "markdown",
   "metadata": {},
   "source": [
    "#### Soal 11\n",
    "Atribut `__name` memiliki tipe...\n",
    "\n",
    "|    | Pilihan             |\n",
    "|----|:--------------------|\n",
    "| a. | Local               |\n",
    "| b. | Public              |\n",
    "| c. | Private             |\n",
    "| d. | Semua jawaban benar |\n",
    "| e. | Semua jawaban salah |"
   ]
  },
  {
   "cell_type": "markdown",
   "metadata": {},
   "source": [
    "#### Soal 12\n",
    "Method `__init__` merupakan...\n",
    "\n",
    "|    | Pilihan             |\n",
    "|----|:--------------------|\n",
    "| a. | Setter              |\n",
    "| b. | Getter              |\n",
    "| c. | Constructor         |\n",
    "| d. | Semua jawaban benar |\n",
    "| e. | Semua jawaban salah |"
   ]
  },
  {
   "cell_type": "markdown",
   "metadata": {},
   "source": [
    "#### Soal 13\n",
    "Kode yang benar untuk mengakses atribut `__institute` adalah...\n",
    "\n",
    "|    | Pilihan                 |\n",
    "|----|:------------------------|\n",
    "| a. | lecturer.__institute    |\n",
    "| b. | lecturer.GetInstitute() |\n",
    "| c. | lecturer.SetInstitute() |\n",
    "| d. | Semua jawaban benar     |\n",
    "| e. | Semua jawaban salah     |"
   ]
  },
  {
   "cell_type": "markdown",
   "metadata": {},
   "source": [
    "#### Soal 14\n",
    "Jika kita hendak membuat class `Dosen` yang merupakan turunan dari `Lecturer`, syntax yang tepat untuk memulainya adalah...\n",
    "\n",
    "|    | Pilihan                |\n",
    "|----|:-----------------------|\n",
    "| a. | dosen = Lecturer()     |\n",
    "| b. | class Dosen(Lecturer): |\n",
    "| c. | class Lecturer(Dosen): |\n",
    "| d. | Semua jawaban benar    |\n",
    "| e. | Semua jawaban salah    |"
   ]
  },
  {
   "cell_type": "markdown",
   "metadata": {},
   "source": [
    "#### Soal 15\n",
    "Jika kita mau menambahkan kode pada `constructor` class Dosen, cara yang paling mengikuti konsep DRY adalah...\n",
    "\n",
    "|    | Pilihan                                                               |\n",
    "|----|:----------------------------------------------------------------------|\n",
    "| a. | Mengetik tambahannya di method `__init__`                             |\n",
    "| b. | Mengetik tambahannya di method `__init__` setelah `super().__init__`  |\n",
    "| c. | Mengetik tambahannya di method `__init__` setelah `Lecturer.__init__` |\n",
    "| d. | Semua jawaban benar                                                   |\n",
    "| e. | Semua jawaban salah                                                   |"
   ]
  },
  {
   "cell_type": "markdown",
   "metadata": {},
   "source": [
    "___\n",
    "coded with ❤ by [psychohaxer](http://github.com/psychohaxer)\n",
    "___"
   ]
  }
 ],
 "metadata": {
  "kernelspec": {
   "display_name": "Python 3",
   "language": "python",
   "name": "python3"
  },
  "language_info": {
   "codemirror_mode": {
    "name": "ipython",
    "version": 3
   },
   "file_extension": ".py",
   "mimetype": "text/x-python",
   "name": "python",
   "nbconvert_exporter": "python",
   "pygments_lexer": "ipython3",
   "version": "3.7.6"
  }
 },
 "nbformat": 4,
 "nbformat_minor": 4
}
