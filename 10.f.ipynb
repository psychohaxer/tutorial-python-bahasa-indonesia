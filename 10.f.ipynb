{
 "cells": [
  {
   "cell_type": "markdown",
   "metadata": {},
   "source": [
    "# Modul Python Bahasa Indonesia\n",
    "## Seri Kelimabelas\n",
    "___\n",
    "Coded by psychohaxer | Version 1.0 (2021.03.04)\n",
    "___\n",
    "Notebook ini berisi contoh kode dalam Python sekaligus outputnya sebagai referensi dalam coding. Notebook ini boleh disebarluaskan dan diedit tanpa mengubah atau menghilangkan nama pembuatnya. Selamat belajar dan semoga waktu Anda menyenangkan.\n",
    "\n",
    "Catatan: Modul ini menggunakan Python 3\n",
    "\n",
    "Notebook ini dilisensikan dibawah [MIT License](https://opensource.org/licenses/MIT).\n",
    "___"
   ]
  },
  {
   "cell_type": "markdown",
   "metadata": {},
   "source": [
    "## Bab 10.f Pemrograman Berorientasi Objek Part 5: Magic Method\n",
    "Magic Method adalah method bawaan Python yang fungsinya melakukan tugas tertentu. Salah satu contohnya adalah `__init__` yang berfungsi sebagai constructor. Selain itu masih ada magic method lainnya."
   ]
  },
  {
   "cell_type": "markdown",
   "metadata": {},
   "source": [
    "### Magic Method `__str__` dan `__repr__`\n",
    "Magic method `__str__` digunakan untuk mengganti tampilan objek ketika dipanggil. Secara default, ketika kita memanggil objek secara langsung dengan fungsi `print`, kita akan mendapatkan referensi memorinya.\n",
    "\n",
    "Dengan magic method `__str__`, kita bisa mendapatkan output yang lebih user-friendly.\n",
    "\n",
    "Sedangkan `__repr__` seperti method sebelumnya tapi untuk developer.\n",
    "\n",
    "Dibawah ini kita punya dua class sebagai contoh."
   ]
  },
  {
   "cell_type": "code",
   "execution_count": 96,
   "metadata": {},
   "outputs": [],
   "source": [
    "class Astrea:\n",
    "\n",
    "    def __init__(self, warna, tahun):\n",
    "        self.warna = warna\n",
    "        self.tahun = tahun"
   ]
  },
  {
   "cell_type": "code",
   "execution_count": 97,
   "metadata": {},
   "outputs": [
    {
     "name": "stdout",
     "output_type": "stream",
     "text": [
      "<__main__.Astrea object at 0x0000021041D949D0>\n"
     ]
    }
   ],
   "source": [
    "ast = Astrea(\"Hitam\", 1998)\n",
    "print(ast)"
   ]
  },
  {
   "cell_type": "code",
   "execution_count": 120,
   "metadata": {},
   "outputs": [],
   "source": [
    "class Supra(Astrea):\n",
    "        \n",
    "    def __str__(self):\n",
    "        return f\"Supra {self.warna} tahun {self.tahun}\"\n",
    "    \n",
    "    def __repr__(self):\n",
    "        return f\"warna={self.warna}, tahun={self.tahun}\""
   ]
  },
  {
   "cell_type": "code",
   "execution_count": 121,
   "metadata": {},
   "outputs": [
    {
     "name": "stdout",
     "output_type": "stream",
     "text": [
      "Supra Merah tahun 2009\n"
     ]
    }
   ],
   "source": [
    "spr = Supra(\"Merah\", 2009)\n",
    "print(spr)"
   ]
  },
  {
   "cell_type": "code",
   "execution_count": 122,
   "metadata": {},
   "outputs": [
    {
     "name": "stdout",
     "output_type": "stream",
     "text": [
      "Supra Merah tahun 2009\n",
      "warna=Merah, tahun=2009\n"
     ]
    }
   ],
   "source": [
    "print(str(spr))\n",
    "print(repr(spr))"
   ]
  },
  {
   "cell_type": "markdown",
   "metadata": {},
   "source": [
    "### Magic Method `__getattribute__` dan `__getattr__`\n",
    "`__getattribute__` dijalankan ketika kita memanggil atribut dari suatu objek. Ingat: Kita tidak bisa memanggil atribut secara langsung kecuali kita membuat perulangan rekursif.\n",
    "\n",
    "Sedangkan `__getattr__` baru dijalankan ketika `__getattribute__` gagal mencari atribut. Ini bisa digunakan untuk membuat method on-the-fly!"
   ]
  },
  {
   "cell_type": "code",
   "execution_count": 101,
   "metadata": {},
   "outputs": [],
   "source": [
    "class SupraX125(Supra):\n",
    "    \n",
    "    ## magic method ini akan menambah 5 pada tahun ketika dipanggil\n",
    "    def __getattribute__(self, nama):\n",
    "        if (nama == \"tahun\"):\n",
    "            th = super().__getattribute__(\"tahun\")\n",
    "            return th + 5\n",
    "        return super().__getattribute__(nama)\n",
    "    \n",
    "    ## magic method ini akan memberitahu jika atribut yang dipanggil tidak ada\n",
    "    def __getattr__(self, nama):\n",
    "        print(\"Atribut\", nama, \"tidak ada!\")"
   ]
  },
  {
   "cell_type": "code",
   "execution_count": 102,
   "metadata": {},
   "outputs": [
    {
     "data": {
      "text/plain": [
       "2015"
      ]
     },
     "execution_count": 102,
     "metadata": {},
     "output_type": "execute_result"
    }
   ],
   "source": [
    "sprx = SupraX125(\"Merah\", 2010)\n",
    "sprx.tahun"
   ]
  },
  {
   "cell_type": "code",
   "execution_count": 103,
   "metadata": {},
   "outputs": [
    {
     "name": "stdout",
     "output_type": "stream",
     "text": [
      "Atribut pajak tidak ada!\n"
     ]
    }
   ],
   "source": [
    "sprx.pajak"
   ]
  },
  {
   "cell_type": "markdown",
   "metadata": {},
   "source": [
    "### Magic Method `__call__`\n",
    "Magic method satu ini memungkinkan kita untuk mengubah atribut ketika objek dipanggil. Cara kerjanya seperti ketika kita memberikan atribut melalui constructor atau `__init__`."
   ]
  },
  {
   "cell_type": "code",
   "execution_count": 104,
   "metadata": {},
   "outputs": [],
   "source": [
    "class SupraY(SupraX125):\n",
    "    \n",
    "    ## method ini akan mengubah atribut ketika objek dipanggil\n",
    "    def __call__(self, warna, tahun):\n",
    "        self.warna = warna\n",
    "        self.tahun = tahun\n",
    "        \n",
    "        print(\"Warna diubah menjadi\", self.warna, \"dan tahun menjadi\", self.tahun)"
   ]
  },
  {
   "cell_type": "code",
   "execution_count": 105,
   "metadata": {},
   "outputs": [
    {
     "name": "stdout",
     "output_type": "stream",
     "text": [
      "Supra Hijau tahun 2017\n"
     ]
    }
   ],
   "source": [
    "spry = SupraY(\"Hijau\", 2012)\n",
    "print(spry)"
   ]
  },
  {
   "cell_type": "code",
   "execution_count": 106,
   "metadata": {},
   "outputs": [
    {
     "name": "stdout",
     "output_type": "stream",
     "text": [
      "Warna diubah menjadi Biru dan tahun menjadi 2015\n"
     ]
    }
   ],
   "source": [
    "spry(\"Biru\", 2010)"
   ]
  },
  {
   "cell_type": "markdown",
   "metadata": {},
   "source": [
    "### Magic Method `__eq__`, `__ge__`, dan `__lt__`\n",
    "Pernah terpikir untuk membandingkan dua objek dengan atribut yang sama persis? Mari kota coba menggunakan class SupraY."
   ]
  },
  {
   "cell_type": "code",
   "execution_count": 107,
   "metadata": {},
   "outputs": [],
   "source": [
    "spry1 = SupraY(\"Hijau\", 2012)\n",
    "spry2 = SupraY(\"Hijau\", 2012)"
   ]
  },
  {
   "cell_type": "code",
   "execution_count": 108,
   "metadata": {},
   "outputs": [
    {
     "name": "stdout",
     "output_type": "stream",
     "text": [
      "Supra Hijau tahun 2017\n",
      "Supra Hijau tahun 2017\n"
     ]
    }
   ],
   "source": [
    "print(spry1)\n",
    "print(spry2)"
   ]
  },
  {
   "cell_type": "code",
   "execution_count": 109,
   "metadata": {},
   "outputs": [
    {
     "data": {
      "text/plain": [
       "False"
      ]
     },
     "execution_count": 109,
     "metadata": {},
     "output_type": "execute_result"
    }
   ],
   "source": [
    "spry1 == spry2"
   ]
  },
  {
   "cell_type": "markdown",
   "metadata": {},
   "source": [
    "Mengapa demikian? Padahal keduanya beratribut sama persis. Karena secara default, Python menganggap keduanya adalah dua objek yang berbeda. Analoginya seperti anak kembar. Meskipun keduanya memiliki karakteristik yang sama, tetap saja mereka adalah dua orang yang berbeda.\n",
    "\n",
    "Dengan magic method `__eq__`, `__ge__`, dan `__lt__` kita bisa membandingkan dua objek dengan melihat atributnya."
   ]
  },
  {
   "cell_type": "code",
   "execution_count": 110,
   "metadata": {},
   "outputs": [],
   "source": [
    "class SupraZ(SupraY):\n",
    "    \n",
    "    ## memeriksa kesamaan diantara dua objek \n",
    "    def __eq__(self, objek):\n",
    "        if not isinstance(objek, SupraZ): ## isinstance akan mengembalikan True jika yang dibandingkan dari class yang sama.\n",
    "            ## memunculkan ValueError jika kondisi terpenuhi\n",
    "            raise ValueError(\"Tidak bisa membandingkan dengan benda selain SupraZ!\")\n",
    "            \n",
    "        return ((self.warna == objek.warna) and (self.tahun == objek.tahun))\n",
    "    \n",
    "    ## membuat perbandingan >= dengan objek lain\n",
    "    def __ge__(self, objek):\n",
    "        if not isinstance(objek, SupraZ):\n",
    "            raise ValueError(\"Tidak bisa membandingkan dengan benda selain SupraZ!\")\n",
    "            \n",
    "        return self.tahun >= objek.tahun\n",
    "            \n",
    "    ## membuat perbandingan <= dengan objek lain\n",
    "    def __ge__(self, objek):\n",
    "        if not isinstance(objek, SupraZ):\n",
    "            raise ValueError(\"Tidak bisa membandingkan dengan benda selain SupraZ!\")\n",
    "            \n",
    "        return self.tahun <= objek.tahun"
   ]
  },
  {
   "cell_type": "code",
   "execution_count": 111,
   "metadata": {},
   "outputs": [],
   "source": [
    "sprz1 = SupraZ(\"Merah\", 2012)\n",
    "sprz2 = SupraZ(\"Hijau\", 2014)\n",
    "sprz3 = SupraZ(\"Merah\", 2012)\n",
    "sprz4 = SupraZ(\"Hijau\", 2013)\n",
    "sprz5 = SupraZ(\"Merah\", 2015)"
   ]
  },
  {
   "cell_type": "code",
   "execution_count": 112,
   "metadata": {},
   "outputs": [
    {
     "data": {
      "text/plain": [
       "False"
      ]
     },
     "execution_count": 112,
     "metadata": {},
     "output_type": "execute_result"
    }
   ],
   "source": [
    "sprz1 == sprz2"
   ]
  },
  {
   "cell_type": "code",
   "execution_count": 113,
   "metadata": {},
   "outputs": [
    {
     "data": {
      "text/plain": [
       "True"
      ]
     },
     "execution_count": 113,
     "metadata": {},
     "output_type": "execute_result"
    }
   ],
   "source": [
    "sprz1 == sprz3"
   ]
  },
  {
   "cell_type": "code",
   "execution_count": 114,
   "metadata": {},
   "outputs": [
    {
     "data": {
      "text/plain": [
       "True"
      ]
     },
     "execution_count": 114,
     "metadata": {},
     "output_type": "execute_result"
    }
   ],
   "source": [
    "sprz1 >= sprz5"
   ]
  },
  {
   "cell_type": "code",
   "execution_count": 115,
   "metadata": {},
   "outputs": [
    {
     "data": {
      "text/plain": [
       "False"
      ]
     },
     "execution_count": 115,
     "metadata": {},
     "output_type": "execute_result"
    }
   ],
   "source": [
    "sprz2 >= sprz4"
   ]
  },
  {
   "cell_type": "markdown",
   "metadata": {},
   "source": [
    "#### Tips\n",
    "Cara mudah untuk menghafal ketiga magic method tersebut:\n",
    "\n",
    "+ `__eq__` = equal\n",
    "+ `__ge__` = greater equal\n",
    "+ `__lt__` = less than"
   ]
  },
  {
   "cell_type": "code",
   "execution_count": null,
   "metadata": {},
   "outputs": [],
   "source": []
  }
 ],
 "metadata": {
  "kernelspec": {
   "display_name": "Python 3",
   "language": "python",
   "name": "python3"
  },
  "language_info": {
   "codemirror_mode": {
    "name": "ipython",
    "version": 3
   },
   "file_extension": ".py",
   "mimetype": "text/x-python",
   "name": "python",
   "nbconvert_exporter": "python",
   "pygments_lexer": "ipython3",
   "version": "3.8.5"
  }
 },
 "nbformat": 4,
 "nbformat_minor": 4
}
